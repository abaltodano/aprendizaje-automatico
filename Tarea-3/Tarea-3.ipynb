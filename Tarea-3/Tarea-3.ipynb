{
  "nbformat": 4,
  "nbformat_minor": 0,
  "metadata": {
    "colab": {
      "name": "Tarea-3.ipynb",
      "provenance": [],
      "collapsed_sections": []
    },
    "kernelspec": {
      "name": "python3",
      "display_name": "Python 3"
    },
    "language_info": {
      "name": "python"
    }
  },
  "cells": [
    {
      "cell_type": "markdown",
      "metadata": {
        "id": "9CAqN6dDzqfQ"
      },
      "source": [
        "# Tarea #3 - Métodos supervisados\n",
        "\n",
        "Alejandro Baltodano Madrigal, carné: 200928915\n",
        "\n",
        "Fernando González Mata, cédula: 115400523"
      ]
    },
    {
      "cell_type": "markdown",
      "metadata": {
        "id": "LubdzFg-ovfu"
      },
      "source": [
        "#Métricas para evaluar modelos de aprendizaje supervisado"
      ]
    },
    {
      "cell_type": "markdown",
      "metadata": {
        "id": "Bx8uyYrbqTJE"
      },
      "source": [
        "#Ejemplo modelo regresión\n",
        "\n",
        "En regresión el rendimiento de un modelo se basa en reportar el error en predicciones hechas por el modelo, se busca calcular qué tan cerca estuvieron las predicciones a los valores esperados."
      ]
    },
    {
      "cell_type": "code",
      "metadata": {
        "colab": {
          "base_uri": "https://localhost:8080/"
        },
        "id": "mjjTSN_omvJX",
        "outputId": "07889137-c52f-48c4-96f7-d1dc8611cf9b"
      },
      "source": [
        "from sklearn import datasets, metrics\n",
        "from sklearn.model_selection import train_test_split\n",
        "from sklearn.linear_model import LinearRegression\n",
        "\n",
        "iris = datasets.load_iris()\n",
        "\n",
        "X_train, X_test, y_train, y_test = train_test_split(iris.data, iris.target, test_size = 0.2, random_state = 0)\n",
        "\n",
        "clf = LinearRegression()\n",
        "clf.fit(X_train, y_train)\n",
        "score = clf.score(X_train,y_train)\n",
        "\n",
        "print(\"Métrica del modelo\", score)\n",
        "preds = clf.predict(X_test)"
      ],
      "execution_count": null,
      "outputs": [
        {
          "output_type": "stream",
          "name": "stdout",
          "text": [
            "Métrica del modelo 0.9340217779843487\n"
          ]
        }
      ]
    },
    {
      "cell_type": "markdown",
      "metadata": {
        "id": "6kSjXGSlGc8h"
      },
      "source": [
        "##Error medio cuadrado o Mean Squared Error (MSE)\n",
        "\n",
        "MSE es el promedio de los cuadrados de los errores. Entre más grande el número más grande el error. Error en este caso significa la diferencia entre los valores observados y los valores predichos. La resta se eleva el cuadrado para evitar que se cancelen números negativos con positivos.\n",
        "\n",
        "Entre más bajo sea el valor obtenido mejor es el modelo, significando 0 que el modelo es perfecto. MSE es susceptible a valores atípicos generando errores de error más grandes.\n",
        "\n",
        "Un buen ejemplo para el uso de MSE es en la predicción de la temperatura en futuros días con base en observaciones obtenidas previamente, ya que las temperaturas tienden a seguir valores cercanos a la media."
      ]
    },
    {
      "cell_type": "code",
      "metadata": {
        "colab": {
          "base_uri": "https://localhost:8080/"
        },
        "id": "0UfOfvJuIhdn",
        "outputId": "f5f93545-f3ef-4c94-ec15-5631d44cdc9c"
      },
      "source": [
        "from sklearn.metrics import mean_squared_error\n",
        "\n",
        "mse = mean_squared_error(y_test, preds)\n",
        "mse"
      ],
      "execution_count": null,
      "outputs": [
        {
          "output_type": "execute_result",
          "data": {
            "text/plain": [
              "0.05092322206134322"
            ]
          },
          "metadata": {},
          "execution_count": 2
        }
      ]
    },
    {
      "cell_type": "markdown",
      "metadata": {
        "id": "GiCGPJvpGdJ-"
      },
      "source": [
        "##Error cuadrático medio o Root Mean Square Error (RMSE)\n",
        "\n",
        "Esta métrica es una extensión a MSE. Es importante destacar que se calcula la raíz cuadrada del error, lo que significa que las unidades del RMSE son las mismas que las unidades originales del valor objetivo que se predice.\n",
        "\n",
        "Es común utilizar MSE para entrenar un modelo, y RMSE para evaluar y reportar el rendimiento del modelo.\n",
        "\n",
        "Al ser una extensión de MSE, este método es susceptible a valores atípicos.\n",
        "\n",
        "Un buen ejemplo para el uso de RMSE es en la predicción de precios de un producto con base en los últimos precios del mismo."
      ]
    },
    {
      "cell_type": "code",
      "metadata": {
        "colab": {
          "base_uri": "https://localhost:8080/"
        },
        "id": "EcpJ0CvtIh_I",
        "outputId": "a3a6a635-0c01-4231-84eb-92744e69900e"
      },
      "source": [
        "import math\n",
        "\n",
        "rmse = math.sqrt(mse)\n",
        "rmse"
      ],
      "execution_count": null,
      "outputs": [
        {
          "output_type": "execute_result",
          "data": {
            "text/plain": [
              "0.22566174257357674"
            ]
          },
          "metadata": {},
          "execution_count": 3
        }
      ]
    },
    {
      "cell_type": "markdown",
      "metadata": {
        "id": "k2zuqqgnGdSY"
      },
      "source": [
        "##Error absoluto medio o mean absolute error (MAE)\n",
        "\n",
        "Es decir, MSE y RMSE castigan los errores más grandes que los errores más pequeños, inflando o magnificando la puntuación de error media. Esto se debe al cuadrado del valor de error. El MAE no da más o menos peso a los diferentes tipos de errores y, en cambio, las puntuaciones aumentan linealmente con los aumentos del error, por lo que no es susceptible a valores atípicos.\n",
        "\n",
        "Como sugiere su nombre, la puntuación MAE se calcula como el promedio de los valores de error absoluto.\n",
        "\n",
        "Un ejemplo puede ser la predicción de la inflación para diversos países, ya que en crisis el valor de la inflación puede cambiar drásticamente."
      ]
    },
    {
      "cell_type": "code",
      "metadata": {
        "colab": {
          "base_uri": "https://localhost:8080/"
        },
        "id": "LbTbWWkSIigB",
        "outputId": "fc17bfe2-c670-4af5-b362-998ea0306c48"
      },
      "source": [
        "from sklearn.metrics import mean_absolute_error\n",
        "\n",
        "mae = mean_absolute_error(y_test, preds)\n",
        "mae"
      ],
      "execution_count": null,
      "outputs": [
        {
          "output_type": "execute_result",
          "data": {
            "text/plain": [
              "0.186417079956073"
            ]
          },
          "metadata": {},
          "execution_count": 4
        }
      ]
    },
    {
      "cell_type": "markdown",
      "metadata": {
        "id": "KPT0I1NsWFyb"
      },
      "source": [
        "##Puntuación R2\n",
        "\n",
        "La puntuación R2 varía entre 0-1, siendo 1 el mejor valor que se le otorga a un modelo. Se basa en la correlación entre el valor predicho y el valor actual. No es susceptible a valores atípicos.\n",
        "\n",
        "Un ejemplo de R2 puede ser en la estimación del precio de la moneda extranjera."
      ]
    },
    {
      "cell_type": "code",
      "metadata": {
        "colab": {
          "base_uri": "https://localhost:8080/"
        },
        "id": "Lmdn-u16WklQ",
        "outputId": "2a7731eb-c4c5-43a9-ff73-3823a25a3bac"
      },
      "source": [
        "from sklearn.metrics import r2_score\n",
        "\n",
        "r2 = r2_score(y_test, preds)\n",
        "r2"
      ],
      "execution_count": null,
      "outputs": [
        {
          "output_type": "execute_result",
          "data": {
            "text/plain": [
              "0.9055032992676105"
            ]
          },
          "metadata": {},
          "execution_count": 5
        }
      ]
    },
    {
      "cell_type": "markdown",
      "metadata": {
        "id": "mdmBQVVT-wXI"
      },
      "source": [
        "#Ejemplo modelo clasificación\n",
        "\n"
      ]
    },
    {
      "cell_type": "code",
      "metadata": {
        "colab": {
          "base_uri": "https://localhost:8080/"
        },
        "id": "QIRfXQHXzrho",
        "outputId": "2c7313cf-6cef-45f7-b3d0-2988902905d0"
      },
      "source": [
        "from sklearn.neighbors import KNeighborsClassifier\n",
        "cancer = datasets.load_breast_cancer()\n",
        "\n",
        "X_train, X_test, y_train, y_test = train_test_split(cancer.data, cancer.target, test_size = 0.2, random_state = 0)\n",
        "\n",
        "clf = KNeighborsClassifier()\n",
        "clf.fit(X_train, y_train)\n",
        "score = clf.score(X_train,y_train)\n",
        "\n",
        "print(\"Metrica del modelo\", score)\n",
        "preds = clf.predict(X_test)"
      ],
      "execution_count": null,
      "outputs": [
        {
          "output_type": "stream",
          "name": "stdout",
          "text": [
            "Metrica del modelo 0.9494505494505494\n"
          ]
        }
      ]
    },
    {
      "cell_type": "markdown",
      "metadata": {
        "id": "3Pb2hwmpo5Tn"
      },
      "source": [
        "##Validación cruzada\n",
        "Los métodos de validación, también conocidos como resampling, son estrategias que permiten estimar la capacidad predictiva de los modelos cuando se aplican a nuevas observaciones, haciendo uso únicamente de los datos de entrenamiento. La idea en la que se basan todos ellos es la siguiente: el modelo se ajusta empleando un subconjunto de observaciones del conjunto de entrenamiento y se evalúa (calcular una métrica que mida cómo de bueno es el modelo, por ejemplo, accuracy) con las observaciones restantes. Este proceso se repite múltiples veces y los resultados se agregan y promedian."
      ]
    },
    {
      "cell_type": "markdown",
      "metadata": {
        "id": "k29pBFoVpueA"
      },
      "source": [
        "###k-Fold-Cross-Validation (CV) \n",
        "Las observaciones de entrenamiento se reparten en k folds (conjuntos) del mismo tamaño. El modelo se ajusta con todas las observaciones excepto las del primer fold y se evalúa prediciendo las observaciones del fold que ha quedado excluido, obteniendo así la primera métrica. El proceso se repite k veces, excluyendo un fold distinto en cada iteración. Al final, se generan k valores de la métrica, que se agregan (normalmente con la media y la desviación típica) generando la estimación final de validación.\n",
        "\n",
        "**from sklearn.model_selection import KFold**"
      ]
    },
    {
      "cell_type": "code",
      "metadata": {
        "colab": {
          "base_uri": "https://localhost:8080/"
        },
        "id": "xx_XsxWxqgWR",
        "outputId": "42e2fe2d-6421-44a0-9650-f80f00ed1cb1"
      },
      "source": [
        "from sklearn.model_selection import cross_val_score\n",
        "from sklearn.model_selection import KFold\n",
        "\n",
        "kf = KFold(n_splits = 5)\n",
        "scores = cross_val_score(clf, X_train, y_train, cv=kf, scoring=\"accuracy\")\n",
        "\n",
        "print(\"Metricas cross_validation\", scores)\n",
        "print(\"Media de cross_validation\", scores.mean())"
      ],
      "execution_count": null,
      "outputs": [
        {
          "output_type": "stream",
          "name": "stdout",
          "text": [
            "Metricas cross_validation [0.95604396 0.9010989  0.87912088 0.91208791 0.93406593]\n",
            "Media de cross_validation 0.9164835164835164\n"
          ]
        }
      ]
    },
    {
      "cell_type": "markdown",
      "metadata": {
        "id": "Dr1unAdureQv"
      },
      "source": [
        "###Leave-One-Out Cross-Validation (LOOCV)\n",
        "LOOCV es un caso especial de k-Fold-Cross-Validation en el que el número k de folds es igual al número de observaciones disponibles en el conjunto de entrenamiento. El modelo se ajusta cada vez con todas las observaciones excepto una, que se emplea para evaluar el modelo. Este método supone un coste computacional muy elevado, el modelo se ajusta tantas veces como observaciones de entrenamiento, por lo que, en la práctica, no suele compensar emplearlo.\n",
        "\n",
        "**from sklearn.model_selection import LeaveOneOut**"
      ]
    },
    {
      "cell_type": "code",
      "metadata": {
        "colab": {
          "base_uri": "https://localhost:8080/"
        },
        "id": "Rk2SAVj2na-Q",
        "outputId": "49cc9e72-976c-401f-b0e2-d5e66d8fc058"
      },
      "source": [
        "from sklearn.model_selection import LeaveOneOut\n",
        "\n",
        "LOOCV = LeaveOneOut()\n",
        "LOOCV.get_n_splits(iris.data)\n",
        "scores = cross_val_score(clf, X_train, y_train, cv=LOOCV, scoring=\"accuracy\")\n",
        "\n",
        "print(\"Metricas cross_validation\", scores)\n",
        "print(\"Media de cross_validation\", scores.mean())"
      ],
      "execution_count": null,
      "outputs": [
        {
          "output_type": "stream",
          "name": "stdout",
          "text": [
            "Metricas cross_validation [1. 1. 0. 1. 1. 1. 1. 1. 0. 1. 1. 1. 1. 1. 1. 1. 1. 1. 1. 1. 1. 1. 1. 1.\n",
            " 1. 1. 1. 1. 1. 1. 1. 1. 1. 1. 1. 1. 1. 1. 1. 1. 1. 1. 1. 1. 1. 1. 1. 1.\n",
            " 1. 1. 1. 1. 1. 1. 1. 1. 1. 1. 1. 1. 1. 1. 1. 1. 1. 1. 1. 1. 1. 1. 1. 1.\n",
            " 1. 1. 1. 1. 1. 1. 1. 1. 1. 1. 1. 1. 1. 0. 1. 1. 1. 1. 1. 1. 1. 1. 1. 1.\n",
            " 1. 1. 1. 1. 1. 1. 1. 1. 1. 1. 1. 1. 1. 1. 1. 1. 1. 1. 1. 1. 0. 1. 1. 1.\n",
            " 1. 1. 1. 0. 1. 0. 1. 1. 1. 1. 1. 0. 1. 0. 1. 1. 0. 1. 0. 1. 1. 0. 1. 1.\n",
            " 1. 1. 1. 1. 1. 1. 1. 1. 1. 1. 1. 1. 1. 1. 1. 1. 1. 1. 1. 1. 1. 1. 1. 1.\n",
            " 0. 1. 1. 1. 1. 1. 1. 1. 1. 0. 1. 1. 1. 1. 1. 1. 1. 1. 0. 1. 1. 1. 1. 1.\n",
            " 1. 1. 1. 0. 1. 1. 1. 1. 1. 1. 1. 1. 1. 1. 1. 1. 1. 1. 0. 1. 1. 1. 1. 1.\n",
            " 1. 0. 1. 1. 1. 1. 1. 0. 1. 1. 1. 1. 1. 1. 1. 1. 1. 0. 1. 1. 1. 1. 1. 1.\n",
            " 1. 1. 1. 1. 1. 1. 1. 0. 1. 1. 1. 1. 0. 1. 1. 1. 1. 1. 1. 1. 1. 1. 1. 1.\n",
            " 1. 1. 1. 1. 1. 1. 1. 1. 1. 0. 1. 1. 1. 1. 1. 1. 1. 1. 1. 1. 1. 1. 1. 1.\n",
            " 1. 1. 1. 1. 1. 1. 1. 1. 1. 1. 1. 1. 1. 1. 1. 1. 1. 1. 1. 1. 1. 1. 1. 1.\n",
            " 0. 1. 1. 0. 1. 1. 1. 1. 1. 1. 1. 1. 1. 1. 1. 1. 1. 1. 1. 1. 1. 1. 1. 0.\n",
            " 0. 1. 1. 1. 1. 0. 1. 1. 1. 0. 1. 1. 1. 1. 1. 1. 1. 1. 1. 1. 1. 1. 1. 1.\n",
            " 1. 0. 1. 1. 1. 1. 1. 1. 1. 1. 1. 1. 1. 1. 1. 1. 1. 1. 1. 1. 1. 1. 1. 1.\n",
            " 1. 1. 1. 1. 1. 1. 1. 1. 1. 1. 1. 1. 1. 1. 1. 1. 1. 1. 1. 1. 1. 1. 0. 1.\n",
            " 0. 1. 1. 1. 1. 1. 1. 1. 1. 1. 1. 1. 1. 0. 1. 1. 1. 1. 1. 1. 1. 1. 1. 1.\n",
            " 1. 1. 1. 0. 0. 1. 1. 1. 1. 1. 1. 1. 1. 1. 1. 1. 0. 1. 1. 1. 1. 1. 1.]\n",
            "Media de cross_validation 0.9230769230769231\n"
          ]
        }
      ]
    },
    {
      "cell_type": "markdown",
      "metadata": {
        "id": "9uhKoHzetCsB"
      },
      "source": [
        "###Repeated k-Fold-Cross-Validation (repeated CV)\n",
        "Es exactamente igual al método k-Fold-Cross-Validation pero repitiendo el proceso completo n veces. Por ejemplo, 10-Fold-Cross-Validation con 5 repeticiones implica a un total de 50 iteraciones ajuste-validación, pero no equivale a un 50-Fold-Cross-Validation.\n",
        "\n",
        "**from sklearn.model_selection import RepeatedKFold**"
      ]
    },
    {
      "cell_type": "code",
      "metadata": {
        "colab": {
          "base_uri": "https://localhost:8080/"
        },
        "id": "Z1q8ImDXtpvw",
        "outputId": "b57b1896-5ab8-4a6b-a761-004ff7804453"
      },
      "source": [
        "from sklearn.model_selection import RepeatedKFold\n",
        "\n",
        "Repeatedkf = RepeatedKFold(n_splits = 5, n_repeats = 3)\n",
        "scores = cross_val_score(clf, X_train, y_train, cv=Repeatedkf, scoring=\"accuracy\")\n",
        "\n",
        "print(\"Metricas cross_validation\", scores)\n",
        "print(\"Media de cross_validation\", scores.mean())"
      ],
      "execution_count": null,
      "outputs": [
        {
          "output_type": "stream",
          "name": "stdout",
          "text": [
            "Metricas cross_validation [0.94505495 0.89010989 0.93406593 0.93406593 0.94505495 0.92307692\n",
            " 0.92307692 0.92307692 0.94505495 0.92307692 0.89010989 0.91208791\n",
            " 0.96703297 0.93406593 0.91208791]\n",
            "Media de cross_validation 0.9267399267399269\n"
          ]
        }
      ]
    },
    {
      "cell_type": "markdown",
      "metadata": {
        "id": "Qk2i_K5x58Xv"
      },
      "source": [
        "##Accuracy y Kappa\n",
        "Estas dos métricas son las más empleadas en problemas de clasificación binaria y multiclase. Accuracy es el porcentaje de observaciones correctamente clasificadas respecto al total de predicciones. Kappa o Cohen’s Kappa es el valor de accuracy normalizado respecto del porcentaje de acierto esperado por azar. A diferencia de accuracy, cuyo rango de valores puede ser [0, 1], el de kappa es [-1, 1]. En problemas con clases desbalanceadas, donde el grupo mayoritario supera por mucho a los otros, Kappa es más útil porque evita caer en la ilusión de creer que un modelo es bueno cuando realmente solo supera por poco lo esperado por azar.\n",
        "\n",
        "**from sklearn import metrics**"
      ]
    },
    {
      "cell_type": "code",
      "metadata": {
        "colab": {
          "base_uri": "https://localhost:8080/"
        },
        "id": "0EzyPSe358DW",
        "outputId": "bb5b47a1-72b4-407a-dcb8-f68124bc8ac1"
      },
      "source": [
        "score_pred = metrics.accuracy_score(y_test, preds)\n",
        "print(\"Metrica en Test accuracy\", score_pred)\n",
        "\n",
        "score_pred_kappa = metrics.cohen_kappa_score(y_test, preds)\n",
        "print(\"Metrica en Test kappa\", score_pred_kappa)"
      ],
      "execution_count": null,
      "outputs": [
        {
          "output_type": "stream",
          "name": "stdout",
          "text": [
            "Metrica en Test accuracy 0.9385964912280702\n",
            "Metrica en Test kappa 0.8736942070275404\n"
          ]
        }
      ]
    },
    {
      "cell_type": "markdown",
      "metadata": {
        "id": "OG5mVvT07AoO"
      },
      "source": [
        "## Matriz de confusión\n",
        "Una matriz de confusión, también conocida como matriz de error, es una tabla resumida que se utiliza para evaluar el rendimiento de un modelo de clasificación. El número de predicciones correctas e incorrectas se resumen con los valores de conteo y se desglosan por cada clase.\n",
        "\n",
        "**from sklearn.metrics import confusion_matrix**"
      ]
    },
    {
      "cell_type": "code",
      "metadata": {
        "colab": {
          "base_uri": "https://localhost:8080/"
        },
        "id": "uFu_QV8r9Zs-",
        "outputId": "61e06d76-e22b-44b3-abb8-009036bc42f6"
      },
      "source": [
        "from sklearn.metrics import confusion_matrix\n",
        "from sklearn.metrics import classification_report\n",
        "\n",
        "print(\"confusion_matrix\\n\",confusion_matrix(y_test,clf.predict(X_test),normalize='true'),\"\\n\",confusion_matrix(y_test,clf.predict(X_test)))\n",
        "print(\"\\nclassification_report\\n\",classification_report(y_test,clf.predict(X_test),target_names=cancer.target_names))"
      ],
      "execution_count": null,
      "outputs": [
        {
          "output_type": "stream",
          "name": "stdout",
          "text": [
            "confusion_matrix\n",
            " [[0.93617021 0.06382979]\n",
            " [0.05970149 0.94029851]] \n",
            " [[44  3]\n",
            " [ 4 63]]\n",
            "\n",
            "classification_report\n",
            "               precision    recall  f1-score   support\n",
            "\n",
            "   malignant       0.92      0.94      0.93        47\n",
            "      benign       0.95      0.94      0.95        67\n",
            "\n",
            "    accuracy                           0.94       114\n",
            "   macro avg       0.94      0.94      0.94       114\n",
            "weighted avg       0.94      0.94      0.94       114\n",
            "\n"
          ]
        }
      ]
    },
    {
      "cell_type": "markdown",
      "metadata": {
        "id": "IHN2P8uBRBUn"
      },
      "source": [
        "###Exactitud\n",
        "Esto es simplemente igual a la proporción de predicciones que el modelo clasificó correctamente."
      ]
    },
    {
      "cell_type": "code",
      "metadata": {
        "colab": {
          "base_uri": "https://localhost:8080/"
        },
        "id": "uNMCJRAVQPpI",
        "outputId": "26b1fd85-9799-48ed-eac9-8f26e70d17c6"
      },
      "source": [
        "from sklearn.metrics import accuracy_score\n",
        "print(\"\\naccuracy_score\",accuracy_score(y_test,clf.predict(X_test)))"
      ],
      "execution_count": null,
      "outputs": [
        {
          "output_type": "stream",
          "name": "stdout",
          "text": [
            "\n",
            "accuracy_score 0.9385964912280702\n"
          ]
        }
      ]
    },
    {
      "cell_type": "markdown",
      "metadata": {
        "id": "9-4KT8_YQu0u"
      },
      "source": [
        "###Sensibilidad\n",
        "La sensibilidad, tasa de aciertos o tasa positiva real (TPR), es la proporción de la cantidad total de instancias pertinentes que se recuperaron realmente. Responde a la pregunta \"¿Qué proporción de positivos reales se identificó correctamente?\""
      ]
    },
    {
      "cell_type": "code",
      "metadata": {
        "colab": {
          "base_uri": "https://localhost:8080/"
        },
        "id": "jycqVxz3QRTv",
        "outputId": "487cd3cf-cd53-41e8-af8f-efee3bfcf235"
      },
      "source": [
        "from sklearn.metrics import recall_score\n",
        "print(\"recall_score\",recall_score(y_test,clf.predict(X_test)))"
      ],
      "execution_count": null,
      "outputs": [
        {
          "output_type": "stream",
          "name": "stdout",
          "text": [
            "recall_score 0.9402985074626866\n"
          ]
        }
      ]
    },
    {
      "cell_type": "markdown",
      "metadata": {
        "id": "5ubx4t6nQlVF"
      },
      "source": [
        "###Precisión\n",
        "La precisión también se conoce como valor predictivo positivo y es la proporción de instancias relevantes entre las instancias recuperadas. En otras palabras, responde a la pregunta \"¿Qué proporción de identificaciones positivas fue realmente correcta?\""
      ]
    },
    {
      "cell_type": "code",
      "metadata": {
        "colab": {
          "base_uri": "https://localhost:8080/"
        },
        "id": "Vms7Yx5xQRav",
        "outputId": "11045221-089e-46e8-a6b8-6e6ed22c9471"
      },
      "source": [
        "from sklearn.metrics import precision_score\n",
        "print(\"precision_score\",precision_score(y_test,clf.predict(X_test)))"
      ],
      "execution_count": null,
      "outputs": [
        {
          "output_type": "stream",
          "name": "stdout",
          "text": [
            "precision_score 0.9545454545454546\n"
          ]
        }
      ]
    },
    {
      "cell_type": "markdown",
      "metadata": {
        "id": "PR1BhcGfQ2SE"
      },
      "source": [
        "###Puntuación F1\n",
        "El puntaje F1 es una medida de la precisión de una prueba, es la media armónica de precisión y recuperación. Puede tener una puntuación máxima de 1 (precisión y recuerdo perfectos) y una mínima de 0. En general, es una medida de la precisión y robustez de su modelo."
      ]
    },
    {
      "cell_type": "code",
      "metadata": {
        "colab": {
          "base_uri": "https://localhost:8080/"
        },
        "id": "YizowELqQRhL",
        "outputId": "e5e7ecab-6cb5-491c-873f-412771176f99"
      },
      "source": [
        "from sklearn.metrics import f1_score\n",
        "print(\"f1_score\",f1_score(y_test,clf.predict(X_test)))"
      ],
      "execution_count": null,
      "outputs": [
        {
          "output_type": "stream",
          "name": "stdout",
          "text": [
            "f1_score 0.9473684210526316\n"
          ]
        }
      ]
    },
    {
      "cell_type": "markdown",
      "metadata": {
        "id": "0QSBEnjbZbTZ"
      },
      "source": [
        "#Dataset seleccionado"
      ]
    },
    {
      "cell_type": "code",
      "metadata": {
        "id": "2TIckbj5Z3i6"
      },
      "source": [
        "import pandas as pd\n",
        "import seaborn as sns\n",
        "import numpy as np\n",
        "import matplotlib.pyplot as plt\n",
        "import plotly.express as px\n",
        "\n",
        "df = pd.read_csv('big-mart-sales.csv')"
      ],
      "execution_count": null,
      "outputs": []
    },
    {
      "cell_type": "markdown",
      "metadata": {
        "id": "cFtHFJ3CaDL8"
      },
      "source": [
        "# Visualizar dataset\n",
        "**Detalle del dataset a trabajar**\n",
        "\n",
        "*   **Item_Identifier:** Identificador único de producto asignado a cada artículo distinto. Consiste en una cadena alfanumérica de 5 carácteres.\n",
        "*   **Item_Weight:** Peso del producto.\n",
        "*   **Item_Fat_Content:** Atributo es categórico que describe si el producto es bajo en grasa o no. Hay 2 categorías de este atributo: ['Bajo en grasa', 'Regular']. Sin embargo, es importante tener en cuenta que 'Low Fat' también se ha escrito como 'low fat' y 'LF' en el conjunto de datos, mientras que 'Regular' también se ha denominado 'reg'.\n",
        "*   **Item_Visibility:** Porcentaje del área de visualización total de todos los productos en una tienda asignada al producto en particular.\n",
        "*   **Item_Type:** Atributo categórico que describe la categoría de alimentos a la que pertenece el artículo. Hay 16 categorías diferentes enumeradas de la siguiente manera: ['Lácteos', 'Refrescos', 'Carne', 'Frutas y verduras', 'Hogar', 'Productos para hornear', 'Bocadillos', 'Alimentos congelados', 'Desayuno', 'Salud e higiene', 'Bebidas duras', 'Enlatados', 'Panes', 'Alimentos con almidón', 'Otros', 'Mariscos'].\n",
        "*   **Item_MRP:** Precio de venta máximo (precio de lista) del producto.\n",
        "*   **Outlet_Identifier:** Identificador único de tienda asignado. Consiste en una cadena alfanumérica de 6 carácteres.\n",
        "*   **Outlet_Establishment_Year:** Año en que se estableció la tienda.\n",
        "*   **Outlet_Size:** Tamaño de la tienda en términos de área de suelo cubierta. Es un valor categórico y se describe en 3 categorías: ['Alto', 'Medio', 'Pequeño']\n",
        "*   **Outlet_Location_Type:** Atributo categórico sobre el tamaño de la ciudad en la que se encuentra la tienda a través de 3 categorías: ['Nivel 1', 'Nivel 2', 'Nivel 3'].\n",
        "*   **Outlet_Type:** Atributo categórico que indica si el punto de venta es solo una tienda de comestibles o algún otro tipo de supermercado. A continuación, se presentan las 4 categorías en las que se dividen los datos: ['Tipo de supermercado1', 'Tipo de supermercado2', 'Tienda de comestibles', 'Tipo de supermercado3'].\n",
        "*   **Item_Outlet_Sales:** Ventas del producto en la tienda."
      ]
    },
    {
      "cell_type": "code",
      "metadata": {
        "id": "zENp_niNaNnv"
      },
      "source": [
        "import warnings\n",
        "warnings.filterwarnings(\"always\")\n",
        "warnings.filterwarnings(\"ignore\")\n",
        "\n",
        "def distribution_plot(dataframe, variable, titulo):\n",
        "    fig = px.histogram(dataframe,\n",
        "                       x=variable,\n",
        "                       marginal='box',\n",
        "                       title='Distribución de '+ variable + titulo)\n",
        "    fig.update_layout(bargap=0.1)\n",
        "    fig.show()"
      ],
      "execution_count": null,
      "outputs": []
    },
    {
      "cell_type": "markdown",
      "metadata": {
        "id": "VPmQRF6JaieG"
      },
      "source": [
        "##TOP 5 del dataset"
      ]
    },
    {
      "cell_type": "code",
      "metadata": {
        "colab": {
          "base_uri": "https://localhost:8080/",
          "height": 202
        },
        "id": "OwME3_PqaOqY",
        "outputId": "e7186ebe-8b91-4f55-af97-c8ba32bbf2ae"
      },
      "source": [
        "df.head(5)"
      ],
      "execution_count": null,
      "outputs": [
        {
          "output_type": "execute_result",
          "data": {
            "text/html": [
              "<div>\n",
              "<style scoped>\n",
              "    .dataframe tbody tr th:only-of-type {\n",
              "        vertical-align: middle;\n",
              "    }\n",
              "\n",
              "    .dataframe tbody tr th {\n",
              "        vertical-align: top;\n",
              "    }\n",
              "\n",
              "    .dataframe thead th {\n",
              "        text-align: right;\n",
              "    }\n",
              "</style>\n",
              "<table border=\"1\" class=\"dataframe\">\n",
              "  <thead>\n",
              "    <tr style=\"text-align: right;\">\n",
              "      <th></th>\n",
              "      <th>Item_Identifier</th>\n",
              "      <th>Item_Weight</th>\n",
              "      <th>Item_Fat_Content</th>\n",
              "      <th>Item_Visibility</th>\n",
              "      <th>Item_Type</th>\n",
              "      <th>Item_MRP</th>\n",
              "      <th>Outlet_Identifier</th>\n",
              "      <th>Outlet_Establishment_Year</th>\n",
              "      <th>Outlet_Size</th>\n",
              "      <th>Outlet_Location_Type</th>\n",
              "      <th>Outlet_Type</th>\n",
              "      <th>Item_Outlet_Sales</th>\n",
              "    </tr>\n",
              "  </thead>\n",
              "  <tbody>\n",
              "    <tr>\n",
              "      <th>0</th>\n",
              "      <td>FDA15</td>\n",
              "      <td>9.30</td>\n",
              "      <td>Low Fat</td>\n",
              "      <td>0.016047</td>\n",
              "      <td>Dairy</td>\n",
              "      <td>249.8092</td>\n",
              "      <td>OUT049</td>\n",
              "      <td>1999</td>\n",
              "      <td>Medium</td>\n",
              "      <td>Tier 1</td>\n",
              "      <td>Supermarket Type1</td>\n",
              "      <td>3735.1380</td>\n",
              "    </tr>\n",
              "    <tr>\n",
              "      <th>1</th>\n",
              "      <td>DRC01</td>\n",
              "      <td>5.92</td>\n",
              "      <td>Regular</td>\n",
              "      <td>0.019278</td>\n",
              "      <td>Soft Drinks</td>\n",
              "      <td>48.2692</td>\n",
              "      <td>OUT018</td>\n",
              "      <td>2009</td>\n",
              "      <td>Medium</td>\n",
              "      <td>Tier 3</td>\n",
              "      <td>Supermarket Type2</td>\n",
              "      <td>443.4228</td>\n",
              "    </tr>\n",
              "    <tr>\n",
              "      <th>2</th>\n",
              "      <td>FDN15</td>\n",
              "      <td>17.50</td>\n",
              "      <td>Low Fat</td>\n",
              "      <td>0.016760</td>\n",
              "      <td>Meat</td>\n",
              "      <td>141.6180</td>\n",
              "      <td>OUT049</td>\n",
              "      <td>1999</td>\n",
              "      <td>Medium</td>\n",
              "      <td>Tier 1</td>\n",
              "      <td>Supermarket Type1</td>\n",
              "      <td>2097.2700</td>\n",
              "    </tr>\n",
              "    <tr>\n",
              "      <th>3</th>\n",
              "      <td>FDX07</td>\n",
              "      <td>19.20</td>\n",
              "      <td>Regular</td>\n",
              "      <td>0.000000</td>\n",
              "      <td>Fruits and Vegetables</td>\n",
              "      <td>182.0950</td>\n",
              "      <td>OUT010</td>\n",
              "      <td>1998</td>\n",
              "      <td>NaN</td>\n",
              "      <td>Tier 3</td>\n",
              "      <td>Grocery Store</td>\n",
              "      <td>732.3800</td>\n",
              "    </tr>\n",
              "    <tr>\n",
              "      <th>4</th>\n",
              "      <td>NCD19</td>\n",
              "      <td>8.93</td>\n",
              "      <td>Low Fat</td>\n",
              "      <td>0.000000</td>\n",
              "      <td>Household</td>\n",
              "      <td>53.8614</td>\n",
              "      <td>OUT013</td>\n",
              "      <td>1987</td>\n",
              "      <td>High</td>\n",
              "      <td>Tier 3</td>\n",
              "      <td>Supermarket Type1</td>\n",
              "      <td>994.7052</td>\n",
              "    </tr>\n",
              "  </tbody>\n",
              "</table>\n",
              "</div>"
            ],
            "text/plain": [
              "  Item_Identifier  Item_Weight  ...        Outlet_Type  Item_Outlet_Sales\n",
              "0           FDA15         9.30  ...  Supermarket Type1          3735.1380\n",
              "1           DRC01         5.92  ...  Supermarket Type2           443.4228\n",
              "2           FDN15        17.50  ...  Supermarket Type1          2097.2700\n",
              "3           FDX07        19.20  ...      Grocery Store           732.3800\n",
              "4           NCD19         8.93  ...  Supermarket Type1           994.7052\n",
              "\n",
              "[5 rows x 12 columns]"
            ]
          },
          "metadata": {},
          "execution_count": 18
        }
      ]
    },
    {
      "cell_type": "markdown",
      "metadata": {
        "id": "-Wnlp2b7apX1"
      },
      "source": [
        "##Resumen del dataset"
      ]
    },
    {
      "cell_type": "code",
      "metadata": {
        "colab": {
          "base_uri": "https://localhost:8080/",
          "height": 294
        },
        "id": "iEchY7hcateJ",
        "outputId": "91d5da70-6ade-4fbd-a106-5896e22fa3c8"
      },
      "source": [
        "df.describe()"
      ],
      "execution_count": null,
      "outputs": [
        {
          "output_type": "execute_result",
          "data": {
            "text/html": [
              "<div>\n",
              "<style scoped>\n",
              "    .dataframe tbody tr th:only-of-type {\n",
              "        vertical-align: middle;\n",
              "    }\n",
              "\n",
              "    .dataframe tbody tr th {\n",
              "        vertical-align: top;\n",
              "    }\n",
              "\n",
              "    .dataframe thead th {\n",
              "        text-align: right;\n",
              "    }\n",
              "</style>\n",
              "<table border=\"1\" class=\"dataframe\">\n",
              "  <thead>\n",
              "    <tr style=\"text-align: right;\">\n",
              "      <th></th>\n",
              "      <th>Item_Weight</th>\n",
              "      <th>Item_Visibility</th>\n",
              "      <th>Item_MRP</th>\n",
              "      <th>Outlet_Establishment_Year</th>\n",
              "      <th>Item_Outlet_Sales</th>\n",
              "    </tr>\n",
              "  </thead>\n",
              "  <tbody>\n",
              "    <tr>\n",
              "      <th>count</th>\n",
              "      <td>11765.000000</td>\n",
              "      <td>14204.000000</td>\n",
              "      <td>14204.000000</td>\n",
              "      <td>14204.000000</td>\n",
              "      <td>8523.000000</td>\n",
              "    </tr>\n",
              "    <tr>\n",
              "      <th>mean</th>\n",
              "      <td>12.792854</td>\n",
              "      <td>0.065953</td>\n",
              "      <td>141.004977</td>\n",
              "      <td>1997.830681</td>\n",
              "      <td>2181.288914</td>\n",
              "    </tr>\n",
              "    <tr>\n",
              "      <th>std</th>\n",
              "      <td>4.652502</td>\n",
              "      <td>0.051459</td>\n",
              "      <td>62.086938</td>\n",
              "      <td>8.371664</td>\n",
              "      <td>1706.499616</td>\n",
              "    </tr>\n",
              "    <tr>\n",
              "      <th>min</th>\n",
              "      <td>4.555000</td>\n",
              "      <td>0.000000</td>\n",
              "      <td>31.290000</td>\n",
              "      <td>1985.000000</td>\n",
              "      <td>33.290000</td>\n",
              "    </tr>\n",
              "    <tr>\n",
              "      <th>25%</th>\n",
              "      <td>8.710000</td>\n",
              "      <td>0.027036</td>\n",
              "      <td>94.012000</td>\n",
              "      <td>1987.000000</td>\n",
              "      <td>834.247400</td>\n",
              "    </tr>\n",
              "    <tr>\n",
              "      <th>50%</th>\n",
              "      <td>12.600000</td>\n",
              "      <td>0.054021</td>\n",
              "      <td>142.247000</td>\n",
              "      <td>1999.000000</td>\n",
              "      <td>1794.331000</td>\n",
              "    </tr>\n",
              "    <tr>\n",
              "      <th>75%</th>\n",
              "      <td>16.750000</td>\n",
              "      <td>0.094037</td>\n",
              "      <td>185.855600</td>\n",
              "      <td>2004.000000</td>\n",
              "      <td>3101.296400</td>\n",
              "    </tr>\n",
              "    <tr>\n",
              "      <th>max</th>\n",
              "      <td>21.350000</td>\n",
              "      <td>0.328391</td>\n",
              "      <td>266.888400</td>\n",
              "      <td>2009.000000</td>\n",
              "      <td>13086.964800</td>\n",
              "    </tr>\n",
              "  </tbody>\n",
              "</table>\n",
              "</div>"
            ],
            "text/plain": [
              "        Item_Weight  ...  Item_Outlet_Sales\n",
              "count  11765.000000  ...        8523.000000\n",
              "mean      12.792854  ...        2181.288914\n",
              "std        4.652502  ...        1706.499616\n",
              "min        4.555000  ...          33.290000\n",
              "25%        8.710000  ...         834.247400\n",
              "50%       12.600000  ...        1794.331000\n",
              "75%       16.750000  ...        3101.296400\n",
              "max       21.350000  ...       13086.964800\n",
              "\n",
              "[8 rows x 5 columns]"
            ]
          },
          "metadata": {},
          "execution_count": 19
        }
      ]
    },
    {
      "cell_type": "markdown",
      "metadata": {
        "id": "U-tZiPl8awL_"
      },
      "source": [
        "##Tipos de datos"
      ]
    },
    {
      "cell_type": "code",
      "metadata": {
        "colab": {
          "base_uri": "https://localhost:8080/"
        },
        "id": "e2JpxgXGazua",
        "outputId": "24b4c6e3-5721-48f6-f0cd-459397f037be"
      },
      "source": [
        "df.info()"
      ],
      "execution_count": null,
      "outputs": [
        {
          "output_type": "stream",
          "name": "stdout",
          "text": [
            "<class 'pandas.core.frame.DataFrame'>\n",
            "RangeIndex: 14204 entries, 0 to 14203\n",
            "Data columns (total 12 columns):\n",
            " #   Column                     Non-Null Count  Dtype  \n",
            "---  ------                     --------------  -----  \n",
            " 0   Item_Identifier            14204 non-null  object \n",
            " 1   Item_Weight                11765 non-null  float64\n",
            " 2   Item_Fat_Content           14204 non-null  object \n",
            " 3   Item_Visibility            14204 non-null  float64\n",
            " 4   Item_Type                  14204 non-null  object \n",
            " 5   Item_MRP                   14204 non-null  float64\n",
            " 6   Outlet_Identifier          14204 non-null  object \n",
            " 7   Outlet_Establishment_Year  14204 non-null  int64  \n",
            " 8   Outlet_Size                10188 non-null  object \n",
            " 9   Outlet_Location_Type       14204 non-null  object \n",
            " 10  Outlet_Type                14204 non-null  object \n",
            " 11  Item_Outlet_Sales          8523 non-null   float64\n",
            "dtypes: float64(4), int64(1), object(7)\n",
            "memory usage: 1.3+ MB\n"
          ]
        }
      ]
    },
    {
      "cell_type": "markdown",
      "metadata": {
        "id": "sHx9ty4Ta5Zh"
      },
      "source": [
        "# Preprocesado"
      ]
    },
    {
      "cell_type": "code",
      "metadata": {
        "colab": {
          "base_uri": "https://localhost:8080/"
        },
        "id": "fKZ3mfVDeK5x",
        "outputId": "97fb1118-1d01-4bad-81aa-c0586f24442d"
      },
      "source": [
        "dataset = df[df['Item_Outlet_Sales'].notnull()]\n",
        "\n",
        "print(dataset.isnull().sum())"
      ],
      "execution_count": null,
      "outputs": [
        {
          "output_type": "stream",
          "name": "stdout",
          "text": [
            "Item_Identifier                 0\n",
            "Item_Weight                  1463\n",
            "Item_Fat_Content                0\n",
            "Item_Visibility                 0\n",
            "Item_Type                       0\n",
            "Item_MRP                        0\n",
            "Outlet_Identifier               0\n",
            "Outlet_Establishment_Year       0\n",
            "Outlet_Size                  2410\n",
            "Outlet_Location_Type            0\n",
            "Outlet_Type                     0\n",
            "Item_Outlet_Sales               0\n",
            "dtype: int64\n"
          ]
        }
      ]
    },
    {
      "cell_type": "markdown",
      "metadata": {
        "id": "8-lyrLaibORC"
      },
      "source": [
        "##Manejo de datos faltantes"
      ]
    },
    {
      "cell_type": "code",
      "metadata": {
        "colab": {
          "base_uri": "https://localhost:8080/"
        },
        "id": "GgnKjc-7fUHI",
        "outputId": "769ec0ca-6019-40f3-f668-dfb364abfee1"
      },
      "source": [
        "#Columnas con valores nulos\n",
        "print(dataset.columns[dataset.isnull().any()])\n",
        "\n",
        "#Porcentaje de valores nulos\n",
        "dataset.isnull().sum() / dataset.shape[0] * 100"
      ],
      "execution_count": null,
      "outputs": [
        {
          "output_type": "stream",
          "name": "stdout",
          "text": [
            "Index(['Item_Weight', 'Outlet_Size'], dtype='object')\n"
          ]
        },
        {
          "output_type": "execute_result",
          "data": {
            "text/plain": [
              "Item_Identifier               0.000000\n",
              "Item_Weight                  17.165317\n",
              "Item_Fat_Content              0.000000\n",
              "Item_Visibility               0.000000\n",
              "Item_Type                     0.000000\n",
              "Item_MRP                      0.000000\n",
              "Outlet_Identifier             0.000000\n",
              "Outlet_Establishment_Year     0.000000\n",
              "Outlet_Size                  28.276428\n",
              "Outlet_Location_Type          0.000000\n",
              "Outlet_Type                   0.000000\n",
              "Item_Outlet_Sales             0.000000\n",
              "dtype: float64"
            ]
          },
          "metadata": {},
          "execution_count": 22
        }
      ]
    },
    {
      "cell_type": "code",
      "metadata": {
        "colab": {
          "base_uri": "https://localhost:8080/"
        },
        "id": "-FfuMFA2bDuv",
        "outputId": "b7b4bc8b-6137-4aae-8a30-13563616145c"
      },
      "source": [
        "#Item_Weight se llenará con los valores de la media\n",
        "dataset['Item_Weight'] = dataset['Item_Weight'].fillna(dataset['Item_Weight'].mean())\n",
        "\n",
        "#Outlet_Size se llenará con valores de la moda al ser categórica\n",
        "dataset['Outlet_Size'] = dataset['Outlet_Size'].fillna(dataset['Outlet_Size'].mode()[0])\n",
        "\n",
        "print(dataset.isnull().sum())"
      ],
      "execution_count": null,
      "outputs": [
        {
          "output_type": "stream",
          "name": "stdout",
          "text": [
            "Item_Identifier              0\n",
            "Item_Weight                  0\n",
            "Item_Fat_Content             0\n",
            "Item_Visibility              0\n",
            "Item_Type                    0\n",
            "Item_MRP                     0\n",
            "Outlet_Identifier            0\n",
            "Outlet_Establishment_Year    0\n",
            "Outlet_Size                  0\n",
            "Outlet_Location_Type         0\n",
            "Outlet_Type                  0\n",
            "Item_Outlet_Sales            0\n",
            "dtype: int64\n"
          ]
        }
      ]
    },
    {
      "cell_type": "code",
      "metadata": {
        "colab": {
          "base_uri": "https://localhost:8080/",
          "height": 542
        },
        "id": "Xt8au3PrbJBK",
        "outputId": "a88deab9-277d-413b-9e14-6a142249b76f"
      },
      "source": [
        "distribution_plot(dataset, 'Item_Weight' , 'despues del reemplazo')"
      ],
      "execution_count": null,
      "outputs": [
        {
          "output_type": "display_data",
          "data": {
            "text/html": [
              "<html>\n",
              "<head><meta charset=\"utf-8\" /></head>\n",
              "<body>\n",
              "    <div>\n",
              "            <script src=\"https://cdnjs.cloudflare.com/ajax/libs/mathjax/2.7.5/MathJax.js?config=TeX-AMS-MML_SVG\"></script><script type=\"text/javascript\">if (window.MathJax) {MathJax.Hub.Config({SVG: {font: \"STIX-Web\"}});}</script>\n",
              "                <script type=\"text/javascript\">window.PlotlyConfig = {MathJaxConfig: 'local'};</script>\n",
              "        <script src=\"https://cdn.plot.ly/plotly-latest.min.js\"></script>    \n",
              "            <div id=\"e3d56f65-42cc-41f2-b575-cb5d0d90be96\" class=\"plotly-graph-div\" style=\"height:525px; width:100%;\"></div>\n",
              "            <script type=\"text/javascript\">\n",
              "                \n",
              "                    window.PLOTLYENV=window.PLOTLYENV || {};\n",
              "                    \n",
              "                if (document.getElementById(\"e3d56f65-42cc-41f2-b575-cb5d0d90be96\")) {\n",
              "                    Plotly.newPlot(\n",
              "                        'e3d56f65-42cc-41f2-b575-cb5d0d90be96',\n",
              "                        [{\"alignmentgroup\": \"True\", \"bingroup\": \"x\", \"hoverlabel\": {\"namelength\": 0}, \"hovertemplate\": \"Item_Weight=%{x}<br>count=%{y}\", \"legendgroup\": \"\", \"marker\": {\"color\": \"#636efa\"}, \"name\": \"\", \"offsetgroup\": \"\", \"orientation\": \"v\", \"showlegend\": false, \"type\": \"histogram\", \"x\": [9.3, 5.92, 17.5, 19.2, 8.93, 10.395, 13.65, 12.857645184136183, 16.2, 19.2, 11.8, 18.5, 15.1, 17.6, 16.35, 9.0, 11.8, 9.0, 12.857645184136183, 13.35, 18.85, 12.857645184136183, 14.6, 12.857645184136183, 13.85, 13.0, 7.645, 11.65, 5.925, 12.857645184136183, 19.25, 18.6, 18.7, 17.85, 17.5, 10.0, 12.857645184136183, 8.85, 12.857645184136183, 12.857645184136183, 13.35, 9.8, 13.6, 21.35, 12.15, 6.42, 19.6, 10.0, 15.85, 12.857645184136183, 7.39, 10.195, 9.895, 10.895, 12.15, 7.905, 9.195, 8.365, 15.1, 12.857645184136183, 10.0, 7.97, 12.857645184136183, 12.857645184136183, 12.857645184136183, 17.7, 19.35, 13.65, 17.6, 8.645, 15.6, 15.85, 18.25, 7.855, 7.825, 8.39, 12.85, 12.857645184136183, 19.0, 5.905, 7.76, 11.8, 16.75, 12.857645184136183, 12.857645184136183, 15.5, 6.055, 12.857645184136183, 6.305, 20.85, 20.75, 8.895, 19.6, 19.7, 9.8, 12.857645184136183, 12.15, 8.75, 12.857645184136183, 8.75, 13.3, 12.857645184136183, 8.31, 16.75, 19.75, 17.1, 10.5, 6.635, 12.857645184136183, 14.15, 13.3, 8.89, 12.857645184136183, 12.857645184136183, 9.1, 7.5, 16.85, 7.485, 11.6, 11.65, 13.0, 12.65, 20.25, 8.6, 12.6, 17.7, 14.15, 19.25, 8.88, 20.5, 12.857645184136183, 13.5, 12.857645184136183, 8.89, 7.855, 7.235, 12.857645184136183, 6.92, 9.3, 18.5, 8.02, 9.195, 12.8, 16.6, 14.0, 18.6, 16.0, 17.6, 21.25, 7.235, 14.6, 13.85, 13.65, 12.857645184136183, 7.365, 18.35, 5.465, 18.6, 13.85, 14.0, 14.0, 12.857645184136183, 5.905, 7.27, 6.155, 19.5, 15.2, 12.15, 12.857645184136183, 12.6, 14.5, 16.6, 11.8, 13.1, 17.7, 17.85, 12.3, 11.8, 12.857645184136183, 11.1, 12.857645184136183, 11.3, 12.857645184136183, 5.75, 12.857645184136183, 11.35, 12.857645184136183, 14.0, 19.75, 6.525, 10.3, 5.78, 11.85, 16.35, 12.857645184136183, 10.5, 19.0, 14.6, 12.857645184136183, 12.857645184136183, 18.75, 5.26, 18.25, 12.857645184136183, 15.1, 15.5, 13.65, 16.1, 12.857645184136183, 12.85, 9.5, 13.8, 5.78, 19.7, 14.65, 6.67, 6.11, 13.65, 17.2, 6.32, 4.88, 5.425, 15.85, 7.5, 12.65, 12.857645184136183, 20.75, 12.857645184136183, 9.0, 12.857645184136183, 12.857645184136183, 12.857645184136183, 14.1, 7.55, 13.0, 12.857645184136183, 12.857645184136183, 12.3, 12.857645184136183, 12.857645184136183, 17.25, 15.85, 18.85, 16.35, 14.1, 7.905, 12.0, 12.15, 10.1, 17.5, 12.857645184136183, 17.1, 7.785, 11.8, 13.15, 12.857645184136183, 8.5, 8.645, 17.6, 9.1, 12.8, 7.63, 9.285, 13.6, 8.895, 16.35, 17.6, 7.975, 15.85, 15.7, 8.985, 20.35, 6.59, 19.85, 16.85, 12.857645184136183, 16.75, 17.6, 7.905, 12.857645184136183, 7.785, 7.825, 12.857645184136183, 20.75, 12.857645184136183, 6.26, 18.2, 13.0, 20.25, 8.695, 7.27, 12.857645184136183, 12.85, 7.075, 12.857645184136183, 8.195, 7.09, 6.095, 19.35, 6.15, 12.857645184136183, 12.857645184136183, 17.7, 17.85, 9.395, 15.75, 7.475, 7.075, 6.445, 19.1, 20.25, 15.0, 6.67, 12.857645184136183, 16.7, 7.07, 6.48, 19.0, 13.35, 12.857645184136183, 12.857645184136183, 9.695, 15.0, 11.15, 20.85, 9.8, 16.35, 9.6, 12.857645184136183, 13.35, 20.7, 12.857645184136183, 16.2, 12.857645184136183, 12.857645184136183, 12.857645184136183, 5.5, 15.1, 15.7, 7.895, 12.857645184136183, 17.35, 7.285, 20.25, 12.857645184136183, 15.85, 6.17, 19.5, 19.2, 16.7, 20.85, 14.5, 11.395, 7.97, 7.71, 19.25, 7.075, 12.857645184136183, 11.6, 12.857645184136183, 12.1, 10.0, 14.35, 10.395, 12.857645184136183, 8.1, 8.05, 9.195, 20.7, 15.7, 12.857645184136183, 12.857645184136183, 16.5, 9.0, 6.785, 19.5, 7.575, 18.2, 16.75, 7.47, 12.857645184136183, 12.857645184136183, 13.85, 6.635, 6.11, 15.25, 15.85, 15.2, 12.857645184136183, 20.75, 10.195, 7.605, 18.0, 12.857645184136183, 18.35, 6.59, 13.8, 21.2, 10.5, 8.97, 12.857645184136183, 10.6, 13.65, 19.0, 12.857645184136183, 12.857645184136183, 6.865, 10.8, 16.7, 12.857645184136183, 15.15, 10.5, 17.6, 19.35, 15.7, 18.1, 10.195, 12.857645184136183, 6.655, 19.0, 7.075, 13.15, 20.1, 20.35, 18.85, 16.35, 11.3, 17.5, 18.0, 7.935, 12.857645184136183, 20.25, 15.5, 12.857645184136183, 12.857645184136183, 15.35, 10.1, 16.7, 20.7, 16.0, 14.0, 12.85, 20.85, 12.35, 6.85, 10.3, 12.857645184136183, 8.775, 18.85, 12.857645184136183, 14.85, 20.5, 7.84, 18.25, 10.3, 12.5, 12.857645184136183, 20.25, 12.857645184136183, 15.0, 8.325, 15.85, 13.1, 6.26, 17.25, 5.765, 13.6, 10.5, 7.975, 12.65, 12.3, 5.985, 12.857645184136183, 15.15, 12.35, 14.3, 8.695, 16.35, 6.135, 19.5, 9.5, 8.895, 18.25, 21.35, 19.7, 12.857645184136183, 16.6, 12.857645184136183, 10.895, 12.857645184136183, 12.857645184136183, 12.857645184136183, 8.51, 14.15, 6.65, 15.25, 18.25, 12.857645184136183, 16.0, 19.2, 12.15, 8.895, 10.895, 16.0, 12.857645184136183, 9.195, 11.35, 10.0, 9.395, 12.857645184136183, 20.75, 9.8, 5.695, 18.2, 19.35, 18.35, 6.36, 9.8, 12.857645184136183, 12.857645184136183, 6.635, 18.1, 8.93, 8.3, 8.895, 16.35, 8.6, 12.857645184136183, 19.0, 7.56, 12.6, 15.6, 8.71, 18.1, 13.35, 16.6, 6.695, 12.857645184136183, 16.6, 15.35, 19.7, 14.3, 12.857645184136183, 10.0, 14.8, 12.857645184136183, 8.71, 12.15, 17.85, 9.5, 11.8, 14.1, 12.857645184136183, 19.35, 19.75, 10.3, 12.857645184136183, 12.857645184136183, 10.8, 17.75, 8.575, 19.1, 20.7, 12.857645184136183, 6.785, 6.57, 5.78, 6.92, 20.25, 13.65, 13.5, 16.5, 16.7, 8.68, 12.857645184136183, 7.235, 16.75, 15.35, 10.8, 6.26, 5.63, 6.92, 12.15, 16.6, 9.195, 19.0, 9.395, 9.8, 12.857645184136183, 18.85, 9.13, 9.0, 17.1, 6.715, 5.82, 18.7, 7.93, 18.75, 12.857645184136183, 5.0, 7.445, 20.85, 20.85, 19.2, 17.35, 14.3, 19.5, 6.675, 8.18, 6.98, 12.857645184136183, 16.85, 14.8, 12.3, 7.435, 15.1, 9.195, 10.1, 16.0, 17.7, 8.1, 20.6, 20.35, 8.195, 17.75, 7.475, 19.0, 12.6, 12.857645184136183, 7.895, 12.857645184136183, 17.1, 8.355, 12.857645184136183, 18.5, 12.857645184136183, 8.975, 10.1, 9.285, 11.6, 12.857645184136183, 12.5, 16.0, 14.15, 20.2, 13.65, 17.25, 5.655, 20.75, 5.175, 20.0, 11.8, 16.75, 18.35, 12.8, 19.75, 8.75, 13.3, 18.85, 9.695, 20.7, 12.857645184136183, 11.1, 8.975, 12.15, 7.67, 13.8, 4.785, 20.0, 12.857645184136183, 8.395, 6.175, 8.21, 19.7, 19.6, 7.5, 5.845, 11.395, 7.17, 5.75, 15.5, 7.76, 13.65, 10.8, 11.1, 12.857645184136183, 12.8, 8.785, 20.6, 7.89, 16.85, 16.35, 12.857645184136183, 17.35, 12.857645184136183, 12.857645184136183, 12.6, 5.32, 12.857645184136183, 13.0, 12.857645184136183, 19.85, 17.6, 14.6, 7.55, 13.8, 17.25, 10.1, 14.3, 9.8, 11.3, 7.67, 13.8, 10.395, 20.7, 12.857645184136183, 17.35, 16.35, 19.35, 15.2, 14.3, 12.857645184136183, 20.0, 12.857645184136183, 10.1, 12.857645184136183, 12.857645184136183, 8.18, 19.5, 18.7, 12.35, 16.0, 8.395, 4.785, 5.03, 15.6, 7.285, 20.35, 17.7, 12.857645184136183, 20.25, 8.945, 12.857645184136183, 18.25, 20.35, 16.75, 12.1, 18.5, 15.0, 19.5, 13.65, 13.15, 12.857645184136183, 20.6, 6.28, 5.925, 17.7, 18.85, 12.857645184136183, 17.5, 17.7, 16.1, 9.8, 7.565, 17.6, 12.15, 9.31, 19.25, 9.5, 15.35, 12.857645184136183, 12.857645184136183, 17.85, 7.02, 12.857645184136183, 12.857645184136183, 12.3, 5.46, 15.1, 11.8, 19.25, 13.65, 13.35, 12.857645184136183, 13.15, 14.3, 12.3, 7.825, 19.1, 8.71, 19.6, 19.5, 15.85, 12.857645184136183, 17.6, 12.857645184136183, 19.1, 6.13, 6.55, 16.5, 17.0, 10.5, 8.93, 12.857645184136183, 16.1, 12.857645184136183, 5.82, 16.25, 13.35, 12.857645184136183, 5.15, 12.857645184136183, 7.865, 9.895, 17.35, 8.365, 6.675, 12.857645184136183, 17.35, 16.75, 18.85, 6.575, 12.65, 15.2, 12.857645184136183, 7.07, 13.65, 12.857645184136183, 7.06, 11.8, 12.857645184136183, 9.3, 12.857645184136183, 12.857645184136183, 13.6, 19.5, 19.35, 12.857645184136183, 13.1, 16.7, 5.785, 12.857645184136183, 6.13, 9.8, 12.857645184136183, 7.42, 16.7, 12.857645184136183, 9.0, 12.857645184136183, 6.36, 17.7, 16.5, 12.857645184136183, 12.857645184136183, 11.85, 10.195, 12.857645184136183, 12.857645184136183, 13.65, 20.35, 20.2, 13.85, 8.05, 7.365, 12.5, 7.42, 12.857645184136183, 6.235, 12.35, 6.75, 16.75, 19.35, 9.6, 19.85, 15.1, 12.857645184136183, 6.59, 16.75, 15.2, 13.0, 5.86, 11.395, 20.85, 12.857645184136183, 5.035, 11.15, 6.38, 8.39, 5.675, 15.7, 13.0, 12.857645184136183, 13.5, 8.895, 10.895, 16.2, 12.857645184136183, 15.1, 7.475, 12.857645184136183, 10.8, 20.0, 14.3, 10.1, 17.85, 9.5, 20.75, 12.1, 20.6, 7.67, 12.857645184136183, 20.6, 15.35, 5.46, 9.395, 12.857645184136183, 10.0, 12.857645184136183, 7.445, 12.857645184136183, 15.5, 19.85, 11.5, 12.857645184136183, 10.5, 19.7, 12.857645184136183, 10.3, 20.85, 13.35, 12.1, 20.1, 12.857645184136183, 21.25, 12.857645184136183, 6.655, 13.65, 12.857645184136183, 13.6, 15.5, 10.895, 19.7, 8.1, 21.0, 13.65, 12.857645184136183, 12.857645184136183, 12.857645184136183, 13.15, 15.25, 19.35, 12.857645184136183, 17.75, 20.7, 9.5, 11.65, 21.1, 7.865, 12.35, 12.857645184136183, 16.25, 12.15, 10.5, 12.8, 12.857645184136183, 4.61, 7.0, 10.0, 6.405, 9.3, 11.6, 16.75, 12.15, 14.7, 20.0, 12.857645184136183, 7.39, 20.75, 9.3, 10.195, 12.857645184136183, 7.68, 10.195, 9.3, 8.895, 16.0, 19.2, 20.75, 12.857645184136183, 13.5, 12.857645184136183, 19.7, 6.095, 8.21, 17.7, 18.1, 5.695, 20.25, 12.857645184136183, 12.857645184136183, 8.185, 18.2, 19.25, 14.5, 9.5, 19.85, 8.655, 10.195, 12.857645184136183, 14.0, 8.39, 11.65, 14.5, 12.857645184136183, 18.2, 12.857645184136183, 10.85, 17.25, 13.65, 12.15, 13.1, 13.6, 20.1, 16.35, 12.857645184136183, 6.235, 8.42, 12.857645184136183, 9.5, 12.5, 12.6, 16.85, 12.857645184136183, 6.635, 20.2, 14.1, 15.15, 13.65, 12.857645184136183, 12.857645184136183, 12.857645184136183, 12.15, 12.857645184136183, 13.5, 17.5, 12.857645184136183, 7.85, 9.695, 17.5, 9.195, 12.857645184136183, 21.1, 10.195, 17.85, 15.6, 16.1, 13.3, 12.85, 11.5, 16.25, 14.65, 13.15, 8.895, 15.7, 16.75, 10.3, 8.05, 18.6, 20.75, 13.5, 8.18, 17.25, 20.0, 16.5, 9.8, 17.25, 15.85, 12.857645184136183, 18.0, 12.857645184136183, 16.0, 4.59, 11.85, 12.857645184136183, 12.857645184136183, 18.2, 7.825, 12.857645184136183, 8.895, 18.5, 14.85, 12.857645184136183, 7.51, 15.6, 8.02, 11.0, 12.857645184136183, 17.5, 7.235, 12.857645184136183, 12.857645184136183, 18.0, 16.1, 7.475, 16.5, 11.35, 16.1, 18.7, 8.645, 17.1, 9.8, 12.857645184136183, 12.857645184136183, 15.25, 10.5, 5.82, 10.0, 5.5, 18.35, 19.0, 6.71, 10.3, 18.35, 13.8, 10.5, 20.75, 12.857645184136183, 9.895, 12.857645184136183, 12.857645184136183, 12.857645184136183, 11.1, 10.1, 12.857645184136183, 14.0, 12.857645184136183, 9.395, 12.857645184136183, 12.857645184136183, 6.13, 8.5, 12.857645184136183, 9.1, 15.25, 13.5, 10.8, 15.2, 19.35, 12.857645184136183, 11.5, 9.8, 7.475, 9.8, 12.857645184136183, 14.75, 5.5, 17.2, 19.2, 12.857645184136183, 14.85, 7.565, 18.25, 9.6, 7.855, 10.1, 10.395, 16.25, 17.6, 15.5, 7.59, 12.857645184136183, 11.1, 12.857645184136183, 16.1, 5.155, 12.857645184136183, 12.857645184136183, 6.365, 11.65, 18.25, 11.8, 18.2, 13.65, 8.365, 12.857645184136183, 20.7, 17.75, 18.0, 9.695, 6.42, 10.6, 5.03, 7.825, 12.857645184136183, 17.7, 8.235, 11.6, 17.2, 11.0, 19.6, 8.02, 5.365, 11.35, 12.857645184136183, 16.35, 17.25, 13.8, 8.485, 11.8, 15.35, 10.0, 19.2, 18.6, 18.5, 20.25, 12.35, 14.5, 14.8, 14.0, 10.8, 14.65, 12.857645184136183, 6.65, 6.59, 12.857645184136183, 9.395, 19.75, 7.56, 20.25, 20.6, 6.575, 19.7, 13.5, 6.28, 18.25, 9.3, 16.6, 16.35, 10.0, 12.857645184136183, 7.535, 4.92, 6.385, 18.5, 11.6, 17.35, 16.7, 10.895, 18.35, 18.75, 9.3, 12.857645184136183, 8.26, 12.8, 16.75, 12.857645184136183, 10.895, 16.85, 20.0, 16.0, 16.0, 8.93, 9.6, 12.857645184136183, 12.857645184136183, 9.8, 9.6, 12.857645184136183, 7.945, 7.475, 14.85, 16.6, 10.5, 8.63, 21.0, 15.5, 14.7, 13.15, 17.7, 12.857645184136183, 9.21, 12.1, 9.31, 14.85, 12.857645184136183, 6.92, 13.65, 16.0, 16.35, 12.857645184136183, 4.88, 6.965, 16.0, 18.85, 20.7, 9.3, 9.695, 17.25, 19.6, 14.3, 12.6, 13.1, 12.857645184136183, 17.85, 8.905, 18.5, 20.25, 10.3, 17.85, 7.21, 16.1, 12.857645184136183, 12.857645184136183, 17.35, 10.0, 18.6, 16.75, 17.75, 9.0, 6.42, 16.75, 7.39, 19.2, 12.857645184136183, 5.46, 17.5, 12.3, 17.0, 12.857645184136183, 19.7, 19.6, 14.5, 19.35, 9.195, 16.25, 20.7, 20.0, 12.857645184136183, 11.8, 11.8, 19.1, 15.5, 9.5, 12.85, 11.65, 15.6, 18.85, 6.865, 11.65, 12.857645184136183, 20.5, 20.35, 10.895, 7.3, 11.1, 7.06, 9.8, 9.5, 17.6, 11.8, 9.695, 16.5, 12.857645184136183, 9.0, 12.6, 12.857645184136183, 14.35, 13.6, 13.85, 16.1, 18.25, 12.15, 15.35, 12.857645184136183, 15.35, 18.25, 11.8, 9.27, 12.857645184136183, 12.8, 15.0, 12.5, 17.35, 7.975, 10.5, 12.857645184136183, 14.35, 12.35, 10.195, 18.5, 11.5, 12.5, 12.857645184136183, 10.695, 14.15, 17.6, 12.857645184136183, 6.215, 18.1, 11.65, 7.42, 20.0, 17.75, 14.0, 15.35, 6.13, 9.695, 20.25, 12.857645184136183, 15.85, 19.85, 4.61, 7.365, 12.857645184136183, 18.85, 12.857645184136183, 11.3, 7.405, 15.7, 7.72, 6.65, 10.6, 12.857645184136183, 15.85, 12.15, 11.35, 20.1, 15.7, 12.857645184136183, 16.7, 6.115, 20.7, 9.8, 12.857645184136183, 20.35, 12.857645184136183, 6.85, 20.35, 9.195, 9.695, 12.857645184136183, 11.65, 6.035, 18.2, 12.857645184136183, 7.63, 6.385, 9.6, 20.5, 12.857645184136183, 18.35, 19.6, 14.15, 12.857645184136183, 12.857645184136183, 17.6, 19.0, 8.42, 9.3, 19.75, 6.78, 12.857645184136183, 17.25, 15.3, 15.7, 17.85, 12.857645184136183, 15.3, 16.25, 15.0, 13.85, 12.857645184136183, 13.8, 7.475, 18.7, 12.5, 15.85, 12.857645184136183, 20.75, 5.82, 5.785, 13.1, 10.1, 16.75, 12.857645184136183, 17.1, 7.42, 7.51, 12.857645184136183, 12.857645184136183, 19.2, 18.6, 7.105, 4.92, 11.0, 7.68, 13.15, 7.52, 8.895, 4.805, 12.857645184136183, 7.785, 8.975, 12.857645184136183, 9.3, 10.895, 15.0, 12.15, 16.7, 15.1, 8.02, 19.35, 20.7, 12.857645184136183, 4.59, 18.1, 12.85, 16.75, 14.85, 8.235, 6.425, 6.59, 12.857645184136183, 12.857645184136183, 6.36, 17.35, 8.6, 17.7, 7.6, 19.6, 12.857645184136183, 9.3, 20.2, 11.35, 16.5, 17.1, 4.88, 10.195, 12.8, 12.857645184136183, 8.05, 20.6, 6.32, 5.465, 18.25, 14.5, 15.7, 9.6, 20.7, 6.055, 5.655, 6.78, 12.857645184136183, 6.865, 6.61, 12.857645184136183, 12.6, 6.055, 20.2, 12.857645184136183, 14.15, 16.5, 13.3, 9.195, 12.857645184136183, 9.0, 15.7, 18.1, 12.857645184136183, 15.7, 9.195, 12.857645184136183, 13.85, 20.2, 12.857645184136183, 13.65, 15.0, 10.695, 12.857645184136183, 14.0, 6.655, 16.5, 9.6, 6.55, 16.25, 15.25, 9.695, 12.857645184136183, 16.0, 15.85, 12.857645184136183, 18.85, 6.215, 12.857645184136183, 11.8, 7.325, 10.5, 15.7, 12.857645184136183, 13.0, 13.5, 6.865, 7.785, 17.7, 20.2, 7.855, 6.36, 17.0, 5.78, 11.5, 12.857645184136183, 18.2, 18.25, 12.6, 8.575, 18.2, 8.115, 12.65, 12.857645184136183, 8.775, 5.94, 18.85, 9.8, 12.65, 20.7, 14.65, 12.857645184136183, 15.85, 17.25, 16.0, 6.32, 6.525, 6.695, 14.85, 17.1, 10.3, 19.7, 10.695, 7.285, 17.7, 18.25, 5.175, 5.635, 6.035, 14.8, 18.25, 16.1, 16.75, 17.7, 8.88, 18.2, 11.15, 20.0, 7.935, 20.1, 13.65, 6.635, 18.25, 11.15, 19.5, 6.48, 11.15, 5.985, 7.27, 6.78, 9.195, 19.5, 6.59, 7.51, 12.857645184136183, 12.857645184136183, 12.857645184136183, 12.5, 17.0, 12.857645184136183, 12.65, 12.5, 18.7, 11.0, 12.857645184136183, 7.35, 10.895, 17.2, 15.5, 7.905, 9.8, 11.6, 12.857645184136183, 12.857645184136183, 5.825, 16.35, 14.7, 11.6, 16.75, 12.5, 12.6, 12.35, 13.35, 12.857645184136183, 12.857645184136183, 12.857645184136183, 6.63, 6.61, 19.6, 13.6, 12.857645184136183, 19.25, 12.857645184136183, 20.0, 12.857645184136183, 20.75, 7.235, 12.857645184136183, 6.78, 7.3, 12.3, 16.85, 14.65, 15.6, 17.35, 16.0, 17.0, 11.5, 5.695, 15.2, 9.1, 16.85, 11.15, 17.0, 7.47, 20.7, 15.6, 17.7, 13.0, 14.0, 18.85, 15.7, 15.85, 6.175, 12.857645184136183, 16.0, 13.15, 16.5, 14.65, 13.5, 10.1, 11.85, 9.285, 12.8, 6.235, 12.15, 12.857645184136183, 12.35, 9.195, 16.2, 7.285, 7.05, 12.857645184136183, 14.5, 13.35, 11.5, 12.1, 11.8, 7.05, 12.857645184136183, 18.75, 19.25, 16.2, 8.31, 13.1, 13.5, 11.15, 7.5, 12.857645184136183, 15.6, 12.857645184136183, 6.78, 16.0, 12.857645184136183, 10.5, 17.1, 7.535, 15.1, 15.1, 10.0, 20.85, 16.7, 8.315, 12.857645184136183, 16.75, 12.857645184136183, 12.5, 6.8, 7.3, 15.85, 12.1, 9.195, 7.59, 12.15, 19.75, 18.85, 12.15, 13.1, 12.857645184136183, 12.857645184136183, 7.895, 12.857645184136183, 16.75, 16.35, 8.21, 15.85, 16.2, 17.5, 12.857645184136183, 13.65, 11.35, 10.8, 7.47, 19.85, 8.39, 10.8, 15.0, 17.35, 14.1, 19.2, 15.6, 12.857645184136183, 20.5, 12.857645184136183, 10.6, 15.1, 7.035, 16.0, 13.65, 18.85, 6.115, 8.96, 19.6, 9.195, 8.97, 12.35, 9.3, 17.7, 7.27, 20.7, 16.1, 12.857645184136183, 20.75, 20.2, 5.51, 20.2, 14.7, 20.0, 17.1, 11.5, 11.15, 16.2, 16.1, 12.857645184136183, 15.0, 12.8, 5.985, 19.35, 16.6, 12.857645184136183, 11.5, 8.88, 11.6, 9.8, 9.395, 12.3, 16.1, 19.1, 8.43, 14.5, 8.27, 7.02, 20.0, 7.81, 12.857645184136183, 13.1, 15.2, 10.8, 12.6, 12.15, 7.42, 12.857645184136183, 6.885, 12.857645184136183, 20.25, 15.3, 9.21, 15.6, 15.35, 12.15, 12.857645184136183, 11.395, 17.1, 18.85, 19.6, 11.3, 12.857645184136183, 5.785, 5.82, 9.0, 12.857645184136183, 7.895, 13.8, 5.44, 16.7, 19.85, 10.395, 12.857645184136183, 12.857645184136183, 15.1, 20.5, 15.6, 16.75, 10.85, 16.2, 7.72, 12.857645184136183, 5.785, 12.857645184136183, 15.2, 13.1, 6.32, 17.85, 12.857645184136183, 13.85, 5.78, 12.857645184136183, 6.885, 8.42, 7.63, 10.5, 7.575, 13.5, 12.15, 5.405, 12.857645184136183, 7.435, 4.635, 8.96, 18.35, 11.65, 10.5, 7.39, 12.857645184136183, 14.0, 18.5, 13.65, 14.15, 10.1, 10.1, 13.85, 13.1, 18.75, 14.0, 16.1, 12.857645184136183, 12.857645184136183, 12.35, 20.7, 7.825, 12.857645184136183, 12.1, 12.857645184136183, 14.65, 12.857645184136183, 20.75, 11.15, 12.1, 11.6, 17.6, 12.857645184136183, 12.857645184136183, 10.65, 18.35, 7.35, 18.2, 8.39, 14.3, 10.195, 14.15, 16.2, 12.857645184136183, 12.65, 12.857645184136183, 10.895, 5.735, 17.85, 5.82, 10.0, 17.6, 12.857645184136183, 10.1, 12.857645184136183, 17.6, 8.645, 19.5, 7.68, 15.7, 5.405, 20.85, 7.39, 6.465, 18.25, 12.857645184136183, 12.857645184136183, 10.195, 15.1, 13.65, 12.857645184136183, 12.857645184136183, 5.985, 9.5, 11.15, 12.857645184136183, 18.0, 12.857645184136183, 16.2, 13.15, 20.6, 11.395, 6.78, 8.84, 16.7, 13.3, 12.6, 7.6, 12.6, 6.67, 10.695, 12.857645184136183, 16.6, 10.0, 19.1, 17.6, 19.5, 10.1, 8.6, 19.7, 15.35, 5.26, 9.8, 16.5, 10.5, 13.1, 12.857645184136183, 9.3, 14.3, 12.857645184136183, 10.8, 12.857645184136183, 12.85, 6.78, 9.195, 7.905, 17.6, 15.7, 12.857645184136183, 19.2, 7.405, 19.5, 9.195, 11.65, 21.1, 8.695, 7.27, 8.85, 18.6, 12.857645184136183, 9.1, 7.975, 10.0, 6.865, 16.7, 7.285, 8.43, 20.2, 8.75, 12.857645184136183, 12.857645184136183, 9.695, 7.75, 19.75, 9.8, 11.8, 9.8, 7.42, 20.75, 12.6, 19.75, 10.895, 16.6, 6.765, 13.1, 12.857645184136183, 6.155, 10.65, 12.857645184136183, 20.25, 20.5, 11.8, 15.0, 13.15, 15.5, 12.857645184136183, 11.6, 14.35, 13.15, 10.895, 10.1, 18.7, 12.15, 10.195, 8.575, 16.5, 9.065, 16.6, 11.6, 19.5, 16.6, 11.85, 12.85, 9.0, 5.655, 8.93, 15.2, 7.655, 12.857645184136183, 15.5, 18.7, 9.5, 13.65, 19.5, 8.71, 12.857645184136183, 19.6, 12.857645184136183, 11.8, 6.715, 19.1, 20.7, 10.195, 20.2, 10.8, 19.75, 19.35, 7.405, 15.25, 12.857645184136183, 8.895, 18.75, 20.1, 12.35, 16.85, 18.25, 17.0, 12.857645184136183, 14.3, 17.6, 12.857645184136183, 20.25, 18.0, 16.35, 14.0, 5.78, 21.0, 13.65, 12.3, 12.35, 11.8, 19.7, 10.1, 12.857645184136183, 17.85, 20.7, 8.89, 14.5, 9.0, 13.35, 6.675, 10.3, 12.857645184136183, 17.1, 14.15, 10.8, 8.5, 6.215, 17.5, 20.7, 8.975, 20.5, 13.65, 13.1, 4.615, 12.3, 12.857645184136183, 19.2, 20.1, 11.5, 9.3, 15.2, 12.65, 11.1, 12.857645184136183, 12.857645184136183, 19.2, 19.75, 6.135, 12.5, 7.235, 15.85, 9.895, 20.75, 10.8, 8.76, 16.1, 7.1, 19.35, 16.7, 9.5, 8.43, 14.15, 5.44, 7.35, 12.857645184136183, 20.1, 12.0, 21.25, 8.3, 10.1, 14.15, 9.0, 12.15, 12.857645184136183, 12.857645184136183, 20.0, 6.71, 12.857645184136183, 7.365, 7.935, 12.6, 17.6, 19.0, 7.5, 13.35, 8.6, 12.857645184136183, 10.5, 9.0, 4.61, 10.895, 17.6, 11.65, 19.1, 17.2, 16.5, 15.6, 9.0, 15.0, 12.857645184136183, 12.857645184136183, 6.195, 20.2, 20.7, 20.25, 7.655, 12.857645184136183, 5.92, 18.75, 9.395, 13.35, 12.857645184136183, 19.2, 19.0, 14.15, 20.85, 8.63, 16.7, 7.895, 7.72, 5.615, 7.05, 14.35, 8.52, 7.645, 12.1, 14.8, 20.75, 10.8, 18.35, 13.5, 20.5, 12.35, 8.895, 16.7, 16.2, 7.26, 6.65, 13.35, 17.35, 12.857645184136183, 5.46, 18.25, 8.185, 7.5, 12.65, 14.3, 17.85, 6.425, 6.825, 12.857645184136183, 20.25, 19.2, 17.7, 9.695, 12.857645184136183, 7.75, 12.857645184136183, 19.75, 5.325, 12.857645184136183, 12.857645184136183, 12.857645184136183, 6.71, 14.35, 15.2, 5.82, 5.59, 18.5, 12.857645184136183, 14.0, 7.605, 12.857645184136183, 9.6, 17.7, 15.7, 13.65, 14.6, 15.6, 20.25, 8.02, 18.35, 16.6, 10.0, 16.1, 13.0, 16.1, 19.0, 17.6, 6.32, 9.3, 11.1, 12.857645184136183, 6.15, 20.85, 17.1, 13.15, 16.5, 11.65, 13.15, 19.35, 19.35, 16.5, 21.35, 16.0, 20.5, 19.75, 17.6, 4.615, 5.88, 11.8, 17.35, 12.35, 12.857645184136183, 9.0, 6.235, 9.6, 16.75, 17.1, 6.825, 6.78, 16.0, 15.0, 7.39, 17.6, 12.65, 17.85, 11.15, 15.7, 14.65, 12.857645184136183, 18.25, 20.7, 15.85, 6.575, 17.75, 12.857645184136183, 12.857645184136183, 12.857645184136183, 16.7, 10.85, 10.0, 13.65, 19.0, 9.6, 12.0, 5.925, 13.0, 8.18, 12.8, 19.2, 14.5, 5.19, 13.3, 19.6, 17.75, 12.35, 14.35, 6.365, 12.857645184136183, 12.857645184136183, 14.75, 12.15, 6.59, 12.6, 12.857645184136183, 12.857645184136183, 12.857645184136183, 12.857645184136183, 7.325, 12.857645184136183, 15.1, 12.857645184136183, 8.51, 12.857645184136183, 20.35, 17.85, 18.25, 17.6, 10.895, 11.85, 12.857645184136183, 14.1, 15.15, 17.25, 17.6, 14.6, 10.1, 10.5, 12.6, 18.7, 5.985, 12.1, 13.0, 19.2, 5.78, 7.17, 20.85, 18.75, 7.5, 10.395, 12.8, 11.65, 20.2, 11.35, 8.71, 8.31, 19.0, 7.5, 6.525, 12.857645184136183, 12.857645184136183, 6.985, 11.3, 6.115, 9.5, 15.7, 16.0, 13.1, 12.857645184136183, 16.85, 12.857645184136183, 14.85, 18.2, 11.0, 21.1, 15.2, 12.857645184136183, 9.06, 11.5, 11.15, 13.5, 15.1, 8.3, 14.15, 12.857645184136183, 8.365, 11.85, 19.6, 19.0, 18.25, 19.85, 12.85, 12.857645184136183, 19.6, 15.7, 13.3, 10.395, 10.5, 19.35, 14.1, 8.6, 17.1, 12.857645184136183, 20.5, 15.1, 6.69, 12.857645184136183, 7.905, 18.0, 7.84, 15.15, 15.2, 19.85, 12.857645184136183, 7.325, 5.88, 10.695, 12.857645184136183, 20.25, 8.05, 11.65, 19.35, 7.235, 12.15, 8.615, 6.765, 10.3, 13.15, 8.84, 8.26, 20.1, 9.695, 18.85, 18.25, 12.857645184136183, 5.32, 8.115, 15.1, 8.42, 9.0, 8.18, 12.857645184136183, 15.35, 20.6, 9.3, 19.6, 11.3, 12.857645184136183, 15.3, 8.235, 15.2, 12.857645184136183, 9.0, 9.0, 15.35, 12.857645184136183, 20.1, 10.3, 12.35, 8.88, 15.85, 14.1, 20.25, 16.5, 13.6, 12.857645184136183, 20.35, 7.275, 19.7, 12.857645184136183, 12.857645184136183, 14.15, 19.0, 12.857645184136183, 20.5, 6.96, 15.35, 17.1, 10.195, 12.857645184136183, 5.78, 6.385, 12.857645184136183, 9.3, 13.65, 9.195, 9.17, 12.6, 14.85, 19.35, 18.7, 5.46, 8.785, 12.6, 8.76, 12.3, 19.6, 12.857645184136183, 8.155, 12.857645184136183, 7.97, 18.85, 11.1, 9.6, 9.27, 13.35, 11.3, 19.0, 12.3, 6.425, 11.5, 5.19, 12.15, 15.25, 11.8, 15.7, 16.75, 10.8, 11.8, 12.857645184136183, 7.81, 11.1, 12.85, 10.5, 6.135, 12.857645184136183, 12.857645184136183, 9.3, 16.6, 8.51, 8.645, 8.6, 12.857645184136183, 14.5, 6.65, 20.1, 15.25, 17.7, 7.075, 11.5, 5.82, 8.785, 5.465, 12.857645184136183, 12.857645184136183, 15.7, 7.39, 12.857645184136183, 6.8, 12.857645184136183, 11.5, 17.6, 7.75, 12.857645184136183, 18.6, 5.73, 12.15, 5.44, 17.7, 12.857645184136183, 12.1, 8.355, 6.26, 15.75, 5.905, 16.0, 20.25, 5.175, 9.0, 15.6, 5.175, 12.857645184136183, 18.7, 17.6, 18.2, 13.15, 8.6, 12.857645184136183, 20.35, 7.39, 19.6, 16.25, 6.28, 9.395, 7.72, 12.65, 12.857645184136183, 16.75, 15.5, 8.88, 18.25, 8.935, 16.0, 19.7, 20.6, 19.25, 14.15, 6.63, 11.8, 12.857645184136183, 12.85, 11.6, 12.857645184136183, 12.15, 4.635, 19.6, 20.2, 12.857645184136183, 9.395, 11.395, 19.5, 18.35, 5.365, 11.8, 11.3, 19.6, 14.0, 19.7, 12.5, 12.3, 7.435, 6.48, 17.6, 8.155, 16.1, 15.5, 12.857645184136183, 4.785, 14.6, 6.445, 4.88, 8.1, 8.395, 10.0, 12.857645184136183, 12.35, 11.3, 12.857645184136183, 19.5, 19.7, 7.75, 15.1, 12.857645184136183, 11.1, 7.075, 7.97, 12.15, 14.1, 12.857645184136183, 11.1, 12.857645184136183, 7.42, 16.35, 19.1, 12.857645184136183, 5.19, 11.8, 11.35, 15.2, 11.5, 20.25, 10.1, 13.1, 12.0, 19.0, 19.7, 12.857645184136183, 18.6, 11.5, 16.75, 18.85, 6.135, 20.7, 17.6, 16.0, 8.92, 17.75, 15.6, 12.857645184136183, 17.75, 5.73, 5.73, 9.3, 20.2, 12.857645184136183, 12.15, 21.35, 20.2, 6.57, 19.35, 8.6, 8.51, 12.857645184136183, 7.5, 14.3, 15.0, 14.3, 10.195, 6.825, 12.65, 11.15, 19.1, 18.85, 19.6, 15.1, 12.857645184136183, 6.425, 8.88, 12.3, 12.85, 11.35, 12.857645184136183, 19.0, 10.195, 8.27, 14.85, 12.857645184136183, 18.0, 7.1, 8.355, 9.8, 18.2, 12.857645184136183, 14.65, 12.857645184136183, 9.695, 12.857645184136183, 13.85, 7.75, 11.8, 12.3, 16.0, 11.5, 12.857645184136183, 7.36, 7.64, 17.75, 17.75, 7.27, 7.67, 20.2, 16.0, 9.5, 19.1, 15.0, 7.035, 19.75, 12.857645184136183, 12.857645184136183, 11.8, 12.857645184136183, 12.857645184136183, 19.1, 13.6, 5.34, 18.2, 12.15, 14.35, 17.35, 10.695, 7.22, 19.1, 8.26, 12.857645184136183, 14.0, 6.615, 14.15, 11.8, 12.857645184136183, 19.2, 18.85, 17.0, 12.5, 12.857645184136183, 8.6, 9.3, 7.27, 11.8, 16.35, 12.857645184136183, 12.857645184136183, 20.0, 5.82, 18.75, 9.5, 12.857645184136183, 10.5, 20.5, 12.3, 13.1, 11.395, 8.93, 18.2, 19.7, 14.1, 7.67, 12.857645184136183, 14.15, 11.6, 18.85, 15.6, 6.385, 16.1, 9.0, 12.857645184136183, 6.635, 12.857645184136183, 20.75, 6.63, 8.42, 5.15, 12.857645184136183, 12.857645184136183, 15.1, 15.35, 12.857645184136183, 12.85, 12.857645184136183, 7.475, 8.27, 12.85, 8.365, 8.985, 19.6, 16.1, 20.2, 10.3, 10.8, 16.75, 12.857645184136183, 18.2, 9.395, 12.857645184136183, 12.857645184136183, 12.857645184136183, 5.46, 12.65, 16.5, 17.35, 5.88, 12.1, 7.93, 8.43, 12.857645184136183, 14.15, 12.857645184136183, 12.857645184136183, 15.1, 17.75, 12.85, 10.5, 12.857645184136183, 12.857645184136183, 12.35, 7.84, 6.76, 9.895, 8.315, 17.5, 11.6, 7.285, 20.6, 16.1, 11.0, 17.7, 17.35, 12.857645184136183, 18.2, 7.825, 19.35, 8.895, 7.475, 10.5, 12.3, 6.035, 20.75, 13.85, 15.5, 11.6, 12.857645184136183, 6.635, 6.785, 16.2, 5.94, 13.35, 6.3, 17.1, 8.355, 18.25, 12.857645184136183, 12.857645184136183, 12.857645184136183, 12.65, 12.857645184136183, 16.5, 20.85, 6.155, 7.565, 8.905, 9.195, 16.2, 12.857645184136183, 12.857645184136183, 12.3, 6.135, 17.25, 11.3, 12.857645184136183, 17.85, 14.85, 16.5, 17.25, 10.695, 12.857645184136183, 12.3, 6.235, 12.15, 7.47, 8.155, 8.895, 7.97, 16.2, 14.5, 12.857645184136183, 15.7, 13.3, 6.865, 8.21, 20.7, 11.6, 12.857645184136183, 12.65, 12.857645184136183, 12.6, 13.35, 4.61, 13.8, 12.857645184136183, 14.0, 9.17, 16.5, 16.7, 12.857645184136183, 6.98, 12.15, 19.25, 12.857645184136183, 9.3, 11.0, 6.67, 6.675, 6.48, 14.1, 15.35, 7.05, 11.1, 6.445, 7.5, 17.25, 20.35, 12.857645184136183, 4.59, 12.6, 5.98, 7.47, 20.7, 6.17, 11.35, 19.5, 15.75, 15.6, 8.395, 8.395, 19.2, 8.06, 16.75, 13.0, 11.3, 12.857645184136183, 21.2, 20.2, 8.02, 12.857645184136183, 18.25, 7.05, 5.51, 15.7, 9.6, 5.175, 15.6, 7.81, 12.857645184136183, 19.7, 15.85, 12.857645184136183, 7.3, 6.15, 6.44, 12.857645184136183, 15.5, 15.2, 14.8, 18.35, 9.0, 17.85, 17.75, 6.615, 20.1, 9.195, 20.2, 12.857645184136183, 8.26, 12.857645184136183, 7.52, 17.0, 19.6, 5.095, 17.0, 15.35, 8.42, 6.985, 6.3, 14.85, 12.35, 12.3, 10.5, 15.35, 18.5, 11.6, 14.3, 8.52, 18.2, 18.25, 12.1, 13.35, 19.5, 12.857645184136183, 14.35, 12.857645184136183, 11.1, 8.42, 12.857645184136183, 15.5, 11.65, 12.857645184136183, 12.3, 13.65, 13.3, 12.857645184136183, 9.5, 8.8, 20.7, 11.5, 16.7, 6.885, 6.715, 5.19, 9.395, 9.695, 6.695, 20.35, 6.615, 7.36, 9.13, 13.35, 8.355, 19.85, 18.25, 15.75, 18.0, 7.63, 10.195, 11.8, 10.395, 7.235, 14.85, 12.857645184136183, 15.85, 20.7, 9.395, 13.5, 12.857645184136183, 14.1, 12.857645184136183, 14.15, 9.695, 4.88, 10.195, 12.857645184136183, 12.857645184136183, 12.857645184136183, 15.35, 6.695, 10.0, 8.63, 15.0, 20.0, 12.857645184136183, 9.1, 16.0, 15.85, 12.857645184136183, 19.1, 7.27, 6.59, 13.1, 14.3, 15.1, 5.825, 10.195, 20.2, 12.3, 16.75, 11.1, 9.195, 12.857645184136183, 12.8, 6.325, 12.857645184136183, 6.17, 6.98, 12.857645184136183, 12.15, 9.3, 18.0, 12.15, 13.5, 19.35, 8.485, 6.3, 20.85, 15.5, 17.0, 12.857645184136183, 10.5, 9.3, 12.857645184136183, 5.615, 18.0, 13.35, 12.857645184136183, 7.02, 20.1, 14.65, 7.825, 17.35, 16.35, 15.2, 18.7, 15.2, 17.85, 14.8, 15.85, 12.857645184136183, 18.85, 16.7, 20.35, 9.195, 15.3, 16.5, 20.85, 12.857645184136183, 10.6, 5.15, 12.85, 20.25, 17.6, 16.7, 15.0, 6.63, 12.857645184136183, 15.5, 12.857645184136183, 9.895, 16.25, 13.5, 17.7, 12.857645184136183, 13.85, 6.92, 11.65, 11.0, 17.75, 5.695, 17.25, 10.5, 16.2, 17.6, 7.31, 14.15, 12.857645184136183, 7.97, 9.895, 10.695, 13.15, 18.35, 15.7, 5.785, 19.1, 12.857645184136183, 12.6, 14.7, 20.2, 14.15, 12.857645184136183, 12.857645184136183, 18.2, 12.857645184136183, 12.6, 16.2, 13.15, 7.51, 13.85, 9.1, 19.85, 11.6, 15.7, 12.857645184136183, 20.35, 10.5, 7.435, 5.655, 11.1, 15.0, 14.15, 12.857645184136183, 12.5, 20.35, 8.85, 7.55, 18.7, 12.857645184136183, 12.6, 9.395, 7.21, 18.35, 11.3, 17.25, 12.857645184136183, 11.85, 9.6, 12.15, 17.75, 20.35, 8.785, 12.857645184136183, 6.11, 12.857645184136183, 15.15, 10.5, 12.857645184136183, 16.7, 9.035, 11.0, 11.8, 10.695, 12.857645184136183, 9.105, 16.2, 12.857645184136183, 18.75, 13.3, 6.425, 16.35, 19.6, 18.2, 19.0, 11.395, 6.635, 17.85, 14.15, 5.5, 8.895, 17.7, 12.857645184136183, 10.0, 7.09, 12.15, 7.75, 12.857645184136183, 5.03, 9.8, 12.857645184136183, 15.85, 17.7, 12.65, 19.6, 6.85, 12.857645184136183, 7.09, 6.55, 12.857645184136183, 19.25, 5.635, 7.035, 7.72, 13.0, 8.51, 12.857645184136183, 9.8, 19.85, 12.1, 15.5, 9.5, 12.857645184136183, 8.155, 8.18, 12.857645184136183, 19.6, 20.6, 9.695, 8.85, 8.93, 17.5, 16.1, 13.65, 5.425, 13.15, 6.26, 19.7, 12.857645184136183, 11.8, 13.85, 14.35, 12.857645184136183, 20.7, 7.64, 19.6, 18.5, 12.3, 12.1, 7.21, 17.6, 6.135, 19.6, 12.1, 14.5, 8.96, 20.7, 7.145, 9.6, 14.5, 12.857645184136183, 18.85, 13.8, 20.35, 20.75, 8.185, 9.395, 7.39, 16.75, 9.8, 15.0, 6.215, 11.65, 5.51, 7.72, 16.35, 12.857645184136183, 13.8, 4.905, 16.35, 21.25, 15.85, 8.6, 9.13, 12.857645184136183, 12.857645184136183, 12.857645184136183, 10.895, 9.3, 17.7, 9.3, 4.555, 19.2, 12.857645184136183, 17.35, 12.65, 8.0, 17.7, 14.85, 12.15, 15.1, 12.6, 16.75, 10.8, 20.2, 12.857645184136183, 15.2, 7.315, 16.1, 12.857645184136183, 17.75, 17.2, 6.635, 12.857645184136183, 7.52, 12.15, 9.195, 12.857645184136183, 12.857645184136183, 12.85, 12.857645184136183, 7.31, 18.25, 9.6, 10.3, 16.7, 11.15, 11.85, 12.6, 7.855, 18.35, 12.857645184136183, 12.5, 17.25, 12.1, 16.0, 5.94, 13.65, 8.88, 11.5, 7.855, 8.85, 12.857645184136183, 13.6, 8.27, 12.857645184136183, 9.895, 12.857645184136183, 18.5, 21.1, 6.65, 18.5, 12.857645184136183, 13.0, 12.857645184136183, 15.0, 13.1, 11.1, 16.75, 7.655, 10.5, 8.1, 15.7, 14.5, 17.7, 7.36, 18.75, 18.2, 5.46, 15.5, 12.85, 15.25, 8.6, 7.39, 9.035, 11.65, 15.7, 18.0, 12.857645184136183, 17.75, 17.1, 18.2, 20.35, 15.6, 13.3, 6.71, 15.0, 12.857645184136183, 9.105, 11.8, 12.0, 20.7, 10.3, 19.6, 6.89, 16.7, 13.0, 10.1, 15.6, 7.97, 12.857645184136183, 5.945, 20.35, 13.5, 6.71, 12.15, 17.7, 20.5, 19.1, 12.3, 8.905, 14.5, 8.365, 8.51, 6.38, 12.857645184136183, 16.7, 10.0, 14.5, 14.65, 12.857645184136183, 11.85, 19.0, 6.36, 18.85, 9.6, 5.94, 13.5, 10.85, 15.15, 15.6, 5.15, 20.35, 8.895, 21.25, 4.905, 10.895, 12.857645184136183, 17.75, 6.8, 10.395, 14.8, 13.5, 16.0, 17.85, 18.7, 18.0, 12.857645184136183, 5.26, 6.175, 5.86, 12.857645184136183, 10.5, 9.5, 12.857645184136183, 11.8, 12.5, 19.35, 20.2, 20.2, 12.857645184136183, 6.8, 12.857645184136183, 12.857645184136183, 8.43, 9.3, 11.35, 20.1, 11.35, 12.857645184136183, 9.8, 20.35, 18.2, 18.35, 12.1, 10.695, 12.857645184136183, 11.8, 13.8, 15.0, 5.63, 7.55, 18.85, 7.22, 17.85, 8.895, 19.25, 11.3, 10.85, 5.0, 20.0, 12.857645184136183, 10.0, 12.857645184136183, 8.63, 9.1, 6.92, 6.86, 20.0, 14.1, 17.6, 17.75, 8.6, 7.27, 6.8, 12.857645184136183, 6.935, 6.69, 12.857645184136183, 12.35, 15.6, 12.857645184136183, 13.1, 9.195, 11.15, 16.1, 6.465, 20.75, 7.655, 20.25, 18.75, 11.5, 12.857645184136183, 12.857645184136183, 7.5, 17.0, 12.857645184136183, 6.03, 12.857645184136183, 15.0, 18.75, 17.85, 18.35, 18.35, 19.6, 12.857645184136183, 14.65, 21.0, 9.6, 17.6, 14.0, 6.59, 17.6, 11.5, 20.35, 18.7, 5.46, 9.31, 12.3, 18.2, 18.25, 18.25, 12.857645184136183, 10.195, 5.34, 12.857645184136183, 11.15, 9.8, 12.1, 12.857645184136183, 12.857645184136183, 15.5, 15.5, 5.15, 17.25, 18.35, 6.32, 5.51, 13.35, 12.857645184136183, 12.857645184136183, 12.857645184136183, 12.857645184136183, 14.0, 18.85, 12.857645184136183, 18.35, 10.5, 9.6, 12.857645184136183, 6.035, 6.65, 12.857645184136183, 7.285, 11.1, 11.35, 12.3, 11.6, 12.3, 18.85, 9.8, 7.445, 11.1, 21.0, 20.2, 18.2, 11.8, 20.6, 9.8, 18.6, 13.0, 20.7, 9.8, 9.5, 21.1, 12.857645184136183, 8.975, 4.92, 17.5, 12.857645184136183, 9.695, 12.857645184136183, 7.725, 12.857645184136183, 9.6, 9.1, 17.0, 14.0, 12.1, 19.85, 17.2, 8.71, 6.89, 18.75, 12.857645184136183, 14.5, 12.857645184136183, 12.857645184136183, 20.75, 17.6, 16.85, 20.6, 5.175, 17.85, 8.93, 12.857645184136183, 7.655, 18.35, 12.857645184136183, 14.0, 11.6, 15.85, 10.5, 16.7, 17.6, 18.25, 21.1, 9.1, 15.25, 14.35, 12.857645184136183, 5.885, 16.1, 12.857645184136183, 19.7, 11.5, 16.5, 15.15, 12.15, 15.7, 11.6, 12.85, 15.0, 11.0, 5.88, 7.825, 12.857645184136183, 10.695, 12.857645184136183, 13.6, 8.06, 12.857645184136183, 7.105, 18.6, 9.5, 16.85, 17.85, 13.1, 11.3, 13.3, 15.2, 20.7, 7.405, 6.15, 11.35, 19.85, 12.857645184136183, 8.18, 12.15, 6.03, 15.85, 18.6, 12.0, 17.1, 10.5, 17.5, 16.1, 20.1, 12.857645184136183, 7.55, 19.25, 19.6, 14.85, 14.65, 9.3, 12.857645184136183, 14.5, 8.365, 12.85, 13.5, 7.365, 21.1, 12.857645184136183, 9.5, 12.85, 14.0, 18.35, 12.857645184136183, 7.155, 5.82, 17.75, 18.0, 7.06, 15.6, 12.857645184136183, 12.3, 15.0, 18.2, 20.5, 8.27, 12.857645184136183, 8.93, 6.215, 20.25, 7.895, 19.35, 9.695, 12.857645184136183, 8.21, 7.3, 20.0, 7.865, 12.857645184136183, 20.35, 16.0, 18.0, 18.7, 12.857645184136183, 10.6, 5.655, 12.857645184136183, 10.195, 8.06, 16.35, 6.46, 13.5, 16.2, 19.1, 12.857645184136183, 5.48, 6.055, 9.6, 6.135, 8.43, 8.27, 10.195, 14.0, 8.01, 16.25, 13.35, 12.857645184136183, 17.75, 13.5, 11.8, 5.78, 9.0, 17.75, 8.395, 12.857645184136183, 12.85, 8.5, 14.0, 9.3, 15.85, 10.8, 7.26, 18.7, 16.0, 8.895, 11.1, 18.85, 7.905, 14.7, 12.6, 16.0, 12.857645184136183, 12.857645184136183, 13.35, 20.1, 8.185, 9.195, 19.1, 12.85, 11.15, 9.8, 10.195, 12.857645184136183, 12.0, 12.857645184136183, 16.7, 17.1, 12.857645184136183, 16.7, 19.35, 19.2, 12.857645184136183, 18.25, 16.75, 17.1, 13.0, 7.17, 19.85, 12.857645184136183, 4.615, 7.63, 8.39, 5.175, 16.0, 12.857645184136183, 12.857645184136183, 12.857645184136183, 9.5, 10.895, 12.857645184136183, 17.2, 19.85, 6.385, 11.65, 12.85, 17.7, 9.1, 15.5, 16.35, 10.695, 16.6, 12.857645184136183, 13.15, 11.5, 12.857645184136183, 12.857645184136183, 5.63, 19.2, 12.857645184136183, 6.695, 15.75, 12.5, 21.25, 12.857645184136183, 18.85, 20.1, 11.395, 9.3, 12.857645184136183, 12.8, 6.8, 12.857645184136183, 15.0, 19.85, 7.85, 20.2, 11.85, 6.135, 9.0, 17.5, 12.15, 11.0, 17.5, 12.857645184136183, 12.857645184136183, 17.5, 12.857645184136183, 10.6, 7.145, 12.857645184136183, 20.7, 12.857645184136183, 17.5, 17.7, 8.6, 9.5, 17.7, 12.3, 6.26, 17.7, 18.25, 5.8, 14.5, 18.25, 12.85, 17.1, 7.575, 9.21, 11.3, 12.857645184136183, 13.6, 20.85, 9.195, 12.857645184136183, 15.75, 16.5, 12.857645184136183, 20.5, 17.6, 8.775, 10.1, 18.2, 8.975, 12.857645184136183, 9.6, 8.185, 14.75, 20.5, 14.65, 19.2, 5.945, 17.5, 10.895, 20.5, 12.857645184136183, 13.65, 15.7, 18.7, 19.35, 16.0, 6.965, 11.395, 7.5, 6.115, 12.857645184136183, 14.8, 8.71, 15.5, 19.35, 12.857645184136183, 19.2, 16.25, 19.85, 13.65, 7.535, 12.857645184136183, 12.857645184136183, 5.59, 11.0, 19.85, 17.6, 6.215, 15.1, 13.35, 9.5, 11.8, 17.6, 19.85, 13.35, 18.85, 17.5, 20.2, 5.88, 12.857645184136183, 15.85, 5.985, 18.85, 18.85, 7.51, 16.2, 17.6, 8.97, 7.22, 12.857645184136183, 8.71, 17.7, 15.85, 6.055, 12.857645184136183, 19.25, 16.5, 13.5, 12.857645184136183, 7.865, 10.6, 12.857645184136183, 16.2, 14.5, 7.235, 16.75, 12.857645184136183, 12.857645184136183, 14.0, 19.85, 10.895, 5.635, 10.65, 15.1, 16.5, 13.35, 12.15, 13.65, 20.75, 19.1, 17.25, 12.857645184136183, 12.857645184136183, 10.195, 16.6, 17.6, 8.185, 13.65, 10.6, 10.8, 15.2, 8.895, 11.8, 7.63, 6.55, 16.85, 12.857645184136183, 7.235, 19.25, 13.85, 18.1, 18.6, 6.615, 15.6, 18.85, 7.235, 7.825, 12.857645184136183, 19.7, 12.6, 10.65, 16.75, 13.8, 9.6, 13.1, 14.6, 6.67, 15.7, 17.75, 20.2, 10.85, 20.25, 12.857645184136183, 5.86, 6.115, 19.7, 9.8, 12.5, 19.35, 16.75, 19.1, 21.35, 19.5, 6.575, 6.67, 12.3, 16.1, 12.857645184136183, 17.35, 15.35, 8.975, 13.15, 19.5, 15.1, 5.465, 17.75, 12.857645184136183, 6.96, 17.85, 5.095, 5.73, 7.5, 7.855, 5.655, 12.15, 9.6, 18.85, 20.2, 12.15, 19.6, 16.0, 12.857645184136183, 6.425, 6.825, 12.857645184136183, 7.97, 17.25, 9.1, 19.2, 12.857645184136183, 12.857645184136183, 14.5, 12.857645184136183, 17.75, 7.145, 8.985, 16.35, 5.655, 9.5, 5.78, 8.05, 6.75, 16.6, 6.095, 15.1, 19.35, 11.3, 10.8, 19.7, 12.857645184136183, 10.5, 7.655, 8.235, 20.6, 19.35, 9.5, 5.305, 9.8, 9.6, 13.0, 17.6, 14.3, 10.3, 15.1, 6.03, 7.68, 20.0, 15.85, 15.2, 12.15, 19.35, 12.857645184136183, 12.857645184136183, 8.85, 19.85, 19.1, 17.0, 11.15, 12.35, 20.85, 12.857645184136183, 7.035, 4.785, 12.857645184136183, 17.25, 9.3, 17.25, 17.85, 12.857645184136183, 9.8, 18.85, 9.695, 10.0, 16.6, 18.25, 5.82, 9.31, 18.25, 19.7, 6.865, 11.35, 17.7, 12.857645184136183, 20.85, 17.25, 15.35, 13.65, 15.2, 6.38, 12.857645184136183, 6.905, 12.857645184136183, 12.857645184136183, 15.7, 15.2, 12.857645184136183, 12.857645184136183, 12.857645184136183, 8.355, 12.15, 13.35, 17.0, 17.35, 12.857645184136183, 9.1, 6.13, 12.857645184136183, 19.2, 8.895, 19.75, 10.895, 12.857645184136183, 10.3, 19.1, 4.555, 12.857645184136183, 16.2, 8.975, 21.1, 17.75, 12.8, 6.905, 10.195, 5.785, 12.857645184136183, 7.96, 8.3, 5.46, 13.35, 5.46, 12.857645184136183, 20.75, 6.59, 7.55, 20.85, 18.85, 15.2, 10.1, 10.0, 8.985, 11.5, 12.857645184136183, 19.85, 21.1, 4.555, 20.85, 7.905, 6.78, 12.857645184136183, 15.0, 17.6, 13.8, 5.11, 8.71, 7.235, 12.3, 6.96, 18.0, 6.28, 10.5, 14.15, 9.8, 15.85, 10.3, 17.6, 12.857645184136183, 10.3, 9.195, 12.8, 10.0, 17.25, 12.857645184136183, 20.2, 7.5, 7.895, 15.75, 12.857645184136183, 13.65, 20.1, 13.65, 12.3, 12.857645184136183, 21.35, 7.72, 12.1, 14.85, 12.857645184136183, 16.0, 8.395, 7.365, 20.5, 18.25, 12.857645184136183, 7.475, 12.15, 7.97, 15.25, 16.35, 11.1, 11.8, 14.3, 13.65, 16.75, 16.25, 18.0, 20.2, 15.0, 12.857645184136183, 12.857645184136183, 12.857645184136183, 13.0, 14.65, 12.857645184136183, 5.88, 12.35, 9.0, 10.395, 10.195, 12.857645184136183, 9.695, 19.35, 16.7, 5.985, 8.85, 15.7, 12.5, 19.35, 7.72, 17.2, 12.857645184136183, 12.857645184136183, 12.857645184136183, 8.895, 20.2, 20.5, 17.6, 11.15, 12.857645184136183, 19.6, 10.895, 13.85, 15.1, 15.0, 12.85, 16.85, 15.5, 15.85, 21.2, 13.35, 6.11, 13.0, 12.857645184136183, 12.857645184136183, 6.425, 12.857645184136183, 12.0, 7.535, 7.68, 14.7, 10.3, 13.8, 10.1, 7.785, 13.8, 11.8, 10.5, 12.857645184136183, 19.7, 12.857645184136183, 12.857645184136183, 15.1, 16.2, 11.3, 12.857645184136183, 12.857645184136183, 19.7, 20.6, 9.5, 13.5, 13.65, 7.27, 12.857645184136183, 6.86, 14.7, 12.857645184136183, 9.195, 14.15, 12.3, 11.8, 13.6, 11.6, 15.0, 7.0, 13.1, 11.3, 12.3, 10.0, 12.857645184136183, 6.98, 19.0, 17.0, 15.15, 12.857645184136183, 12.857645184136183, 8.355, 12.15, 17.25, 6.46, 12.857645184136183, 5.78, 18.7, 19.2, 12.857645184136183, 12.857645184136183, 12.857645184136183, 12.857645184136183, 7.35, 20.35, 12.857645184136183, 17.85, 4.615, 15.0, 12.857645184136183, 12.1, 11.65, 12.857645184136183, 15.5, 9.195, 15.1, 5.095, 15.1, 12.1, 6.235, 15.0, 12.857645184136183, 10.65, 9.8, 18.25, 12.857645184136183, 19.6, 17.0, 9.6, 8.51, 5.88, 8.905, 12.857645184136183, 8.85, 20.7, 12.857645184136183, 6.3, 17.5, 12.857645184136183, 5.765, 17.75, 5.035, 8.355, 6.13, 10.5, 12.5, 12.857645184136183, 20.75, 12.857645184136183, 13.35, 7.96, 8.92, 6.635, 15.5, 6.13, 7.315, 16.0, 16.85, 15.85, 15.0, 19.1, 19.0, 13.5, 16.75, 12.857645184136183, 9.195, 19.35, 11.8, 10.6, 13.65, 14.85, 12.857645184136183, 13.5, 5.635, 7.405, 12.857645184136183, 11.35, 12.857645184136183, 16.1, 17.7, 13.1, 14.3, 12.857645184136183, 8.6, 5.78, 8.195, 13.65, 17.35, 20.25, 12.857645184136183, 16.1, 12.857645184136183, 17.6, 18.0, 12.5, 9.065, 16.85, 16.0, 9.3, 6.215, 20.1, 8.77, 16.25, 15.15, 13.15, 12.15, 12.857645184136183, 20.85, 18.2, 8.3, 6.195, 15.1, 11.5, 19.0, 10.5, 8.8, 12.857645184136183, 17.75, 12.857645184136183, 17.75, 20.75, 16.7, 12.857645184136183, 13.85, 15.35, 12.1, 12.15, 12.857645184136183, 16.35, 12.857645184136183, 7.27, 13.8, 20.25, 9.3, 14.15, 12.857645184136183, 8.115, 12.857645184136183, 11.1, 12.5, 9.8, 19.7, 14.3, 19.75, 18.5, 12.857645184136183, 12.35, 12.857645184136183, 5.365, 12.857645184136183, 20.5, 8.71, 12.857645184136183, 16.0, 17.6, 20.7, 13.0, 20.2, 20.35, 18.6, 12.857645184136183, 13.35, 17.85, 16.35, 14.85, 21.25, 14.15, 17.2, 12.857645184136183, 10.85, 20.35, 16.35, 9.3, 12.857645184136183, 15.75, 14.85, 18.6, 16.35, 9.695, 15.15, 14.3, 10.895, 8.39, 18.35, 15.2, 20.2, 12.857645184136183, 8.71, 12.15, 8.06, 11.5, 14.85, 11.8, 14.7, 12.857645184136183, 18.75, 7.235, 12.857645184136183, 19.6, 7.27, 15.1, 7.81, 7.81, 6.465, 12.857645184136183, 10.8, 9.5, 20.7, 8.895, 15.6, 9.0, 19.35, 19.7, 12.857645184136183, 5.825, 12.857645184136183, 12.85, 12.85, 17.5, 17.0, 7.05, 5.78, 15.2, 12.857645184136183, 11.35, 17.5, 16.25, 12.85, 12.857645184136183, 8.84, 12.857645184136183, 17.75, 6.38, 12.857645184136183, 10.65, 13.1, 12.857645184136183, 10.195, 6.67, 5.32, 12.857645184136183, 12.1, 13.85, 16.35, 18.35, 15.5, 12.1, 12.1, 19.25, 8.71, 10.5, 11.6, 16.0, 6.865, 10.395, 8.05, 5.785, 10.3, 12.5, 7.63, 13.5, 17.5, 12.857645184136183, 8.21, 11.65, 18.5, 7.72, 5.88, 6.85, 12.857645184136183, 7.52, 13.65, 12.857645184136183, 6.985, 12.857645184136183, 9.3, 12.1, 5.98, 9.0, 7.145, 19.0, 7.855, 19.5, 8.71, 11.5, 18.85, 13.65, 6.135, 5.655, 14.85, 20.75, 10.0, 10.3, 5.675, 5.51, 17.75, 17.75, 8.365, 12.857645184136183, 10.0, 18.2, 19.35, 12.857645184136183, 7.39, 7.945, 16.0, 20.1, 20.6, 8.575, 17.7, 20.0, 5.695, 5.11, 15.25, 12.857645184136183, 18.25, 15.6, 13.0, 7.02, 19.7, 9.1, 8.0, 17.75, 19.5, 7.685, 9.6, 19.6, 17.6, 15.6, 12.65, 12.857645184136183, 12.857645184136183, 14.5, 6.425, 9.695, 19.6, 20.7, 12.6, 8.275, 12.857645184136183, 19.85, 7.36, 20.35, 17.7, 12.857645184136183, 8.39, 9.195, 8.93, 15.7, 16.7, 12.857645184136183, 20.5, 12.857645184136183, 11.65, 20.75, 12.857645184136183, 16.2, 10.195, 12.857645184136183, 13.3, 6.215, 6.67, 12.6, 12.15, 16.6, 12.857645184136183, 20.85, 11.0, 15.6, 12.857645184136183, 10.195, 12.6, 20.2, 18.0, 6.75, 12.35, 7.59, 14.8, 5.11, 6.38, 8.3, 16.7, 12.857645184136183, 9.695, 8.235, 10.195, 10.695, 8.38, 11.65, 9.195, 8.1, 18.6, 17.6, 20.25, 5.98, 18.75, 5.82, 8.52, 15.5, 16.7, 9.6, 9.13, 10.5, 17.0, 12.857645184136183, 9.195, 10.1, 8.18, 8.655, 17.85, 10.65, 13.65, 17.25, 9.5, 16.7, 8.6, 19.25, 11.0, 9.895, 14.0, 7.365, 20.85, 7.64, 12.857645184136183, 17.7, 7.97, 12.35, 8.42, 12.857645184136183, 6.305, 5.92, 15.1, 17.35, 7.405, 6.405, 19.7, 17.7, 17.6, 15.85, 17.5, 12.857645184136183, 9.6, 11.0, 20.75, 12.857645184136183, 16.6, 12.5, 7.02, 19.1, 5.785, 11.65, 19.0, 5.19, 14.15, 16.2, 7.72, 18.6, 8.35, 18.6, 12.857645184136183, 19.0, 8.895, 18.0, 15.1, 12.857645184136183, 20.5, 12.857645184136183, 20.6, 15.85, 20.6, 10.3, 12.857645184136183, 17.6, 11.35, 10.195, 17.5, 12.857645184136183, 11.0, 5.92, 13.3, 18.2, 9.395, 6.75, 15.7, 8.39, 12.857645184136183, 9.6, 11.1, 12.8, 12.85, 13.65, 12.857645184136183, 7.935, 12.857645184136183, 16.1, 7.645, 8.775, 10.65, 7.64, 7.325, 8.645, 8.97, 12.857645184136183, 5.405, 12.857645184136183, 10.195, 6.935, 12.857645184136183, 8.88, 12.857645184136183, 9.3, 9.0, 21.25, 12.35, 12.857645184136183, 16.85, 14.7, 8.63, 7.935, 12.857645184136183, 19.85, 5.765, 17.75, 12.857645184136183, 8.235, 12.857645184136183, 6.13, 9.1, 18.7, 15.5, 10.695, 6.695, 16.0, 5.59, 11.35, 12.3, 12.857645184136183, 17.75, 17.75, 12.857645184136183, 12.857645184136183, 12.35, 16.7, 19.35, 15.7, 12.857645184136183, 18.7, 7.06, 11.35, 12.857645184136183, 6.96, 12.857645184136183, 12.857645184136183, 13.15, 12.857645184136183, 14.5, 7.5, 15.2, 11.6, 9.0, 19.35, 15.2, 20.2, 12.857645184136183, 12.857645184136183, 5.365, 21.2, 11.15, 19.35, 13.5, 9.6, 12.5, 15.85, 10.195, 20.2, 7.96, 20.0, 6.425, 12.857645184136183, 12.1, 11.6, 12.857645184136183, 9.395, 17.2, 7.42, 18.25, 12.857645184136183, 17.6, 12.857645184136183, 6.825, 7.405, 15.7, 15.6, 9.6, 12.857645184136183, 12.857645184136183, 12.857645184136183, 10.195, 19.1, 8.895, 8.945, 10.3, 16.0, 6.385, 13.0, 20.1, 11.1, 5.175, 11.5, 16.75, 12.857645184136183, 17.25, 5.88, 12.857645184136183, 7.3, 7.075, 6.365, 12.857645184136183, 9.3, 5.92, 9.6, 14.15, 11.8, 6.765, 12.857645184136183, 13.15, 12.857645184136183, 18.7, 13.3, 9.42, 17.6, 8.235, 12.857645184136183, 13.15, 12.65, 20.7, 13.0, 16.1, 16.0, 12.35, 14.0, 20.5, 8.3, 19.2, 9.1, 14.15, 7.93, 17.1, 16.2, 6.465, 7.155, 20.6, 20.25, 12.857645184136183, 15.85, 9.0, 12.857645184136183, 12.857645184136183, 18.7, 20.85, 18.35, 18.6, 9.8, 15.1, 12.857645184136183, 7.09, 12.857645184136183, 12.857645184136183, 12.857645184136183, 9.5, 19.0, 20.5, 19.85, 21.1, 12.857645184136183, 15.1, 19.7, 16.2, 18.1, 10.195, 6.55, 15.85, 12.857645184136183, 12.1, 16.5, 12.857645184136183, 16.7, 12.857645184136183, 11.1, 11.35, 9.195, 12.857645184136183, 18.85, 8.0, 19.1, 12.857645184136183, 12.857645184136183, 12.857645184136183, 6.36, 19.6, 12.857645184136183, 17.1, 12.857645184136183, 12.857645184136183, 8.76, 6.775, 16.25, 19.85, 19.75, 6.96, 8.935, 8.26, 6.71, 8.945, 12.65, 15.0, 15.35, 14.35, 12.857645184136183, 5.765, 8.315, 6.13, 14.5, 15.1, 17.25, 13.0, 12.857645184136183, 12.85, 7.975, 10.895, 9.17, 16.2, 14.65, 12.857645184136183, 6.985, 17.7, 16.1, 14.75, 12.15, 12.857645184136183, 18.5, 12.15, 16.1, 20.6, 17.6, 12.857645184136183, 5.98, 13.5, 12.85, 13.6, 9.8, 15.0, 12.857645184136183, 12.857645184136183, 16.35, 12.857645184136183, 7.05, 20.1, 19.6, 16.35, 13.15, 12.65, 14.5, 17.75, 14.0, 12.857645184136183, 9.895, 10.195, 18.25, 6.4, 5.88, 6.895, 20.5, 14.8, 17.75, 18.6, 12.5, 19.0, 8.26, 9.06, 9.195, 12.857645184136183, 5.945, 12.857645184136183, 13.35, 12.65, 12.15, 12.857645184136183, 20.85, 18.25, 11.3, 17.6, 5.88, 12.857645184136183, 21.25, 20.2, 9.8, 16.6, 12.857645184136183, 7.035, 7.93, 15.5, 12.857645184136183, 12.35, 12.857645184136183, 12.857645184136183, 8.235, 6.675, 6.55, 13.5, 6.86, 9.8, 14.3, 19.35, 9.3, 12.857645184136183, 4.805, 12.857645184136183, 14.5, 15.35, 21.1, 12.857645184136183, 19.5, 6.03, 20.7, 16.5, 12.857645184136183, 17.1, 12.857645184136183, 5.26, 14.0, 7.575, 12.857645184136183, 16.75, 9.3, 15.2, 8.6, 18.6, 12.857645184136183, 9.5, 15.0, 6.465, 18.5, 6.715, 14.15, 12.857645184136183, 13.5, 17.6, 19.85, 12.857645184136183, 7.855, 12.857645184136183, 8.615, 7.405, 12.857645184136183, 18.2, 9.3, 12.857645184136183, 21.25, 8.655, 11.8, 12.857645184136183, 12.857645184136183, 16.5, 12.6, 12.857645184136183, 12.857645184136183, 12.857645184136183, 15.5, 17.25, 17.5, 16.0, 19.5, 9.27, 18.25, 8.395, 9.8, 12.857645184136183, 7.27, 17.6, 13.0, 8.75, 12.15, 10.3, 6.425, 16.6, 12.857645184136183, 10.65, 19.6, 16.0, 8.89, 20.25, 12.857645184136183, 5.175, 4.61, 12.857645184136183, 11.395, 17.7, 18.0, 19.7, 5.925, 12.857645184136183, 10.65, 14.8, 15.1, 13.5, 16.7, 13.35, 10.195, 15.7, 13.15, 13.15, 12.1, 12.8, 12.857645184136183, 4.805, 18.75, 7.6, 9.5, 16.7, 5.26, 15.6, 13.65, 12.85, 12.6, 12.857645184136183, 17.75, 14.8, 18.25, 14.65, 16.5, 18.75, 10.5, 15.35, 14.1, 8.27, 12.15, 12.857645184136183, 8.895, 14.0, 18.2, 17.85, 17.1, 9.8, 9.6, 13.5, 17.5, 12.857645184136183, 7.945, 12.857645184136183, 5.765, 14.1, 20.7, 10.6, 9.3, 12.6, 8.6, 19.85, 10.65, 9.0, 10.0, 20.25, 15.6, 12.5, 4.785, 6.92, 15.0, 8.365, 7.785, 10.8, 6.57, 8.38, 11.6, 11.3, 7.67, 8.96, 6.67, 18.7, 17.85, 12.857645184136183, 7.725, 19.6, 18.7, 12.857645184136183, 13.35, 5.26, 8.945, 20.6, 14.6, 5.94, 6.75, 16.7, 13.5, 8.42, 7.68, 17.75, 4.92, 8.27, 20.7, 11.6, 12.857645184136183, 19.35, 20.25, 11.3, 11.15, 12.857645184136183, 18.7, 12.857645184136183, 5.88, 20.85, 8.27, 17.6, 18.2, 12.857645184136183, 20.6, 15.5, 15.35, 9.8, 11.65, 16.35, 12.857645184136183, 18.7, 16.5, 5.48, 9.6, 12.857645184136183, 9.06, 15.6, 16.75, 11.8, 9.5, 9.0, 10.195, 15.1, 13.0, 12.857645184136183, 12.857645184136183, 10.3, 6.96, 16.75, 12.857645184136183, 12.857645184136183, 5.88, 12.857645184136183, 18.85, 16.0, 11.5, 7.31, 16.7, 9.895, 12.857645184136183, 8.895, 7.93, 7.645, 14.6, 12.857645184136183, 8.02, 5.945, 6.98, 10.1, 19.1, 14.35, 11.6, 15.7, 11.85, 17.5, 12.857645184136183, 8.38, 12.5, 12.85, 15.5, 12.857645184136183, 12.857645184136183, 11.1, 14.35, 17.35, 12.857645184136183, 15.1, 12.15, 10.695, 12.857645184136183, 7.825, 18.35, 12.857645184136183, 17.85, 16.75, 10.395, 9.065, 7.945, 7.325, 13.15, 10.5, 6.615, 15.0, 12.857645184136183, 6.11, 14.65, 10.1, 12.857645184136183, 18.7, 6.035, 8.35, 15.5, 17.75, 12.857645184136183, 18.25, 12.857645184136183, 6.4, 8.71, 12.857645184136183, 12.857645184136183, 17.7, 15.6, 6.57, 12.857645184136183, 11.8, 6.89, 8.51, 21.25, 7.235, 12.857645184136183, 17.0, 19.5, 12.857645184136183, 8.18, 10.8, 19.35, 21.1, 16.1, 12.857645184136183, 12.857645184136183, 17.6, 9.0, 12.857645184136183, 12.15, 9.395, 12.857645184136183, 14.3, 6.3, 12.857645184136183, 8.155, 7.575, 11.8, 18.75, 12.15, 9.285, 12.857645184136183, 12.857645184136183, 5.405, 18.2, 19.6, 20.25, 6.11, 13.8, 11.8, 13.5, 8.695, 7.85, 10.1, 5.75, 20.35, 14.5, 12.857645184136183, 6.135, 12.857645184136183, 13.0, 16.0, 12.857645184136183, 12.35, 11.395, 7.435, 12.8, 9.695, 18.5, 20.6, 11.6, 15.7, 10.695, 19.6, 9.195, 7.72, 8.77, 13.6, 21.25, 9.035, 16.7, 11.65, 9.6, 10.85, 7.52, 12.5, 11.3, 20.75, 15.35, 10.5, 20.75, 12.857645184136183, 12.5, 20.5, 13.6, 12.857645184136183, 12.857645184136183, 13.8, 8.195, 6.195, 12.857645184136183, 14.0, 12.857645184136183, 11.5, 13.35, 7.21, 19.0, 13.6, 12.857645184136183, 18.35, 6.305, 15.2, 12.857645184136183, 15.2, 15.35, 7.405, 18.7, 12.857645184136183, 13.15, 20.6, 16.5, 12.857645184136183, 12.857645184136183, 11.6, 12.35, 6.865, 10.8, 7.71, 12.3, 11.5, 13.85, 9.0, 18.85, 7.825, 16.0, 13.15, 6.635, 7.5, 17.1, 12.857645184136183, 7.93, 12.6, 15.6, 12.857645184136183, 14.85, 7.315, 12.0, 16.35, 17.75, 12.857645184136183, 12.857645184136183, 18.6, 12.65, 12.857645184136183, 16.25, 12.857645184136183, 12.857645184136183, 20.2, 12.857645184136183, 15.35, 7.785, 17.6, 15.1, 9.395, 9.27, 12.857645184136183, 18.85, 12.857645184136183, 11.0, 13.15, 5.46, 12.857645184136183, 12.35, 6.865, 17.75, 12.857645184136183, 12.857645184136183, 19.35, 13.8, 9.3, 17.0, 20.2, 14.0, 9.195, 8.39, 5.735, 8.155, 17.7, 16.7, 17.25, 12.857645184136183, 13.5, 18.0, 20.75, 17.6, 13.0, 6.055, 12.85, 10.6, 18.7, 6.235, 15.25, 19.2, 11.65, 18.7, 8.275, 8.895, 20.35, 15.85, 19.0, 10.85, 5.095, 10.0, 5.34, 17.2, 12.857645184136183, 12.857645184136183, 10.5, 10.5, 16.7, 8.43, 7.785, 11.35, 11.6, 6.365, 5.11, 10.1, 12.85, 7.725, 12.857645184136183, 12.857645184136183, 12.857645184136183, 17.1, 12.857645184136183, 20.1, 16.75, 12.857645184136183, 8.905, 6.78, 16.85, 14.65, 20.7, 12.857645184136183, 12.1, 9.1, 15.2, 15.15, 12.857645184136183, 20.6, 15.3, 12.857645184136183, 19.25, 9.3, 12.857645184136183, 17.25, 21.25, 20.1, 18.75, 17.6, 17.75, 19.25, 18.85, 17.7, 12.857645184136183, 17.5, 10.5, 16.75, 8.935, 12.857645184136183, 15.35, 12.857645184136183, 15.85, 6.215, 12.857645184136183, 9.5, 17.7, 19.2, 8.05, 14.7, 11.5, 19.85, 20.0, 8.96, 5.615, 17.0, 5.82, 12.857645184136183, 19.1, 12.857645184136183, 12.857645184136183, 9.695, 20.6, 9.195, 10.695, 15.75, 19.6, 12.857645184136183, 17.35, 9.3, 6.71, 17.1, 5.175, 12.65, 16.5, 12.857645184136183, 7.725, 7.0, 12.1, 7.6, 12.85, 17.75, 12.857645184136183, 20.25, 12.857645184136183, 6.76, 12.857645184136183, 14.15, 20.75, 7.84, 19.6, 10.5, 5.655, 12.5, 10.195, 12.857645184136183, 6.135, 9.1, 14.6, 20.7, 19.0, 9.195, 12.857645184136183, 6.425, 12.15, 17.0, 12.857645184136183, 12.857645184136183, 12.857645184136183, 9.0, 6.215, 7.475, 11.0, 19.7, 18.75, 11.6, 13.0, 7.285, 12.857645184136183, 18.6, 6.615, 10.1, 17.7, 10.5, 12.857645184136183, 12.3, 12.857645184136183, 18.85, 7.485, 14.3, 10.6, 12.857645184136183, 13.65, 12.857645184136183, 13.65, 6.445, 8.895, 16.7, 6.115, 11.3, 9.3, 7.725, 18.0, 17.0, 12.857645184136183, 12.8, 15.85, 6.59, 6.11, 12.857645184136183, 9.5, 17.6, 20.0, 13.15, 19.0, 8.1, 9.3, 12.857645184136183, 13.5, 7.725, 12.857645184136183, 5.485, 13.15, 7.26, 10.5, 19.5, 12.857645184136183, 12.857645184136183, 21.25, 12.857645184136183, 14.15, 19.7, 12.857645184136183, 13.8, 18.35, 11.3, 8.35, 12.65, 16.7, 5.365, 6.52, 14.0, 6.575, 15.35, 6.985, 10.8, 14.85, 12.857645184136183, 14.85, 9.395, 13.5, 18.0, 12.857645184136183, 20.0, 20.35, 8.785, 12.857645184136183, 7.1, 14.85, 11.3, 20.25, 12.857645184136183, 12.857645184136183, 5.48, 11.0, 14.1, 12.857645184136183, 6.61, 5.94, 7.975, 12.65, 11.15, 6.825, 8.18, 17.6, 15.75, 12.15, 9.3, 13.5, 9.695, 12.857645184136183, 20.5, 14.85, 13.0, 7.075, 17.85, 10.6, 9.695, 12.65, 5.945, 17.5, 7.39, 9.8, 11.8, 8.895, 11.8, 12.857645184136183, 17.25, 11.35, 19.25, 19.7, 14.0, 8.355, 15.1, 12.1, 8.185, 12.857645184136183, 15.5, 14.0, 18.0, 9.6, 12.857645184136183, 9.6, 12.857645184136183, 16.7, 9.3, 8.1, 19.1, 8.88, 6.825, 11.5, 7.075, 20.7, 7.895, 6.86, 9.6, 12.1, 11.1, 9.5, 21.0, 5.46, 12.857645184136183, 17.6, 20.35, 7.39, 12.857645184136183, 9.195, 17.1, 13.0, 15.5, 8.695, 12.857645184136183, 7.5, 7.485, 9.8, 11.395, 20.7, 16.2, 12.857645184136183, 13.15, 21.25, 13.15, 19.6, 12.6, 12.8, 7.285, 13.1, 8.63, 10.195, 16.85, 9.3, 15.85, 5.485, 18.25, 12.6, 12.857645184136183, 12.85, 6.13, 12.857645184136183, 5.655, 11.1, 11.6, 16.0, 12.15, 6.55, 9.6, 19.1, 14.0, 14.85, 4.92, 13.5, 15.7, 8.97, 15.35, 12.857645184136183, 12.857645184136183, 17.7, 6.36, 12.857645184136183, 12.857645184136183, 8.235, 12.35, 18.0, 20.0, 6.055, 6.63, 12.857645184136183, 8.3, 20.25, 8.6, 19.5, 5.095, 11.0, 18.25, 20.0, 12.857645184136183, 12.857645184136183, 7.5, 7.22, 12.0, 12.15, 11.6, 8.315, 12.15, 5.905, 8.575, 17.35, 18.6, 12.857645184136183, 15.1, 12.857645184136183, 7.825, 9.17, 20.7, 12.1, 13.65, 8.38, 19.75, 8.67, 15.6, 12.35, 17.7, 12.5, 20.2, 13.15, 12.857645184136183, 12.857645184136183, 10.85, 12.857645184136183, 17.7, 14.35, 20.0, 12.3, 10.3, 15.6, 9.8, 11.1, 12.857645184136183, 11.8, 7.72, 12.857645184136183, 19.6, 6.425, 20.85, 18.0, 7.05, 16.25, 20.7, 5.44, 20.5, 12.35, 12.857645184136183, 4.61, 8.275, 12.857645184136183, 8.27, 7.905, 16.2, 12.857645184136183, 13.6, 9.395, 7.35, 15.35, 14.5, 12.6, 10.8, 18.85, 12.15, 11.6, 15.3, 20.35, 14.5, 6.89, 14.6, 16.85, 8.93, 8.31, 19.0, 12.857645184136183, 12.857645184136183, 5.19, 17.0, 11.65, 20.25, 10.0, 12.857645184136183, 11.1, 11.8, 9.695, 13.65, 17.75, 11.3, 12.857645184136183, 19.35, 6.905, 13.5, 16.85, 20.6, 6.175, 18.5, 13.35, 12.857645184136183, 8.115, 15.85, 12.857645184136183, 16.35, 21.35, 12.15, 16.6, 11.6, 20.6, 12.857645184136183, 20.1, 13.65, 13.3, 12.857645184136183, 12.857645184136183, 16.35, 5.32, 15.0, 8.27, 12.857645184136183, 13.1, 12.5, 19.1, 11.3, 13.65, 12.857645184136183, 12.857645184136183, 18.85, 5.59, 18.6, 9.31, 6.17, 5.175, 12.857645184136183, 19.2, 12.85, 16.25, 6.13, 12.3, 12.857645184136183, 10.1, 11.15, 19.35, 17.25, 19.85, 9.5, 9.395, 4.59, 5.98, 6.46, 7.02, 8.52, 12.6, 5.94, 16.25, 10.695, 5.88, 9.3, 19.5, 5.82, 8.68, 15.7, 12.857645184136183, 12.8, 15.1, 7.31, 12.857645184136183, 12.35, 16.6, 14.35, 7.075, 18.25, 13.1, 7.68, 19.7, 8.52, 17.75, 12.857645184136183, 5.785, 5.945, 18.25, 8.68, 11.65, 19.25, 16.2, 13.0, 17.75, 12.15, 6.32, 17.25, 7.72, 18.85, 19.7, 14.5, 17.7, 15.7, 9.695, 11.8, 12.857645184136183, 12.857645184136183, 15.2, 8.77, 19.7, 10.5, 15.1, 5.405, 20.35, 12.857645184136183, 5.785, 11.8, 12.857645184136183, 12.5, 6.11, 7.105, 8.5, 16.7, 17.1, 8.325, 15.85, 12.857645184136183, 12.857645184136183, 12.15, 15.85, 17.1, 15.5, 14.15, 12.857645184136183, 6.865, 16.5, 14.5, 19.35, 8.51, 6.65, 7.39, 10.895, 8.63, 7.75, 12.15, 18.25, 19.85, 9.3, 12.857645184136183, 5.98, 12.857645184136183, 7.02, 7.72, 5.925, 9.695, 12.6, 15.6, 16.7, 18.0, 12.857645184136183, 20.85, 12.857645184136183, 18.7, 12.857645184136183, 18.85, 11.65, 16.5, 15.6, 12.3, 12.857645184136183, 10.65, 16.2, 10.5, 12.857645184136183, 7.55, 12.857645184136183, 13.35, 16.0, 12.857645184136183, 16.85, 8.185, 19.7, 10.8, 12.6, 16.7, 13.1, 14.85, 12.857645184136183, 13.0, 12.1, 11.3, 10.0, 20.6, 11.5, 11.8, 8.895, 9.3, 12.857645184136183, 19.1, 17.85, 6.445, 12.65, 13.15, 12.857645184136183, 15.0, 11.65, 20.1, 17.35, 18.1, 8.5, 14.1, 11.8, 6.035, 12.857645184136183, 12.5, 20.85, 14.0, 17.25, 11.5, 6.675, 5.8, 8.895, 7.67, 10.895, 8.21, 8.575, 7.75, 12.857645184136183, 12.857645184136183, 12.35, 17.7, 8.52, 18.2, 12.857645184136183, 16.0, 8.63, 10.8, 18.75, 5.78, 13.8, 17.75, 11.5, 11.8, 15.1, 12.857645184136183, 8.85, 12.6, 13.8, 6.115, 17.25, 12.857645184136183, 6.26, 13.5, 19.6, 12.857645184136183, 11.5, 14.65, 8.89, 8.02, 18.7, 7.405, 5.98, 12.857645184136183, 12.857645184136183, 15.2, 12.1, 12.857645184136183, 9.285, 12.857645184136183, 8.155, 9.3, 13.85, 16.7, 11.15, 16.7, 17.0, 7.365, 16.5, 13.8, 12.857645184136183, 18.7, 7.905, 13.65, 17.6, 15.5, 17.25, 6.89, 7.81, 20.2, 12.857645184136183, 10.3, 4.635, 6.465, 12.857645184136183, 6.61, 12.857645184136183, 9.1, 5.15, 12.857645184136183, 18.0, 10.1, 12.857645184136183, 12.857645184136183, 8.21, 7.81, 12.15, 19.35, 15.6, 7.365, 9.5, 12.857645184136183, 5.73, 15.1, 6.765, 14.85, 6.11, 20.1, 5.73, 12.857645184136183, 6.785, 8.645, 12.857645184136183, 15.6, 7.76, 9.195, 9.8, 18.25, 21.25, 7.235, 20.25, 12.857645184136183, 12.857645184136183, 18.0, 7.02, 15.1, 8.68, 21.2, 16.6, 12.15, 16.25, 11.5, 12.857645184136183, 13.15, 5.465, 14.15, 12.8, 8.655, 12.857645184136183, 9.3, 20.6, 12.857645184136183, 19.7, 14.5, 10.0, 7.945, 20.35, 15.85, 16.85, 11.5, 11.1, 6.635, 7.81, 9.395, 7.0, 6.71, 15.75, 19.85, 9.5, 15.6, 12.857645184136183, 13.35, 11.1, 15.0, 14.8, 19.1, 6.825, 12.857645184136183, 17.35, 9.8, 19.35, 18.6, 7.27, 12.6, 12.857645184136183, 12.65, 12.857645184136183, 17.5, 8.06, 12.1, 12.857645184136183, 17.2, 12.857645184136183, 5.94, 16.7, 7.39, 20.7, 12.857645184136183, 12.857645184136183, 18.2, 20.2, 12.857645184136183, 12.857645184136183, 17.75, 8.71, 18.85, 20.75, 12.5, 5.325, 12.857645184136183, 16.75, 16.0, 13.35, 11.8, 10.65, 12.1, 9.395, 19.6, 14.1, 12.857645184136183, 16.5, 14.3, 7.51, 17.25, 5.785, 13.65, 6.26, 12.857645184136183, 19.7, 19.7, 13.65, 20.1, 12.6, 20.85, 12.857645184136183, 15.6, 5.98, 12.857645184136183, 16.35, 14.15, 12.1, 9.895, 8.51, 17.0, 12.857645184136183, 9.0, 5.11, 19.5, 9.195, 16.7, 19.0, 12.3, 12.857645184136183, 14.15, 12.857645184136183, 10.395, 17.0, 15.85, 10.195, 12.857645184136183, 6.57, 8.43, 7.39, 16.0, 13.1, 12.857645184136183, 13.5, 20.6, 15.2, 12.857645184136183, 5.88, 6.03, 12.857645184136183, 18.85, 7.68, 15.35, 13.1, 10.1, 12.857645184136183, 12.65, 14.6, 11.1, 12.857645184136183, 8.63, 9.6, 19.6, 19.35, 14.0, 12.15, 8.195, 8.325, 7.475, 12.857645184136183, 6.385, 12.857645184136183, 18.5, 11.5, 7.93, 12.857645184136183, 13.65, 12.35, 14.0, 9.6, 14.0, 8.89, 16.85, 12.857645184136183, 7.05, 17.1, 12.857645184136183, 19.7, 16.1, 11.3, 6.035, 17.6, 6.675, 15.5, 9.395, 16.1, 15.0, 9.6, 14.1, 11.5, 12.1, 7.42, 15.1, 12.857645184136183, 9.285, 7.855, 12.857645184136183, 12.85, 13.8, 15.0, 10.8, 14.3, 9.8, 11.5, 9.21, 12.857645184136183, 10.0, 18.5, 20.6, 9.3, 11.395, 11.8, 8.01, 15.0, 13.35, 12.857645184136183, 12.857645184136183, 10.5, 21.25, 17.0, 9.3, 15.7, 15.75, 12.857645184136183, 14.5, 12.857645184136183, 12.857645184136183, 7.1, 14.5, 17.35, 18.0, 6.615, 12.857645184136183, 11.5, 19.1, 12.857645184136183, 7.05, 12.857645184136183, 16.35, 18.35, 9.105, 7.63, 12.857645184136183, 12.857645184136183, 7.55, 12.857645184136183, 5.5, 7.59, 9.5, 6.11, 5.655, 7.285, 10.65, 17.7, 12.8, 19.85, 15.7, 15.6, 9.8, 19.5, 16.2, 17.6, 13.6, 18.85, 15.1, 17.35, 12.857645184136183, 20.7, 13.5, 12.857645184136183, 12.857645184136183, 13.1, 12.15, 12.857645184136183, 12.857645184136183, 12.857645184136183, 12.857645184136183, 15.1, 16.7, 14.65, 13.3, 20.1, 14.3, 7.42, 12.857645184136183, 9.5, 7.075, 12.857645184136183, 7.96, 6.135, 14.6, 14.3, 12.857645184136183, 12.857645184136183, 8.315, 10.1, 9.895, 11.5, 18.25, 4.635, 18.5, 5.365, 6.095, 12.857645184136183, 16.75, 21.25, 12.857645184136183, 12.1, 15.1, 8.6, 17.6, 15.35, 8.26, 6.57, 11.6, 20.35, 12.15, 17.35, 7.0, 8.5, 12.857645184136183, 14.5, 9.195, 17.75, 8.775, 16.7, 15.2, 20.5, 12.857645184136183, 5.21, 10.3, 18.25, 21.25, 8.6, 10.3, 9.5, 9.3, 9.195, 7.68, 12.857645184136183, 12.1, 11.6, 9.695, 12.0, 19.0, 6.38, 20.5, 12.857645184136183, 5.695, 19.2, 20.35, 9.195, 17.85, 12.857645184136183, 14.6, 10.195, 17.85, 7.5, 6.59, 10.895, 12.857645184136183, 14.6, 12.857645184136183, 9.6, 12.857645184136183, 10.3, 17.0, 8.645, 16.0, 6.155, 13.85, 12.857645184136183, 13.1, 12.857645184136183, 11.8, 15.5, 14.15, 12.857645184136183, 12.857645184136183, 20.7, 15.2, 11.5, 21.25, 14.1, 9.395, 12.857645184136183, 7.895, 14.0, 5.365, 16.35, 15.75, 7.5, 14.8, 7.07, 20.5, 12.857645184136183, 18.0, 9.5, 15.0, 20.1, 11.0, 18.7, 12.857645184136183, 15.15, 14.1, 8.42, 12.857645184136183, 12.857645184136183, 8.27, 12.857645184136183, 8.615, 12.857645184136183, 9.8, 12.857645184136183, 12.857645184136183, 13.65, 6.385, 20.5, 16.85, 7.785, 12.857645184136183, 12.857645184136183, 10.8, 15.0, 5.175, 11.6, 6.775, 9.31, 15.0, 13.3, 16.0, 12.857645184136183, 6.48, 12.857645184136183, 12.857645184136183, 12.5, 8.39, 17.7, 12.5, 12.857645184136183, 15.6, 10.65, 12.35, 6.035, 6.155, 16.75, 16.75, 15.1, 21.25, 9.395, 17.6, 12.857645184136183, 13.15, 5.035, 12.857645184136183, 12.857645184136183, 12.857645184136183, 5.48, 19.35, 9.195, 5.26, 12.857645184136183, 6.235, 11.8, 20.7, 13.6, 5.82, 7.76, 18.35, 7.285, 15.1, 7.0, 12.857645184136183, 18.35, 13.8, 18.35, 12.857645184136183, 8.895, 12.857645184136183, 15.5, 14.5, 12.857645184136183, 8.26, 10.0, 9.0, 5.655, 18.6, 15.0, 20.5, 8.785, 8.77, 18.75, 19.85, 17.5, 14.6, 11.8, 11.65, 13.65, 12.857645184136183, 16.6, 18.0, 7.17, 10.3, 12.857645184136183, 12.857645184136183, 11.5, 7.855, 12.857645184136183, 17.35, 9.0, 12.857645184136183, 12.857645184136183, 10.195, 15.7, 15.7, 8.88, 15.2, 10.195, 6.67, 12.857645184136183, 12.857645184136183, 8.975, 13.8, 16.35, 6.11, 7.785, 12.857645184136183, 18.85, 12.857645184136183, 6.65, 7.5, 5.985, 6.78, 6.195, 18.6, 8.63, 11.8, 7.075, 8.395, 17.85, 12.35, 14.6, 12.857645184136183, 11.65, 20.7, 8.77, 20.25, 13.65, 17.7, 8.315, 12.857645184136183, 7.81, 11.1, 18.1, 8.88, 12.15, 9.5, 15.25, 12.857645184136183, 12.15, 16.35, 12.857645184136183, 12.85, 12.5, 7.905, 17.85, 7.21, 5.175, 12.857645184136183, 16.2, 14.0, 8.42, 9.3, 9.395, 17.85, 12.857645184136183, 6.13, 12.857645184136183, 20.1, 16.5, 5.615, 7.52, 12.857645184136183, 13.8, 17.6, 20.5, 11.8, 12.857645184136183, 20.25, 15.85, 17.7, 6.035, 12.857645184136183, 12.35, 14.65, 10.895, 15.75, 11.15, 8.985, 17.6, 12.857645184136183, 13.15, 9.195, 12.857645184136183, 19.6, 12.857645184136183, 20.2, 12.857645184136183, 7.75, 8.575, 20.2, 19.35, 7.365, 7.5, 8.3, 16.75, 10.695, 5.88, 12.6, 10.695, 17.85, 19.75, 7.97, 12.857645184136183, 15.7, 15.1, 6.63, 8.6, 12.857645184136183, 13.0, 5.98, 6.03, 13.8, 12.857645184136183, 12.857645184136183, 16.1, 20.1, 9.17, 10.895, 5.325, 12.85, 12.857645184136183, 15.35, 16.7, 13.3, 12.857645184136183, 6.67, 20.5, 15.1, 17.0, 8.42, 15.2, 17.0, 17.6, 18.0, 14.6, 5.8, 9.8, 12.857645184136183, 14.3, 11.1, 17.0, 18.6, 8.895, 12.857645184136183, 10.3, 19.25, 12.6, 15.3, 12.857645184136183, 12.857645184136183, 12.857645184136183, 18.6, 14.5, 13.5, 10.3, 12.857645184136183, 12.857645184136183, 7.155, 16.5, 5.59, 15.15, 13.1, 8.06, 10.195, 10.1, 6.235, 12.5, 11.35, 9.065, 11.65, 18.2, 6.115, 6.92, 7.035, 18.2, 10.5, 17.6, 12.857645184136183, 19.75, 16.5, 13.15, 7.89, 20.5, 16.25, 12.6, 12.857645184136183, 8.775, 7.42, 8.67, 8.77, 19.35, 16.25, 11.5, 11.1, 12.857645184136183, 5.59, 12.857645184136183, 6.55, 6.85, 21.25, 12.857645184136183, 12.8, 8.31, 12.1, 12.857645184136183, 20.25, 12.857645184136183, 12.857645184136183, 16.75, 7.075, 11.1, 6.63, 8.935, 7.935, 7.485, 9.5, 18.35, 6.365, 11.1, 11.395, 9.895, 7.68, 13.65, 15.75, 10.195, 10.895, 12.857645184136183, 17.7, 17.25, 18.6, 13.8, 11.1, 10.195, 5.88, 11.15, 12.857645184136183, 11.6, 12.857645184136183, 12.1, 12.857645184136183, 4.635, 8.51, 9.6, 17.25, 15.0, 16.75, 8.365, 12.857645184136183, 18.85, 6.615, 5.75, 10.0, 13.1, 10.1, 12.857645184136183, 11.65, 12.857645184136183, 9.3, 19.6, 11.35, 5.44, 14.65, 12.35, 12.85, 17.1, 11.6, 7.445, 12.857645184136183, 12.857645184136183, 6.135, 8.68, 18.5, 14.3, 12.857645184136183, 15.35, 17.7, 15.2, 9.8, 12.857645184136183, 15.25, 17.6, 7.55, 12.857645184136183, 19.7, 13.0, 12.857645184136183, 11.8, 20.35, 16.85, 7.63, 15.75, 18.2, 13.85, 10.895, 15.6, 11.3, 20.0, 19.35, 15.6, 12.857645184136183, 10.195, 12.857645184136183, 9.5, 12.857645184136183, 10.65, 12.857645184136183, 7.35, 15.7, 12.857645184136183, 15.85, 13.8, 9.195, 9.3, 15.1, 19.1, 11.6, 7.27, 19.35, 9.695, 20.2, 12.857645184136183, 10.5, 12.5, 12.857645184136183, 17.75, 9.0, 17.85, 12.857645184136183, 4.61, 8.75, 7.155, 12.857645184136183, 12.3, 7.93, 8.01, 9.8, 12.857645184136183, 5.0, 19.6, 16.5, 12.6, 14.1, 6.38, 20.25, 12.857645184136183, 12.3, 15.6, 15.0, 11.6, 12.857645184136183, 12.857645184136183, 17.85, 14.8, 7.905, 12.857645184136183, 12.857645184136183, 11.8, 14.0, 14.85, 7.39, 15.0, 12.857645184136183, 19.7, 10.8, 12.857645184136183, 12.857645184136183, 12.857645184136183, 12.857645184136183, 9.6, 10.695, 21.1, 12.857645184136183, 12.857645184136183, 6.135, 16.2, 15.7, 17.2, 12.15, 12.857645184136183, 8.63, 15.0, 12.857645184136183, 12.857645184136183, 8.975, 12.15, 6.895, 12.857645184136183, 8.325, 8.785, 12.857645184136183, 19.35, 17.5, 16.75, 8.895, 7.71, 12.857645184136183, 15.7, 16.7, 20.35, 12.5, 15.1, 14.0, 8.365, 10.695, 5.21, 13.65, 8.01, 5.88, 5.615, 19.7, 12.857645184136183, 18.25, 15.35, 12.857645184136183, 10.3, 13.65, 8.615, 5.8, 8.3, 16.0, 5.155, 8.895, 15.1, 15.5, 6.325, 12.857645184136183, 9.3, 12.857645184136183, 20.6, 15.5, 9.195, 5.695, 12.857645184136183, 5.94, 6.36, 12.857645184136183, 4.805, 14.85, 14.5, 10.3, 12.15, 11.5, 19.1, 12.857645184136183, 15.5, 7.31, 18.7, 7.0, 12.5, 9.395, 10.5, 5.785, 16.7, 5.845, 9.395, 5.94, 6.15, 20.35, 17.1, 12.857645184136183, 5.765, 12.65, 10.5, 18.25, 11.65, 19.2, 15.7, 10.3, 13.65, 16.6, 9.6, 11.85, 12.857645184136183, 8.6, 20.7, 11.8, 12.857645184136183, 12.6, 20.7, 15.85, 6.36, 9.3, 12.857645184136183, 20.7, 12.857645184136183, 18.85, 16.6, 12.5, 7.02, 12.85, 7.855, 19.35, 17.5, 17.75, 13.15, 5.365, 13.1, 7.075, 9.3, 12.3, 16.2, 18.85, 8.01, 12.857645184136183, 12.857645184136183, 17.35, 12.857645184136183, 14.65, 12.8, 12.857645184136183, 6.65, 6.675, 6.69, 12.857645184136183, 7.6, 7.51, 12.857645184136183, 12.857645184136183, 11.0, 12.857645184136183, 17.25, 12.857645184136183, 12.857645184136183, 6.36, 11.15, 12.857645184136183, 18.0, 7.825, 14.85, 12.857645184136183, 20.5, 10.395, 12.857645184136183, 13.3, 12.857645184136183, 19.35, 16.5, 5.63, 12.35, 9.8, 5.305, 18.5, 10.695, 6.525, 12.35, 7.935, 15.85, 5.615, 10.5, 12.857645184136183, 8.85, 13.1, 12.857645184136183, 15.1, 17.7, 14.65, 16.35, 19.85, 6.715, 20.85, 12.857645184136183, 17.1, 12.857645184136183, 17.85, 19.6, 12.857645184136183, 12.5, 15.85, 6.78, 19.6, 17.5, 20.75, 12.857645184136183, 9.3, 17.75, 17.0, 12.857645184136183, 4.555, 10.1, 20.7, 8.785, 17.75, 12.857645184136183, 5.465, 12.857645184136183, 12.857645184136183, 12.857645184136183, 17.75, 16.2, 20.35, 8.185, 20.5, 8.42, 10.0, 7.5, 12.857645184136183, 10.6, 20.6, 12.857645184136183, 16.2, 20.25, 12.15, 12.857645184136183, 8.21, 6.63, 6.935, 12.857645184136183, 15.0, 7.825, 10.695, 18.85, 12.1, 8.945, 8.975, 20.2, 6.76, 9.0, 20.2, 19.0, 15.1, 14.1, 20.2, 12.857645184136183, 12.857645184136183, 12.857645184136183, 12.857645184136183, 20.25, 14.85, 20.7, 5.15, 12.857645184136183, 12.6, 10.1, 15.25, 10.5, 12.857645184136183, 14.65, 6.885, 7.285, 11.1, 12.857645184136183, 10.5, 12.857645184136183, 20.75, 12.857645184136183, 11.85, 14.0, 20.2, 19.0, 16.0, 12.857645184136183, 20.85, 19.0, 13.0, 10.0, 17.5, 12.857645184136183, 19.5, 16.1, 8.6, 12.857645184136183, 20.25, 9.6, 11.1, 13.0, 12.857645184136183, 20.7, 5.78, 5.325, 7.5, 11.6, 12.857645184136183, 6.44, 12.5, 7.825, 6.865, 7.5, 9.8, 19.0, 8.27, 17.85, 11.8, 20.6, 20.7, 15.25, 12.35, 12.5, 15.2, 18.25, 6.71, 12.857645184136183, 12.857645184136183, 12.857645184136183, 12.35, 6.42, 14.65, 13.65, 20.2, 12.5, 12.857645184136183, 5.48, 12.857645184136183, 12.1, 16.7, 16.85, 7.365, 9.195, 14.3, 5.32, 12.857645184136183, 13.65, 12.6, 12.857645184136183, 10.6, 12.857645184136183, 8.6, 19.85, 9.3, 12.857645184136183, 7.76, 10.895, 10.8, 12.857645184136183, 9.195, 19.6, 15.7, 18.85, 14.7, 15.0, 21.1, 17.0, 16.7, 8.6, 6.76, 8.77, 12.857645184136183, 5.845, 16.7, 11.65, 12.857645184136183, 14.3, 12.857645184136183, 8.355, 13.15, 19.25, 5.035, 15.85, 15.35, 12.5, 18.35, 12.857645184136183, 20.5, 13.85, 4.59, 10.0, 12.35, 12.857645184136183, 20.0, 13.8, 9.5, 5.425, 16.75, 19.2, 10.5, 12.85, 12.857645184136183, 6.36, 12.857645184136183, 14.5, 7.02, 7.42, 17.25, 18.75, 20.25, 12.65, 12.5, 12.8, 6.655, 10.3, 14.6, 9.195, 13.65, 7.935, 20.75, 15.1, 12.857645184136183, 10.1, 12.857645184136183, 16.75, 9.13, 8.235, 16.85, 12.857645184136183, 17.35, 12.857645184136183, 14.5, 14.5, 9.395, 7.905, 12.857645184136183, 12.857645184136183, 8.5, 8.3, 7.975, 13.5, 12.857645184136183, 5.785, 9.5, 16.75, 12.857645184136183, 17.6, 18.2, 11.6, 6.865, 7.275, 18.2, 13.5, 9.0, 19.1, 17.85, 10.3, 6.38, 12.857645184136183, 15.0, 15.1, 16.2, 5.945, 11.8, 19.7, 12.857645184136183, 19.0, 12.3, 12.3, 8.1, 15.85, 14.85, 19.0, 5.485, 19.0, 16.1, 6.135, 11.6, 16.2, 15.6, 10.395, 14.5, 15.25, 10.1, 12.1, 12.857645184136183, 8.3, 7.315, 15.6, 12.857645184136183, 16.2, 12.857645184136183, 17.5, 18.25, 12.857645184136183, 12.857645184136183, 12.1, 16.25, 7.785, 10.1, 12.35, 15.7, 20.35, 12.857645184136183, 12.857645184136183, 12.1, 20.35, 18.1, 12.6, 7.5, 20.5, 16.75, 17.85, 13.5, 12.85, 12.35, 10.1, 11.0, 14.15, 20.6, 5.765, 8.01, 10.8, 15.7, 8.6, 12.857645184136183, 6.36, 5.32, 12.857645184136183, 12.857645184136183, 12.857645184136183, 7.435, 6.615, 11.3, 10.895, 11.5, 12.857645184136183, 7.55, 20.5, 5.325, 6.675, 16.5, 10.195, 19.2, 15.7, 18.7, 13.65, 12.857645184136183, 6.11, 6.85, 12.857645184136183, 7.475, 9.0, 15.1, 11.35, 15.0, 6.44, 6.445, 14.8, 12.857645184136183, 8.18, 15.2, 12.857645184136183, 8.76, 18.1, 12.857645184136183, 5.305, 12.85, 12.857645184136183, 12.857645184136183, 12.857645184136183, 15.0, 9.3, 19.25, 19.35, 11.35, 18.7, 6.055, 8.395, 12.857645184136183, 12.857645184136183, 9.195, 21.1, 20.35, 11.0, 10.1, 12.857645184136183, 8.93, 9.0, 20.25, 5.765, 19.2, 9.195, 8.655, 11.5, 12.857645184136183, 17.6, 19.35, 17.85, 12.857645184136183, 19.35, 13.0, 13.65, 12.857645184136183, 17.0, 15.25, 12.857645184136183, 15.5, 7.145, 7.235, 10.5, 12.857645184136183, 16.25, 10.0, 19.75, 8.42, 13.1, 9.6, 9.395, 10.895, 12.857645184136183, 18.85, 9.195, 19.1, 5.03, 17.6, 21.25, 13.85, 6.98, 7.725, 14.7, 17.6, 15.85, 18.6, 16.7, 10.195, 6.965, 19.2, 6.78, 6.785, 19.1, 12.857645184136183, 15.6, 16.35, 13.65, 7.155, 10.8, 13.5, 9.195, 6.825, 16.2, 20.85, 7.785, 9.8, 12.857645184136183, 12.857645184136183, 12.857645184136183, 10.5, 8.88, 16.0, 16.2, 11.15, 16.2, 14.35, 7.72, 10.695, 13.35, 16.1, 12.857645184136183, 13.6, 20.6, 11.65, 9.285, 10.3, 7.22, 20.85, 12.857645184136183, 8.84, 12.857645184136183, 12.857645184136183, 16.35, 8.575, 20.5, 9.695, 8.38, 17.75, 13.5, 12.857645184136183, 14.3, 8.3, 6.055, 20.7, 15.85, 12.857645184136183, 12.3, 19.1, 8.27, 12.857645184136183, 9.1, 17.2, 13.15, 15.7, 18.35, 16.5, 12.1, 7.51, 12.857645184136183, 12.5, 8.06, 6.055, 12.857645184136183, 14.3, 20.2, 18.6, 6.69, 19.35, 17.75, 16.1, 12.5, 5.785, 14.8, 7.75, 18.6, 6.965, 16.7, 12.857645184136183, 13.35, 21.1, 12.3, 7.97, 14.15, 9.8, 12.857645184136183, 19.85, 12.857645184136183, 8.21, 20.25, 15.0, 15.6, 13.15, 10.6, 11.1, 12.857645184136183, 15.25, 19.25, 7.39, 10.3, 17.5, 12.857645184136183, 10.3, 12.857645184136183, 7.85, 10.0, 7.22, 12.857645184136183, 10.0, 12.857645184136183, 5.175, 12.857645184136183, 11.6, 18.0, 12.857645184136183, 16.75, 12.857645184136183, 13.65, 11.5, 17.75, 12.857645184136183, 8.43, 9.0, 7.52, 13.65, 12.857645184136183, 12.65, 17.35, 11.0, 8.27, 12.857645184136183, 12.857645184136183, 5.175, 12.857645184136183, 9.895, 10.65, 15.2, 11.3, 15.1, 6.215, 8.235, 12.857645184136183, 10.1, 11.6, 6.92, 16.7, 5.485, 13.6, 12.857645184136183, 10.3, 6.765, 10.5, 12.5, 17.35, 8.85, 16.7, 8.85, 13.15, 8.18, 12.5, 6.865, 12.0, 12.857645184136183, 12.857645184136183, 5.885, 16.5, 7.52, 10.895, 7.935, 7.6, 11.0, 13.15, 10.195, 16.85, 8.195, 11.8, 14.6, 19.2, 12.15, 10.895, 12.857645184136183, 7.42, 7.405, 7.315, 7.435, 12.65, 8.365, 19.75, 19.5, 19.7, 14.0, 11.8, 12.65, 12.857645184136183, 12.85, 13.65, 9.3, 7.72, 11.15, 16.5, 12.857645184136183, 17.2, 12.857645184136183, 19.6, 17.25, 20.35, 14.3, 12.857645184136183, 7.905, 7.905, 21.25, 10.5, 12.857645184136183, 18.0, 7.725, 5.8, 12.857645184136183, 10.85, 19.35, 13.15, 5.785, 12.857645184136183, 10.195, 16.0, 10.695, 9.8, 7.72, 12.857645184136183, 5.86, 5.4, 12.857645184136183, 14.7, 19.75, 18.6, 12.5, 13.1, 6.195, 8.395, 12.857645184136183, 16.0, 20.0, 8.26, 6.865, 12.857645184136183, 20.0, 12.857645184136183, 12.857645184136183, 17.35, 12.857645184136183, 10.395, 9.3, 7.42, 15.2, 9.695, 7.42, 13.65, 15.35, 11.6, 20.35, 5.34, 8.42, 20.5, 12.857645184136183, 10.5, 17.25, 5.88, 11.35, 8.1, 13.8, 17.5, 20.7, 12.0, 15.0, 20.7, 18.6, 20.75, 6.865, 8.38, 10.6, 7.21, 14.8], \"xaxis\": \"x\", \"yaxis\": \"y\"}, {\"alignmentgroup\": \"True\", \"hoverlabel\": {\"namelength\": 0}, \"hovertemplate\": \"Item_Weight=%{x}\", \"legendgroup\": \"\", \"marker\": {\"color\": \"#636efa\"}, \"name\": \"\", \"notched\": true, \"offsetgroup\": \"\", \"showlegend\": false, \"type\": \"box\", \"x\": [9.3, 5.92, 17.5, 19.2, 8.93, 10.395, 13.65, 12.857645184136183, 16.2, 19.2, 11.8, 18.5, 15.1, 17.6, 16.35, 9.0, 11.8, 9.0, 12.857645184136183, 13.35, 18.85, 12.857645184136183, 14.6, 12.857645184136183, 13.85, 13.0, 7.645, 11.65, 5.925, 12.857645184136183, 19.25, 18.6, 18.7, 17.85, 17.5, 10.0, 12.857645184136183, 8.85, 12.857645184136183, 12.857645184136183, 13.35, 9.8, 13.6, 21.35, 12.15, 6.42, 19.6, 10.0, 15.85, 12.857645184136183, 7.39, 10.195, 9.895, 10.895, 12.15, 7.905, 9.195, 8.365, 15.1, 12.857645184136183, 10.0, 7.97, 12.857645184136183, 12.857645184136183, 12.857645184136183, 17.7, 19.35, 13.65, 17.6, 8.645, 15.6, 15.85, 18.25, 7.855, 7.825, 8.39, 12.85, 12.857645184136183, 19.0, 5.905, 7.76, 11.8, 16.75, 12.857645184136183, 12.857645184136183, 15.5, 6.055, 12.857645184136183, 6.305, 20.85, 20.75, 8.895, 19.6, 19.7, 9.8, 12.857645184136183, 12.15, 8.75, 12.857645184136183, 8.75, 13.3, 12.857645184136183, 8.31, 16.75, 19.75, 17.1, 10.5, 6.635, 12.857645184136183, 14.15, 13.3, 8.89, 12.857645184136183, 12.857645184136183, 9.1, 7.5, 16.85, 7.485, 11.6, 11.65, 13.0, 12.65, 20.25, 8.6, 12.6, 17.7, 14.15, 19.25, 8.88, 20.5, 12.857645184136183, 13.5, 12.857645184136183, 8.89, 7.855, 7.235, 12.857645184136183, 6.92, 9.3, 18.5, 8.02, 9.195, 12.8, 16.6, 14.0, 18.6, 16.0, 17.6, 21.25, 7.235, 14.6, 13.85, 13.65, 12.857645184136183, 7.365, 18.35, 5.465, 18.6, 13.85, 14.0, 14.0, 12.857645184136183, 5.905, 7.27, 6.155, 19.5, 15.2, 12.15, 12.857645184136183, 12.6, 14.5, 16.6, 11.8, 13.1, 17.7, 17.85, 12.3, 11.8, 12.857645184136183, 11.1, 12.857645184136183, 11.3, 12.857645184136183, 5.75, 12.857645184136183, 11.35, 12.857645184136183, 14.0, 19.75, 6.525, 10.3, 5.78, 11.85, 16.35, 12.857645184136183, 10.5, 19.0, 14.6, 12.857645184136183, 12.857645184136183, 18.75, 5.26, 18.25, 12.857645184136183, 15.1, 15.5, 13.65, 16.1, 12.857645184136183, 12.85, 9.5, 13.8, 5.78, 19.7, 14.65, 6.67, 6.11, 13.65, 17.2, 6.32, 4.88, 5.425, 15.85, 7.5, 12.65, 12.857645184136183, 20.75, 12.857645184136183, 9.0, 12.857645184136183, 12.857645184136183, 12.857645184136183, 14.1, 7.55, 13.0, 12.857645184136183, 12.857645184136183, 12.3, 12.857645184136183, 12.857645184136183, 17.25, 15.85, 18.85, 16.35, 14.1, 7.905, 12.0, 12.15, 10.1, 17.5, 12.857645184136183, 17.1, 7.785, 11.8, 13.15, 12.857645184136183, 8.5, 8.645, 17.6, 9.1, 12.8, 7.63, 9.285, 13.6, 8.895, 16.35, 17.6, 7.975, 15.85, 15.7, 8.985, 20.35, 6.59, 19.85, 16.85, 12.857645184136183, 16.75, 17.6, 7.905, 12.857645184136183, 7.785, 7.825, 12.857645184136183, 20.75, 12.857645184136183, 6.26, 18.2, 13.0, 20.25, 8.695, 7.27, 12.857645184136183, 12.85, 7.075, 12.857645184136183, 8.195, 7.09, 6.095, 19.35, 6.15, 12.857645184136183, 12.857645184136183, 17.7, 17.85, 9.395, 15.75, 7.475, 7.075, 6.445, 19.1, 20.25, 15.0, 6.67, 12.857645184136183, 16.7, 7.07, 6.48, 19.0, 13.35, 12.857645184136183, 12.857645184136183, 9.695, 15.0, 11.15, 20.85, 9.8, 16.35, 9.6, 12.857645184136183, 13.35, 20.7, 12.857645184136183, 16.2, 12.857645184136183, 12.857645184136183, 12.857645184136183, 5.5, 15.1, 15.7, 7.895, 12.857645184136183, 17.35, 7.285, 20.25, 12.857645184136183, 15.85, 6.17, 19.5, 19.2, 16.7, 20.85, 14.5, 11.395, 7.97, 7.71, 19.25, 7.075, 12.857645184136183, 11.6, 12.857645184136183, 12.1, 10.0, 14.35, 10.395, 12.857645184136183, 8.1, 8.05, 9.195, 20.7, 15.7, 12.857645184136183, 12.857645184136183, 16.5, 9.0, 6.785, 19.5, 7.575, 18.2, 16.75, 7.47, 12.857645184136183, 12.857645184136183, 13.85, 6.635, 6.11, 15.25, 15.85, 15.2, 12.857645184136183, 20.75, 10.195, 7.605, 18.0, 12.857645184136183, 18.35, 6.59, 13.8, 21.2, 10.5, 8.97, 12.857645184136183, 10.6, 13.65, 19.0, 12.857645184136183, 12.857645184136183, 6.865, 10.8, 16.7, 12.857645184136183, 15.15, 10.5, 17.6, 19.35, 15.7, 18.1, 10.195, 12.857645184136183, 6.655, 19.0, 7.075, 13.15, 20.1, 20.35, 18.85, 16.35, 11.3, 17.5, 18.0, 7.935, 12.857645184136183, 20.25, 15.5, 12.857645184136183, 12.857645184136183, 15.35, 10.1, 16.7, 20.7, 16.0, 14.0, 12.85, 20.85, 12.35, 6.85, 10.3, 12.857645184136183, 8.775, 18.85, 12.857645184136183, 14.85, 20.5, 7.84, 18.25, 10.3, 12.5, 12.857645184136183, 20.25, 12.857645184136183, 15.0, 8.325, 15.85, 13.1, 6.26, 17.25, 5.765, 13.6, 10.5, 7.975, 12.65, 12.3, 5.985, 12.857645184136183, 15.15, 12.35, 14.3, 8.695, 16.35, 6.135, 19.5, 9.5, 8.895, 18.25, 21.35, 19.7, 12.857645184136183, 16.6, 12.857645184136183, 10.895, 12.857645184136183, 12.857645184136183, 12.857645184136183, 8.51, 14.15, 6.65, 15.25, 18.25, 12.857645184136183, 16.0, 19.2, 12.15, 8.895, 10.895, 16.0, 12.857645184136183, 9.195, 11.35, 10.0, 9.395, 12.857645184136183, 20.75, 9.8, 5.695, 18.2, 19.35, 18.35, 6.36, 9.8, 12.857645184136183, 12.857645184136183, 6.635, 18.1, 8.93, 8.3, 8.895, 16.35, 8.6, 12.857645184136183, 19.0, 7.56, 12.6, 15.6, 8.71, 18.1, 13.35, 16.6, 6.695, 12.857645184136183, 16.6, 15.35, 19.7, 14.3, 12.857645184136183, 10.0, 14.8, 12.857645184136183, 8.71, 12.15, 17.85, 9.5, 11.8, 14.1, 12.857645184136183, 19.35, 19.75, 10.3, 12.857645184136183, 12.857645184136183, 10.8, 17.75, 8.575, 19.1, 20.7, 12.857645184136183, 6.785, 6.57, 5.78, 6.92, 20.25, 13.65, 13.5, 16.5, 16.7, 8.68, 12.857645184136183, 7.235, 16.75, 15.35, 10.8, 6.26, 5.63, 6.92, 12.15, 16.6, 9.195, 19.0, 9.395, 9.8, 12.857645184136183, 18.85, 9.13, 9.0, 17.1, 6.715, 5.82, 18.7, 7.93, 18.75, 12.857645184136183, 5.0, 7.445, 20.85, 20.85, 19.2, 17.35, 14.3, 19.5, 6.675, 8.18, 6.98, 12.857645184136183, 16.85, 14.8, 12.3, 7.435, 15.1, 9.195, 10.1, 16.0, 17.7, 8.1, 20.6, 20.35, 8.195, 17.75, 7.475, 19.0, 12.6, 12.857645184136183, 7.895, 12.857645184136183, 17.1, 8.355, 12.857645184136183, 18.5, 12.857645184136183, 8.975, 10.1, 9.285, 11.6, 12.857645184136183, 12.5, 16.0, 14.15, 20.2, 13.65, 17.25, 5.655, 20.75, 5.175, 20.0, 11.8, 16.75, 18.35, 12.8, 19.75, 8.75, 13.3, 18.85, 9.695, 20.7, 12.857645184136183, 11.1, 8.975, 12.15, 7.67, 13.8, 4.785, 20.0, 12.857645184136183, 8.395, 6.175, 8.21, 19.7, 19.6, 7.5, 5.845, 11.395, 7.17, 5.75, 15.5, 7.76, 13.65, 10.8, 11.1, 12.857645184136183, 12.8, 8.785, 20.6, 7.89, 16.85, 16.35, 12.857645184136183, 17.35, 12.857645184136183, 12.857645184136183, 12.6, 5.32, 12.857645184136183, 13.0, 12.857645184136183, 19.85, 17.6, 14.6, 7.55, 13.8, 17.25, 10.1, 14.3, 9.8, 11.3, 7.67, 13.8, 10.395, 20.7, 12.857645184136183, 17.35, 16.35, 19.35, 15.2, 14.3, 12.857645184136183, 20.0, 12.857645184136183, 10.1, 12.857645184136183, 12.857645184136183, 8.18, 19.5, 18.7, 12.35, 16.0, 8.395, 4.785, 5.03, 15.6, 7.285, 20.35, 17.7, 12.857645184136183, 20.25, 8.945, 12.857645184136183, 18.25, 20.35, 16.75, 12.1, 18.5, 15.0, 19.5, 13.65, 13.15, 12.857645184136183, 20.6, 6.28, 5.925, 17.7, 18.85, 12.857645184136183, 17.5, 17.7, 16.1, 9.8, 7.565, 17.6, 12.15, 9.31, 19.25, 9.5, 15.35, 12.857645184136183, 12.857645184136183, 17.85, 7.02, 12.857645184136183, 12.857645184136183, 12.3, 5.46, 15.1, 11.8, 19.25, 13.65, 13.35, 12.857645184136183, 13.15, 14.3, 12.3, 7.825, 19.1, 8.71, 19.6, 19.5, 15.85, 12.857645184136183, 17.6, 12.857645184136183, 19.1, 6.13, 6.55, 16.5, 17.0, 10.5, 8.93, 12.857645184136183, 16.1, 12.857645184136183, 5.82, 16.25, 13.35, 12.857645184136183, 5.15, 12.857645184136183, 7.865, 9.895, 17.35, 8.365, 6.675, 12.857645184136183, 17.35, 16.75, 18.85, 6.575, 12.65, 15.2, 12.857645184136183, 7.07, 13.65, 12.857645184136183, 7.06, 11.8, 12.857645184136183, 9.3, 12.857645184136183, 12.857645184136183, 13.6, 19.5, 19.35, 12.857645184136183, 13.1, 16.7, 5.785, 12.857645184136183, 6.13, 9.8, 12.857645184136183, 7.42, 16.7, 12.857645184136183, 9.0, 12.857645184136183, 6.36, 17.7, 16.5, 12.857645184136183, 12.857645184136183, 11.85, 10.195, 12.857645184136183, 12.857645184136183, 13.65, 20.35, 20.2, 13.85, 8.05, 7.365, 12.5, 7.42, 12.857645184136183, 6.235, 12.35, 6.75, 16.75, 19.35, 9.6, 19.85, 15.1, 12.857645184136183, 6.59, 16.75, 15.2, 13.0, 5.86, 11.395, 20.85, 12.857645184136183, 5.035, 11.15, 6.38, 8.39, 5.675, 15.7, 13.0, 12.857645184136183, 13.5, 8.895, 10.895, 16.2, 12.857645184136183, 15.1, 7.475, 12.857645184136183, 10.8, 20.0, 14.3, 10.1, 17.85, 9.5, 20.75, 12.1, 20.6, 7.67, 12.857645184136183, 20.6, 15.35, 5.46, 9.395, 12.857645184136183, 10.0, 12.857645184136183, 7.445, 12.857645184136183, 15.5, 19.85, 11.5, 12.857645184136183, 10.5, 19.7, 12.857645184136183, 10.3, 20.85, 13.35, 12.1, 20.1, 12.857645184136183, 21.25, 12.857645184136183, 6.655, 13.65, 12.857645184136183, 13.6, 15.5, 10.895, 19.7, 8.1, 21.0, 13.65, 12.857645184136183, 12.857645184136183, 12.857645184136183, 13.15, 15.25, 19.35, 12.857645184136183, 17.75, 20.7, 9.5, 11.65, 21.1, 7.865, 12.35, 12.857645184136183, 16.25, 12.15, 10.5, 12.8, 12.857645184136183, 4.61, 7.0, 10.0, 6.405, 9.3, 11.6, 16.75, 12.15, 14.7, 20.0, 12.857645184136183, 7.39, 20.75, 9.3, 10.195, 12.857645184136183, 7.68, 10.195, 9.3, 8.895, 16.0, 19.2, 20.75, 12.857645184136183, 13.5, 12.857645184136183, 19.7, 6.095, 8.21, 17.7, 18.1, 5.695, 20.25, 12.857645184136183, 12.857645184136183, 8.185, 18.2, 19.25, 14.5, 9.5, 19.85, 8.655, 10.195, 12.857645184136183, 14.0, 8.39, 11.65, 14.5, 12.857645184136183, 18.2, 12.857645184136183, 10.85, 17.25, 13.65, 12.15, 13.1, 13.6, 20.1, 16.35, 12.857645184136183, 6.235, 8.42, 12.857645184136183, 9.5, 12.5, 12.6, 16.85, 12.857645184136183, 6.635, 20.2, 14.1, 15.15, 13.65, 12.857645184136183, 12.857645184136183, 12.857645184136183, 12.15, 12.857645184136183, 13.5, 17.5, 12.857645184136183, 7.85, 9.695, 17.5, 9.195, 12.857645184136183, 21.1, 10.195, 17.85, 15.6, 16.1, 13.3, 12.85, 11.5, 16.25, 14.65, 13.15, 8.895, 15.7, 16.75, 10.3, 8.05, 18.6, 20.75, 13.5, 8.18, 17.25, 20.0, 16.5, 9.8, 17.25, 15.85, 12.857645184136183, 18.0, 12.857645184136183, 16.0, 4.59, 11.85, 12.857645184136183, 12.857645184136183, 18.2, 7.825, 12.857645184136183, 8.895, 18.5, 14.85, 12.857645184136183, 7.51, 15.6, 8.02, 11.0, 12.857645184136183, 17.5, 7.235, 12.857645184136183, 12.857645184136183, 18.0, 16.1, 7.475, 16.5, 11.35, 16.1, 18.7, 8.645, 17.1, 9.8, 12.857645184136183, 12.857645184136183, 15.25, 10.5, 5.82, 10.0, 5.5, 18.35, 19.0, 6.71, 10.3, 18.35, 13.8, 10.5, 20.75, 12.857645184136183, 9.895, 12.857645184136183, 12.857645184136183, 12.857645184136183, 11.1, 10.1, 12.857645184136183, 14.0, 12.857645184136183, 9.395, 12.857645184136183, 12.857645184136183, 6.13, 8.5, 12.857645184136183, 9.1, 15.25, 13.5, 10.8, 15.2, 19.35, 12.857645184136183, 11.5, 9.8, 7.475, 9.8, 12.857645184136183, 14.75, 5.5, 17.2, 19.2, 12.857645184136183, 14.85, 7.565, 18.25, 9.6, 7.855, 10.1, 10.395, 16.25, 17.6, 15.5, 7.59, 12.857645184136183, 11.1, 12.857645184136183, 16.1, 5.155, 12.857645184136183, 12.857645184136183, 6.365, 11.65, 18.25, 11.8, 18.2, 13.65, 8.365, 12.857645184136183, 20.7, 17.75, 18.0, 9.695, 6.42, 10.6, 5.03, 7.825, 12.857645184136183, 17.7, 8.235, 11.6, 17.2, 11.0, 19.6, 8.02, 5.365, 11.35, 12.857645184136183, 16.35, 17.25, 13.8, 8.485, 11.8, 15.35, 10.0, 19.2, 18.6, 18.5, 20.25, 12.35, 14.5, 14.8, 14.0, 10.8, 14.65, 12.857645184136183, 6.65, 6.59, 12.857645184136183, 9.395, 19.75, 7.56, 20.25, 20.6, 6.575, 19.7, 13.5, 6.28, 18.25, 9.3, 16.6, 16.35, 10.0, 12.857645184136183, 7.535, 4.92, 6.385, 18.5, 11.6, 17.35, 16.7, 10.895, 18.35, 18.75, 9.3, 12.857645184136183, 8.26, 12.8, 16.75, 12.857645184136183, 10.895, 16.85, 20.0, 16.0, 16.0, 8.93, 9.6, 12.857645184136183, 12.857645184136183, 9.8, 9.6, 12.857645184136183, 7.945, 7.475, 14.85, 16.6, 10.5, 8.63, 21.0, 15.5, 14.7, 13.15, 17.7, 12.857645184136183, 9.21, 12.1, 9.31, 14.85, 12.857645184136183, 6.92, 13.65, 16.0, 16.35, 12.857645184136183, 4.88, 6.965, 16.0, 18.85, 20.7, 9.3, 9.695, 17.25, 19.6, 14.3, 12.6, 13.1, 12.857645184136183, 17.85, 8.905, 18.5, 20.25, 10.3, 17.85, 7.21, 16.1, 12.857645184136183, 12.857645184136183, 17.35, 10.0, 18.6, 16.75, 17.75, 9.0, 6.42, 16.75, 7.39, 19.2, 12.857645184136183, 5.46, 17.5, 12.3, 17.0, 12.857645184136183, 19.7, 19.6, 14.5, 19.35, 9.195, 16.25, 20.7, 20.0, 12.857645184136183, 11.8, 11.8, 19.1, 15.5, 9.5, 12.85, 11.65, 15.6, 18.85, 6.865, 11.65, 12.857645184136183, 20.5, 20.35, 10.895, 7.3, 11.1, 7.06, 9.8, 9.5, 17.6, 11.8, 9.695, 16.5, 12.857645184136183, 9.0, 12.6, 12.857645184136183, 14.35, 13.6, 13.85, 16.1, 18.25, 12.15, 15.35, 12.857645184136183, 15.35, 18.25, 11.8, 9.27, 12.857645184136183, 12.8, 15.0, 12.5, 17.35, 7.975, 10.5, 12.857645184136183, 14.35, 12.35, 10.195, 18.5, 11.5, 12.5, 12.857645184136183, 10.695, 14.15, 17.6, 12.857645184136183, 6.215, 18.1, 11.65, 7.42, 20.0, 17.75, 14.0, 15.35, 6.13, 9.695, 20.25, 12.857645184136183, 15.85, 19.85, 4.61, 7.365, 12.857645184136183, 18.85, 12.857645184136183, 11.3, 7.405, 15.7, 7.72, 6.65, 10.6, 12.857645184136183, 15.85, 12.15, 11.35, 20.1, 15.7, 12.857645184136183, 16.7, 6.115, 20.7, 9.8, 12.857645184136183, 20.35, 12.857645184136183, 6.85, 20.35, 9.195, 9.695, 12.857645184136183, 11.65, 6.035, 18.2, 12.857645184136183, 7.63, 6.385, 9.6, 20.5, 12.857645184136183, 18.35, 19.6, 14.15, 12.857645184136183, 12.857645184136183, 17.6, 19.0, 8.42, 9.3, 19.75, 6.78, 12.857645184136183, 17.25, 15.3, 15.7, 17.85, 12.857645184136183, 15.3, 16.25, 15.0, 13.85, 12.857645184136183, 13.8, 7.475, 18.7, 12.5, 15.85, 12.857645184136183, 20.75, 5.82, 5.785, 13.1, 10.1, 16.75, 12.857645184136183, 17.1, 7.42, 7.51, 12.857645184136183, 12.857645184136183, 19.2, 18.6, 7.105, 4.92, 11.0, 7.68, 13.15, 7.52, 8.895, 4.805, 12.857645184136183, 7.785, 8.975, 12.857645184136183, 9.3, 10.895, 15.0, 12.15, 16.7, 15.1, 8.02, 19.35, 20.7, 12.857645184136183, 4.59, 18.1, 12.85, 16.75, 14.85, 8.235, 6.425, 6.59, 12.857645184136183, 12.857645184136183, 6.36, 17.35, 8.6, 17.7, 7.6, 19.6, 12.857645184136183, 9.3, 20.2, 11.35, 16.5, 17.1, 4.88, 10.195, 12.8, 12.857645184136183, 8.05, 20.6, 6.32, 5.465, 18.25, 14.5, 15.7, 9.6, 20.7, 6.055, 5.655, 6.78, 12.857645184136183, 6.865, 6.61, 12.857645184136183, 12.6, 6.055, 20.2, 12.857645184136183, 14.15, 16.5, 13.3, 9.195, 12.857645184136183, 9.0, 15.7, 18.1, 12.857645184136183, 15.7, 9.195, 12.857645184136183, 13.85, 20.2, 12.857645184136183, 13.65, 15.0, 10.695, 12.857645184136183, 14.0, 6.655, 16.5, 9.6, 6.55, 16.25, 15.25, 9.695, 12.857645184136183, 16.0, 15.85, 12.857645184136183, 18.85, 6.215, 12.857645184136183, 11.8, 7.325, 10.5, 15.7, 12.857645184136183, 13.0, 13.5, 6.865, 7.785, 17.7, 20.2, 7.855, 6.36, 17.0, 5.78, 11.5, 12.857645184136183, 18.2, 18.25, 12.6, 8.575, 18.2, 8.115, 12.65, 12.857645184136183, 8.775, 5.94, 18.85, 9.8, 12.65, 20.7, 14.65, 12.857645184136183, 15.85, 17.25, 16.0, 6.32, 6.525, 6.695, 14.85, 17.1, 10.3, 19.7, 10.695, 7.285, 17.7, 18.25, 5.175, 5.635, 6.035, 14.8, 18.25, 16.1, 16.75, 17.7, 8.88, 18.2, 11.15, 20.0, 7.935, 20.1, 13.65, 6.635, 18.25, 11.15, 19.5, 6.48, 11.15, 5.985, 7.27, 6.78, 9.195, 19.5, 6.59, 7.51, 12.857645184136183, 12.857645184136183, 12.857645184136183, 12.5, 17.0, 12.857645184136183, 12.65, 12.5, 18.7, 11.0, 12.857645184136183, 7.35, 10.895, 17.2, 15.5, 7.905, 9.8, 11.6, 12.857645184136183, 12.857645184136183, 5.825, 16.35, 14.7, 11.6, 16.75, 12.5, 12.6, 12.35, 13.35, 12.857645184136183, 12.857645184136183, 12.857645184136183, 6.63, 6.61, 19.6, 13.6, 12.857645184136183, 19.25, 12.857645184136183, 20.0, 12.857645184136183, 20.75, 7.235, 12.857645184136183, 6.78, 7.3, 12.3, 16.85, 14.65, 15.6, 17.35, 16.0, 17.0, 11.5, 5.695, 15.2, 9.1, 16.85, 11.15, 17.0, 7.47, 20.7, 15.6, 17.7, 13.0, 14.0, 18.85, 15.7, 15.85, 6.175, 12.857645184136183, 16.0, 13.15, 16.5, 14.65, 13.5, 10.1, 11.85, 9.285, 12.8, 6.235, 12.15, 12.857645184136183, 12.35, 9.195, 16.2, 7.285, 7.05, 12.857645184136183, 14.5, 13.35, 11.5, 12.1, 11.8, 7.05, 12.857645184136183, 18.75, 19.25, 16.2, 8.31, 13.1, 13.5, 11.15, 7.5, 12.857645184136183, 15.6, 12.857645184136183, 6.78, 16.0, 12.857645184136183, 10.5, 17.1, 7.535, 15.1, 15.1, 10.0, 20.85, 16.7, 8.315, 12.857645184136183, 16.75, 12.857645184136183, 12.5, 6.8, 7.3, 15.85, 12.1, 9.195, 7.59, 12.15, 19.75, 18.85, 12.15, 13.1, 12.857645184136183, 12.857645184136183, 7.895, 12.857645184136183, 16.75, 16.35, 8.21, 15.85, 16.2, 17.5, 12.857645184136183, 13.65, 11.35, 10.8, 7.47, 19.85, 8.39, 10.8, 15.0, 17.35, 14.1, 19.2, 15.6, 12.857645184136183, 20.5, 12.857645184136183, 10.6, 15.1, 7.035, 16.0, 13.65, 18.85, 6.115, 8.96, 19.6, 9.195, 8.97, 12.35, 9.3, 17.7, 7.27, 20.7, 16.1, 12.857645184136183, 20.75, 20.2, 5.51, 20.2, 14.7, 20.0, 17.1, 11.5, 11.15, 16.2, 16.1, 12.857645184136183, 15.0, 12.8, 5.985, 19.35, 16.6, 12.857645184136183, 11.5, 8.88, 11.6, 9.8, 9.395, 12.3, 16.1, 19.1, 8.43, 14.5, 8.27, 7.02, 20.0, 7.81, 12.857645184136183, 13.1, 15.2, 10.8, 12.6, 12.15, 7.42, 12.857645184136183, 6.885, 12.857645184136183, 20.25, 15.3, 9.21, 15.6, 15.35, 12.15, 12.857645184136183, 11.395, 17.1, 18.85, 19.6, 11.3, 12.857645184136183, 5.785, 5.82, 9.0, 12.857645184136183, 7.895, 13.8, 5.44, 16.7, 19.85, 10.395, 12.857645184136183, 12.857645184136183, 15.1, 20.5, 15.6, 16.75, 10.85, 16.2, 7.72, 12.857645184136183, 5.785, 12.857645184136183, 15.2, 13.1, 6.32, 17.85, 12.857645184136183, 13.85, 5.78, 12.857645184136183, 6.885, 8.42, 7.63, 10.5, 7.575, 13.5, 12.15, 5.405, 12.857645184136183, 7.435, 4.635, 8.96, 18.35, 11.65, 10.5, 7.39, 12.857645184136183, 14.0, 18.5, 13.65, 14.15, 10.1, 10.1, 13.85, 13.1, 18.75, 14.0, 16.1, 12.857645184136183, 12.857645184136183, 12.35, 20.7, 7.825, 12.857645184136183, 12.1, 12.857645184136183, 14.65, 12.857645184136183, 20.75, 11.15, 12.1, 11.6, 17.6, 12.857645184136183, 12.857645184136183, 10.65, 18.35, 7.35, 18.2, 8.39, 14.3, 10.195, 14.15, 16.2, 12.857645184136183, 12.65, 12.857645184136183, 10.895, 5.735, 17.85, 5.82, 10.0, 17.6, 12.857645184136183, 10.1, 12.857645184136183, 17.6, 8.645, 19.5, 7.68, 15.7, 5.405, 20.85, 7.39, 6.465, 18.25, 12.857645184136183, 12.857645184136183, 10.195, 15.1, 13.65, 12.857645184136183, 12.857645184136183, 5.985, 9.5, 11.15, 12.857645184136183, 18.0, 12.857645184136183, 16.2, 13.15, 20.6, 11.395, 6.78, 8.84, 16.7, 13.3, 12.6, 7.6, 12.6, 6.67, 10.695, 12.857645184136183, 16.6, 10.0, 19.1, 17.6, 19.5, 10.1, 8.6, 19.7, 15.35, 5.26, 9.8, 16.5, 10.5, 13.1, 12.857645184136183, 9.3, 14.3, 12.857645184136183, 10.8, 12.857645184136183, 12.85, 6.78, 9.195, 7.905, 17.6, 15.7, 12.857645184136183, 19.2, 7.405, 19.5, 9.195, 11.65, 21.1, 8.695, 7.27, 8.85, 18.6, 12.857645184136183, 9.1, 7.975, 10.0, 6.865, 16.7, 7.285, 8.43, 20.2, 8.75, 12.857645184136183, 12.857645184136183, 9.695, 7.75, 19.75, 9.8, 11.8, 9.8, 7.42, 20.75, 12.6, 19.75, 10.895, 16.6, 6.765, 13.1, 12.857645184136183, 6.155, 10.65, 12.857645184136183, 20.25, 20.5, 11.8, 15.0, 13.15, 15.5, 12.857645184136183, 11.6, 14.35, 13.15, 10.895, 10.1, 18.7, 12.15, 10.195, 8.575, 16.5, 9.065, 16.6, 11.6, 19.5, 16.6, 11.85, 12.85, 9.0, 5.655, 8.93, 15.2, 7.655, 12.857645184136183, 15.5, 18.7, 9.5, 13.65, 19.5, 8.71, 12.857645184136183, 19.6, 12.857645184136183, 11.8, 6.715, 19.1, 20.7, 10.195, 20.2, 10.8, 19.75, 19.35, 7.405, 15.25, 12.857645184136183, 8.895, 18.75, 20.1, 12.35, 16.85, 18.25, 17.0, 12.857645184136183, 14.3, 17.6, 12.857645184136183, 20.25, 18.0, 16.35, 14.0, 5.78, 21.0, 13.65, 12.3, 12.35, 11.8, 19.7, 10.1, 12.857645184136183, 17.85, 20.7, 8.89, 14.5, 9.0, 13.35, 6.675, 10.3, 12.857645184136183, 17.1, 14.15, 10.8, 8.5, 6.215, 17.5, 20.7, 8.975, 20.5, 13.65, 13.1, 4.615, 12.3, 12.857645184136183, 19.2, 20.1, 11.5, 9.3, 15.2, 12.65, 11.1, 12.857645184136183, 12.857645184136183, 19.2, 19.75, 6.135, 12.5, 7.235, 15.85, 9.895, 20.75, 10.8, 8.76, 16.1, 7.1, 19.35, 16.7, 9.5, 8.43, 14.15, 5.44, 7.35, 12.857645184136183, 20.1, 12.0, 21.25, 8.3, 10.1, 14.15, 9.0, 12.15, 12.857645184136183, 12.857645184136183, 20.0, 6.71, 12.857645184136183, 7.365, 7.935, 12.6, 17.6, 19.0, 7.5, 13.35, 8.6, 12.857645184136183, 10.5, 9.0, 4.61, 10.895, 17.6, 11.65, 19.1, 17.2, 16.5, 15.6, 9.0, 15.0, 12.857645184136183, 12.857645184136183, 6.195, 20.2, 20.7, 20.25, 7.655, 12.857645184136183, 5.92, 18.75, 9.395, 13.35, 12.857645184136183, 19.2, 19.0, 14.15, 20.85, 8.63, 16.7, 7.895, 7.72, 5.615, 7.05, 14.35, 8.52, 7.645, 12.1, 14.8, 20.75, 10.8, 18.35, 13.5, 20.5, 12.35, 8.895, 16.7, 16.2, 7.26, 6.65, 13.35, 17.35, 12.857645184136183, 5.46, 18.25, 8.185, 7.5, 12.65, 14.3, 17.85, 6.425, 6.825, 12.857645184136183, 20.25, 19.2, 17.7, 9.695, 12.857645184136183, 7.75, 12.857645184136183, 19.75, 5.325, 12.857645184136183, 12.857645184136183, 12.857645184136183, 6.71, 14.35, 15.2, 5.82, 5.59, 18.5, 12.857645184136183, 14.0, 7.605, 12.857645184136183, 9.6, 17.7, 15.7, 13.65, 14.6, 15.6, 20.25, 8.02, 18.35, 16.6, 10.0, 16.1, 13.0, 16.1, 19.0, 17.6, 6.32, 9.3, 11.1, 12.857645184136183, 6.15, 20.85, 17.1, 13.15, 16.5, 11.65, 13.15, 19.35, 19.35, 16.5, 21.35, 16.0, 20.5, 19.75, 17.6, 4.615, 5.88, 11.8, 17.35, 12.35, 12.857645184136183, 9.0, 6.235, 9.6, 16.75, 17.1, 6.825, 6.78, 16.0, 15.0, 7.39, 17.6, 12.65, 17.85, 11.15, 15.7, 14.65, 12.857645184136183, 18.25, 20.7, 15.85, 6.575, 17.75, 12.857645184136183, 12.857645184136183, 12.857645184136183, 16.7, 10.85, 10.0, 13.65, 19.0, 9.6, 12.0, 5.925, 13.0, 8.18, 12.8, 19.2, 14.5, 5.19, 13.3, 19.6, 17.75, 12.35, 14.35, 6.365, 12.857645184136183, 12.857645184136183, 14.75, 12.15, 6.59, 12.6, 12.857645184136183, 12.857645184136183, 12.857645184136183, 12.857645184136183, 7.325, 12.857645184136183, 15.1, 12.857645184136183, 8.51, 12.857645184136183, 20.35, 17.85, 18.25, 17.6, 10.895, 11.85, 12.857645184136183, 14.1, 15.15, 17.25, 17.6, 14.6, 10.1, 10.5, 12.6, 18.7, 5.985, 12.1, 13.0, 19.2, 5.78, 7.17, 20.85, 18.75, 7.5, 10.395, 12.8, 11.65, 20.2, 11.35, 8.71, 8.31, 19.0, 7.5, 6.525, 12.857645184136183, 12.857645184136183, 6.985, 11.3, 6.115, 9.5, 15.7, 16.0, 13.1, 12.857645184136183, 16.85, 12.857645184136183, 14.85, 18.2, 11.0, 21.1, 15.2, 12.857645184136183, 9.06, 11.5, 11.15, 13.5, 15.1, 8.3, 14.15, 12.857645184136183, 8.365, 11.85, 19.6, 19.0, 18.25, 19.85, 12.85, 12.857645184136183, 19.6, 15.7, 13.3, 10.395, 10.5, 19.35, 14.1, 8.6, 17.1, 12.857645184136183, 20.5, 15.1, 6.69, 12.857645184136183, 7.905, 18.0, 7.84, 15.15, 15.2, 19.85, 12.857645184136183, 7.325, 5.88, 10.695, 12.857645184136183, 20.25, 8.05, 11.65, 19.35, 7.235, 12.15, 8.615, 6.765, 10.3, 13.15, 8.84, 8.26, 20.1, 9.695, 18.85, 18.25, 12.857645184136183, 5.32, 8.115, 15.1, 8.42, 9.0, 8.18, 12.857645184136183, 15.35, 20.6, 9.3, 19.6, 11.3, 12.857645184136183, 15.3, 8.235, 15.2, 12.857645184136183, 9.0, 9.0, 15.35, 12.857645184136183, 20.1, 10.3, 12.35, 8.88, 15.85, 14.1, 20.25, 16.5, 13.6, 12.857645184136183, 20.35, 7.275, 19.7, 12.857645184136183, 12.857645184136183, 14.15, 19.0, 12.857645184136183, 20.5, 6.96, 15.35, 17.1, 10.195, 12.857645184136183, 5.78, 6.385, 12.857645184136183, 9.3, 13.65, 9.195, 9.17, 12.6, 14.85, 19.35, 18.7, 5.46, 8.785, 12.6, 8.76, 12.3, 19.6, 12.857645184136183, 8.155, 12.857645184136183, 7.97, 18.85, 11.1, 9.6, 9.27, 13.35, 11.3, 19.0, 12.3, 6.425, 11.5, 5.19, 12.15, 15.25, 11.8, 15.7, 16.75, 10.8, 11.8, 12.857645184136183, 7.81, 11.1, 12.85, 10.5, 6.135, 12.857645184136183, 12.857645184136183, 9.3, 16.6, 8.51, 8.645, 8.6, 12.857645184136183, 14.5, 6.65, 20.1, 15.25, 17.7, 7.075, 11.5, 5.82, 8.785, 5.465, 12.857645184136183, 12.857645184136183, 15.7, 7.39, 12.857645184136183, 6.8, 12.857645184136183, 11.5, 17.6, 7.75, 12.857645184136183, 18.6, 5.73, 12.15, 5.44, 17.7, 12.857645184136183, 12.1, 8.355, 6.26, 15.75, 5.905, 16.0, 20.25, 5.175, 9.0, 15.6, 5.175, 12.857645184136183, 18.7, 17.6, 18.2, 13.15, 8.6, 12.857645184136183, 20.35, 7.39, 19.6, 16.25, 6.28, 9.395, 7.72, 12.65, 12.857645184136183, 16.75, 15.5, 8.88, 18.25, 8.935, 16.0, 19.7, 20.6, 19.25, 14.15, 6.63, 11.8, 12.857645184136183, 12.85, 11.6, 12.857645184136183, 12.15, 4.635, 19.6, 20.2, 12.857645184136183, 9.395, 11.395, 19.5, 18.35, 5.365, 11.8, 11.3, 19.6, 14.0, 19.7, 12.5, 12.3, 7.435, 6.48, 17.6, 8.155, 16.1, 15.5, 12.857645184136183, 4.785, 14.6, 6.445, 4.88, 8.1, 8.395, 10.0, 12.857645184136183, 12.35, 11.3, 12.857645184136183, 19.5, 19.7, 7.75, 15.1, 12.857645184136183, 11.1, 7.075, 7.97, 12.15, 14.1, 12.857645184136183, 11.1, 12.857645184136183, 7.42, 16.35, 19.1, 12.857645184136183, 5.19, 11.8, 11.35, 15.2, 11.5, 20.25, 10.1, 13.1, 12.0, 19.0, 19.7, 12.857645184136183, 18.6, 11.5, 16.75, 18.85, 6.135, 20.7, 17.6, 16.0, 8.92, 17.75, 15.6, 12.857645184136183, 17.75, 5.73, 5.73, 9.3, 20.2, 12.857645184136183, 12.15, 21.35, 20.2, 6.57, 19.35, 8.6, 8.51, 12.857645184136183, 7.5, 14.3, 15.0, 14.3, 10.195, 6.825, 12.65, 11.15, 19.1, 18.85, 19.6, 15.1, 12.857645184136183, 6.425, 8.88, 12.3, 12.85, 11.35, 12.857645184136183, 19.0, 10.195, 8.27, 14.85, 12.857645184136183, 18.0, 7.1, 8.355, 9.8, 18.2, 12.857645184136183, 14.65, 12.857645184136183, 9.695, 12.857645184136183, 13.85, 7.75, 11.8, 12.3, 16.0, 11.5, 12.857645184136183, 7.36, 7.64, 17.75, 17.75, 7.27, 7.67, 20.2, 16.0, 9.5, 19.1, 15.0, 7.035, 19.75, 12.857645184136183, 12.857645184136183, 11.8, 12.857645184136183, 12.857645184136183, 19.1, 13.6, 5.34, 18.2, 12.15, 14.35, 17.35, 10.695, 7.22, 19.1, 8.26, 12.857645184136183, 14.0, 6.615, 14.15, 11.8, 12.857645184136183, 19.2, 18.85, 17.0, 12.5, 12.857645184136183, 8.6, 9.3, 7.27, 11.8, 16.35, 12.857645184136183, 12.857645184136183, 20.0, 5.82, 18.75, 9.5, 12.857645184136183, 10.5, 20.5, 12.3, 13.1, 11.395, 8.93, 18.2, 19.7, 14.1, 7.67, 12.857645184136183, 14.15, 11.6, 18.85, 15.6, 6.385, 16.1, 9.0, 12.857645184136183, 6.635, 12.857645184136183, 20.75, 6.63, 8.42, 5.15, 12.857645184136183, 12.857645184136183, 15.1, 15.35, 12.857645184136183, 12.85, 12.857645184136183, 7.475, 8.27, 12.85, 8.365, 8.985, 19.6, 16.1, 20.2, 10.3, 10.8, 16.75, 12.857645184136183, 18.2, 9.395, 12.857645184136183, 12.857645184136183, 12.857645184136183, 5.46, 12.65, 16.5, 17.35, 5.88, 12.1, 7.93, 8.43, 12.857645184136183, 14.15, 12.857645184136183, 12.857645184136183, 15.1, 17.75, 12.85, 10.5, 12.857645184136183, 12.857645184136183, 12.35, 7.84, 6.76, 9.895, 8.315, 17.5, 11.6, 7.285, 20.6, 16.1, 11.0, 17.7, 17.35, 12.857645184136183, 18.2, 7.825, 19.35, 8.895, 7.475, 10.5, 12.3, 6.035, 20.75, 13.85, 15.5, 11.6, 12.857645184136183, 6.635, 6.785, 16.2, 5.94, 13.35, 6.3, 17.1, 8.355, 18.25, 12.857645184136183, 12.857645184136183, 12.857645184136183, 12.65, 12.857645184136183, 16.5, 20.85, 6.155, 7.565, 8.905, 9.195, 16.2, 12.857645184136183, 12.857645184136183, 12.3, 6.135, 17.25, 11.3, 12.857645184136183, 17.85, 14.85, 16.5, 17.25, 10.695, 12.857645184136183, 12.3, 6.235, 12.15, 7.47, 8.155, 8.895, 7.97, 16.2, 14.5, 12.857645184136183, 15.7, 13.3, 6.865, 8.21, 20.7, 11.6, 12.857645184136183, 12.65, 12.857645184136183, 12.6, 13.35, 4.61, 13.8, 12.857645184136183, 14.0, 9.17, 16.5, 16.7, 12.857645184136183, 6.98, 12.15, 19.25, 12.857645184136183, 9.3, 11.0, 6.67, 6.675, 6.48, 14.1, 15.35, 7.05, 11.1, 6.445, 7.5, 17.25, 20.35, 12.857645184136183, 4.59, 12.6, 5.98, 7.47, 20.7, 6.17, 11.35, 19.5, 15.75, 15.6, 8.395, 8.395, 19.2, 8.06, 16.75, 13.0, 11.3, 12.857645184136183, 21.2, 20.2, 8.02, 12.857645184136183, 18.25, 7.05, 5.51, 15.7, 9.6, 5.175, 15.6, 7.81, 12.857645184136183, 19.7, 15.85, 12.857645184136183, 7.3, 6.15, 6.44, 12.857645184136183, 15.5, 15.2, 14.8, 18.35, 9.0, 17.85, 17.75, 6.615, 20.1, 9.195, 20.2, 12.857645184136183, 8.26, 12.857645184136183, 7.52, 17.0, 19.6, 5.095, 17.0, 15.35, 8.42, 6.985, 6.3, 14.85, 12.35, 12.3, 10.5, 15.35, 18.5, 11.6, 14.3, 8.52, 18.2, 18.25, 12.1, 13.35, 19.5, 12.857645184136183, 14.35, 12.857645184136183, 11.1, 8.42, 12.857645184136183, 15.5, 11.65, 12.857645184136183, 12.3, 13.65, 13.3, 12.857645184136183, 9.5, 8.8, 20.7, 11.5, 16.7, 6.885, 6.715, 5.19, 9.395, 9.695, 6.695, 20.35, 6.615, 7.36, 9.13, 13.35, 8.355, 19.85, 18.25, 15.75, 18.0, 7.63, 10.195, 11.8, 10.395, 7.235, 14.85, 12.857645184136183, 15.85, 20.7, 9.395, 13.5, 12.857645184136183, 14.1, 12.857645184136183, 14.15, 9.695, 4.88, 10.195, 12.857645184136183, 12.857645184136183, 12.857645184136183, 15.35, 6.695, 10.0, 8.63, 15.0, 20.0, 12.857645184136183, 9.1, 16.0, 15.85, 12.857645184136183, 19.1, 7.27, 6.59, 13.1, 14.3, 15.1, 5.825, 10.195, 20.2, 12.3, 16.75, 11.1, 9.195, 12.857645184136183, 12.8, 6.325, 12.857645184136183, 6.17, 6.98, 12.857645184136183, 12.15, 9.3, 18.0, 12.15, 13.5, 19.35, 8.485, 6.3, 20.85, 15.5, 17.0, 12.857645184136183, 10.5, 9.3, 12.857645184136183, 5.615, 18.0, 13.35, 12.857645184136183, 7.02, 20.1, 14.65, 7.825, 17.35, 16.35, 15.2, 18.7, 15.2, 17.85, 14.8, 15.85, 12.857645184136183, 18.85, 16.7, 20.35, 9.195, 15.3, 16.5, 20.85, 12.857645184136183, 10.6, 5.15, 12.85, 20.25, 17.6, 16.7, 15.0, 6.63, 12.857645184136183, 15.5, 12.857645184136183, 9.895, 16.25, 13.5, 17.7, 12.857645184136183, 13.85, 6.92, 11.65, 11.0, 17.75, 5.695, 17.25, 10.5, 16.2, 17.6, 7.31, 14.15, 12.857645184136183, 7.97, 9.895, 10.695, 13.15, 18.35, 15.7, 5.785, 19.1, 12.857645184136183, 12.6, 14.7, 20.2, 14.15, 12.857645184136183, 12.857645184136183, 18.2, 12.857645184136183, 12.6, 16.2, 13.15, 7.51, 13.85, 9.1, 19.85, 11.6, 15.7, 12.857645184136183, 20.35, 10.5, 7.435, 5.655, 11.1, 15.0, 14.15, 12.857645184136183, 12.5, 20.35, 8.85, 7.55, 18.7, 12.857645184136183, 12.6, 9.395, 7.21, 18.35, 11.3, 17.25, 12.857645184136183, 11.85, 9.6, 12.15, 17.75, 20.35, 8.785, 12.857645184136183, 6.11, 12.857645184136183, 15.15, 10.5, 12.857645184136183, 16.7, 9.035, 11.0, 11.8, 10.695, 12.857645184136183, 9.105, 16.2, 12.857645184136183, 18.75, 13.3, 6.425, 16.35, 19.6, 18.2, 19.0, 11.395, 6.635, 17.85, 14.15, 5.5, 8.895, 17.7, 12.857645184136183, 10.0, 7.09, 12.15, 7.75, 12.857645184136183, 5.03, 9.8, 12.857645184136183, 15.85, 17.7, 12.65, 19.6, 6.85, 12.857645184136183, 7.09, 6.55, 12.857645184136183, 19.25, 5.635, 7.035, 7.72, 13.0, 8.51, 12.857645184136183, 9.8, 19.85, 12.1, 15.5, 9.5, 12.857645184136183, 8.155, 8.18, 12.857645184136183, 19.6, 20.6, 9.695, 8.85, 8.93, 17.5, 16.1, 13.65, 5.425, 13.15, 6.26, 19.7, 12.857645184136183, 11.8, 13.85, 14.35, 12.857645184136183, 20.7, 7.64, 19.6, 18.5, 12.3, 12.1, 7.21, 17.6, 6.135, 19.6, 12.1, 14.5, 8.96, 20.7, 7.145, 9.6, 14.5, 12.857645184136183, 18.85, 13.8, 20.35, 20.75, 8.185, 9.395, 7.39, 16.75, 9.8, 15.0, 6.215, 11.65, 5.51, 7.72, 16.35, 12.857645184136183, 13.8, 4.905, 16.35, 21.25, 15.85, 8.6, 9.13, 12.857645184136183, 12.857645184136183, 12.857645184136183, 10.895, 9.3, 17.7, 9.3, 4.555, 19.2, 12.857645184136183, 17.35, 12.65, 8.0, 17.7, 14.85, 12.15, 15.1, 12.6, 16.75, 10.8, 20.2, 12.857645184136183, 15.2, 7.315, 16.1, 12.857645184136183, 17.75, 17.2, 6.635, 12.857645184136183, 7.52, 12.15, 9.195, 12.857645184136183, 12.857645184136183, 12.85, 12.857645184136183, 7.31, 18.25, 9.6, 10.3, 16.7, 11.15, 11.85, 12.6, 7.855, 18.35, 12.857645184136183, 12.5, 17.25, 12.1, 16.0, 5.94, 13.65, 8.88, 11.5, 7.855, 8.85, 12.857645184136183, 13.6, 8.27, 12.857645184136183, 9.895, 12.857645184136183, 18.5, 21.1, 6.65, 18.5, 12.857645184136183, 13.0, 12.857645184136183, 15.0, 13.1, 11.1, 16.75, 7.655, 10.5, 8.1, 15.7, 14.5, 17.7, 7.36, 18.75, 18.2, 5.46, 15.5, 12.85, 15.25, 8.6, 7.39, 9.035, 11.65, 15.7, 18.0, 12.857645184136183, 17.75, 17.1, 18.2, 20.35, 15.6, 13.3, 6.71, 15.0, 12.857645184136183, 9.105, 11.8, 12.0, 20.7, 10.3, 19.6, 6.89, 16.7, 13.0, 10.1, 15.6, 7.97, 12.857645184136183, 5.945, 20.35, 13.5, 6.71, 12.15, 17.7, 20.5, 19.1, 12.3, 8.905, 14.5, 8.365, 8.51, 6.38, 12.857645184136183, 16.7, 10.0, 14.5, 14.65, 12.857645184136183, 11.85, 19.0, 6.36, 18.85, 9.6, 5.94, 13.5, 10.85, 15.15, 15.6, 5.15, 20.35, 8.895, 21.25, 4.905, 10.895, 12.857645184136183, 17.75, 6.8, 10.395, 14.8, 13.5, 16.0, 17.85, 18.7, 18.0, 12.857645184136183, 5.26, 6.175, 5.86, 12.857645184136183, 10.5, 9.5, 12.857645184136183, 11.8, 12.5, 19.35, 20.2, 20.2, 12.857645184136183, 6.8, 12.857645184136183, 12.857645184136183, 8.43, 9.3, 11.35, 20.1, 11.35, 12.857645184136183, 9.8, 20.35, 18.2, 18.35, 12.1, 10.695, 12.857645184136183, 11.8, 13.8, 15.0, 5.63, 7.55, 18.85, 7.22, 17.85, 8.895, 19.25, 11.3, 10.85, 5.0, 20.0, 12.857645184136183, 10.0, 12.857645184136183, 8.63, 9.1, 6.92, 6.86, 20.0, 14.1, 17.6, 17.75, 8.6, 7.27, 6.8, 12.857645184136183, 6.935, 6.69, 12.857645184136183, 12.35, 15.6, 12.857645184136183, 13.1, 9.195, 11.15, 16.1, 6.465, 20.75, 7.655, 20.25, 18.75, 11.5, 12.857645184136183, 12.857645184136183, 7.5, 17.0, 12.857645184136183, 6.03, 12.857645184136183, 15.0, 18.75, 17.85, 18.35, 18.35, 19.6, 12.857645184136183, 14.65, 21.0, 9.6, 17.6, 14.0, 6.59, 17.6, 11.5, 20.35, 18.7, 5.46, 9.31, 12.3, 18.2, 18.25, 18.25, 12.857645184136183, 10.195, 5.34, 12.857645184136183, 11.15, 9.8, 12.1, 12.857645184136183, 12.857645184136183, 15.5, 15.5, 5.15, 17.25, 18.35, 6.32, 5.51, 13.35, 12.857645184136183, 12.857645184136183, 12.857645184136183, 12.857645184136183, 14.0, 18.85, 12.857645184136183, 18.35, 10.5, 9.6, 12.857645184136183, 6.035, 6.65, 12.857645184136183, 7.285, 11.1, 11.35, 12.3, 11.6, 12.3, 18.85, 9.8, 7.445, 11.1, 21.0, 20.2, 18.2, 11.8, 20.6, 9.8, 18.6, 13.0, 20.7, 9.8, 9.5, 21.1, 12.857645184136183, 8.975, 4.92, 17.5, 12.857645184136183, 9.695, 12.857645184136183, 7.725, 12.857645184136183, 9.6, 9.1, 17.0, 14.0, 12.1, 19.85, 17.2, 8.71, 6.89, 18.75, 12.857645184136183, 14.5, 12.857645184136183, 12.857645184136183, 20.75, 17.6, 16.85, 20.6, 5.175, 17.85, 8.93, 12.857645184136183, 7.655, 18.35, 12.857645184136183, 14.0, 11.6, 15.85, 10.5, 16.7, 17.6, 18.25, 21.1, 9.1, 15.25, 14.35, 12.857645184136183, 5.885, 16.1, 12.857645184136183, 19.7, 11.5, 16.5, 15.15, 12.15, 15.7, 11.6, 12.85, 15.0, 11.0, 5.88, 7.825, 12.857645184136183, 10.695, 12.857645184136183, 13.6, 8.06, 12.857645184136183, 7.105, 18.6, 9.5, 16.85, 17.85, 13.1, 11.3, 13.3, 15.2, 20.7, 7.405, 6.15, 11.35, 19.85, 12.857645184136183, 8.18, 12.15, 6.03, 15.85, 18.6, 12.0, 17.1, 10.5, 17.5, 16.1, 20.1, 12.857645184136183, 7.55, 19.25, 19.6, 14.85, 14.65, 9.3, 12.857645184136183, 14.5, 8.365, 12.85, 13.5, 7.365, 21.1, 12.857645184136183, 9.5, 12.85, 14.0, 18.35, 12.857645184136183, 7.155, 5.82, 17.75, 18.0, 7.06, 15.6, 12.857645184136183, 12.3, 15.0, 18.2, 20.5, 8.27, 12.857645184136183, 8.93, 6.215, 20.25, 7.895, 19.35, 9.695, 12.857645184136183, 8.21, 7.3, 20.0, 7.865, 12.857645184136183, 20.35, 16.0, 18.0, 18.7, 12.857645184136183, 10.6, 5.655, 12.857645184136183, 10.195, 8.06, 16.35, 6.46, 13.5, 16.2, 19.1, 12.857645184136183, 5.48, 6.055, 9.6, 6.135, 8.43, 8.27, 10.195, 14.0, 8.01, 16.25, 13.35, 12.857645184136183, 17.75, 13.5, 11.8, 5.78, 9.0, 17.75, 8.395, 12.857645184136183, 12.85, 8.5, 14.0, 9.3, 15.85, 10.8, 7.26, 18.7, 16.0, 8.895, 11.1, 18.85, 7.905, 14.7, 12.6, 16.0, 12.857645184136183, 12.857645184136183, 13.35, 20.1, 8.185, 9.195, 19.1, 12.85, 11.15, 9.8, 10.195, 12.857645184136183, 12.0, 12.857645184136183, 16.7, 17.1, 12.857645184136183, 16.7, 19.35, 19.2, 12.857645184136183, 18.25, 16.75, 17.1, 13.0, 7.17, 19.85, 12.857645184136183, 4.615, 7.63, 8.39, 5.175, 16.0, 12.857645184136183, 12.857645184136183, 12.857645184136183, 9.5, 10.895, 12.857645184136183, 17.2, 19.85, 6.385, 11.65, 12.85, 17.7, 9.1, 15.5, 16.35, 10.695, 16.6, 12.857645184136183, 13.15, 11.5, 12.857645184136183, 12.857645184136183, 5.63, 19.2, 12.857645184136183, 6.695, 15.75, 12.5, 21.25, 12.857645184136183, 18.85, 20.1, 11.395, 9.3, 12.857645184136183, 12.8, 6.8, 12.857645184136183, 15.0, 19.85, 7.85, 20.2, 11.85, 6.135, 9.0, 17.5, 12.15, 11.0, 17.5, 12.857645184136183, 12.857645184136183, 17.5, 12.857645184136183, 10.6, 7.145, 12.857645184136183, 20.7, 12.857645184136183, 17.5, 17.7, 8.6, 9.5, 17.7, 12.3, 6.26, 17.7, 18.25, 5.8, 14.5, 18.25, 12.85, 17.1, 7.575, 9.21, 11.3, 12.857645184136183, 13.6, 20.85, 9.195, 12.857645184136183, 15.75, 16.5, 12.857645184136183, 20.5, 17.6, 8.775, 10.1, 18.2, 8.975, 12.857645184136183, 9.6, 8.185, 14.75, 20.5, 14.65, 19.2, 5.945, 17.5, 10.895, 20.5, 12.857645184136183, 13.65, 15.7, 18.7, 19.35, 16.0, 6.965, 11.395, 7.5, 6.115, 12.857645184136183, 14.8, 8.71, 15.5, 19.35, 12.857645184136183, 19.2, 16.25, 19.85, 13.65, 7.535, 12.857645184136183, 12.857645184136183, 5.59, 11.0, 19.85, 17.6, 6.215, 15.1, 13.35, 9.5, 11.8, 17.6, 19.85, 13.35, 18.85, 17.5, 20.2, 5.88, 12.857645184136183, 15.85, 5.985, 18.85, 18.85, 7.51, 16.2, 17.6, 8.97, 7.22, 12.857645184136183, 8.71, 17.7, 15.85, 6.055, 12.857645184136183, 19.25, 16.5, 13.5, 12.857645184136183, 7.865, 10.6, 12.857645184136183, 16.2, 14.5, 7.235, 16.75, 12.857645184136183, 12.857645184136183, 14.0, 19.85, 10.895, 5.635, 10.65, 15.1, 16.5, 13.35, 12.15, 13.65, 20.75, 19.1, 17.25, 12.857645184136183, 12.857645184136183, 10.195, 16.6, 17.6, 8.185, 13.65, 10.6, 10.8, 15.2, 8.895, 11.8, 7.63, 6.55, 16.85, 12.857645184136183, 7.235, 19.25, 13.85, 18.1, 18.6, 6.615, 15.6, 18.85, 7.235, 7.825, 12.857645184136183, 19.7, 12.6, 10.65, 16.75, 13.8, 9.6, 13.1, 14.6, 6.67, 15.7, 17.75, 20.2, 10.85, 20.25, 12.857645184136183, 5.86, 6.115, 19.7, 9.8, 12.5, 19.35, 16.75, 19.1, 21.35, 19.5, 6.575, 6.67, 12.3, 16.1, 12.857645184136183, 17.35, 15.35, 8.975, 13.15, 19.5, 15.1, 5.465, 17.75, 12.857645184136183, 6.96, 17.85, 5.095, 5.73, 7.5, 7.855, 5.655, 12.15, 9.6, 18.85, 20.2, 12.15, 19.6, 16.0, 12.857645184136183, 6.425, 6.825, 12.857645184136183, 7.97, 17.25, 9.1, 19.2, 12.857645184136183, 12.857645184136183, 14.5, 12.857645184136183, 17.75, 7.145, 8.985, 16.35, 5.655, 9.5, 5.78, 8.05, 6.75, 16.6, 6.095, 15.1, 19.35, 11.3, 10.8, 19.7, 12.857645184136183, 10.5, 7.655, 8.235, 20.6, 19.35, 9.5, 5.305, 9.8, 9.6, 13.0, 17.6, 14.3, 10.3, 15.1, 6.03, 7.68, 20.0, 15.85, 15.2, 12.15, 19.35, 12.857645184136183, 12.857645184136183, 8.85, 19.85, 19.1, 17.0, 11.15, 12.35, 20.85, 12.857645184136183, 7.035, 4.785, 12.857645184136183, 17.25, 9.3, 17.25, 17.85, 12.857645184136183, 9.8, 18.85, 9.695, 10.0, 16.6, 18.25, 5.82, 9.31, 18.25, 19.7, 6.865, 11.35, 17.7, 12.857645184136183, 20.85, 17.25, 15.35, 13.65, 15.2, 6.38, 12.857645184136183, 6.905, 12.857645184136183, 12.857645184136183, 15.7, 15.2, 12.857645184136183, 12.857645184136183, 12.857645184136183, 8.355, 12.15, 13.35, 17.0, 17.35, 12.857645184136183, 9.1, 6.13, 12.857645184136183, 19.2, 8.895, 19.75, 10.895, 12.857645184136183, 10.3, 19.1, 4.555, 12.857645184136183, 16.2, 8.975, 21.1, 17.75, 12.8, 6.905, 10.195, 5.785, 12.857645184136183, 7.96, 8.3, 5.46, 13.35, 5.46, 12.857645184136183, 20.75, 6.59, 7.55, 20.85, 18.85, 15.2, 10.1, 10.0, 8.985, 11.5, 12.857645184136183, 19.85, 21.1, 4.555, 20.85, 7.905, 6.78, 12.857645184136183, 15.0, 17.6, 13.8, 5.11, 8.71, 7.235, 12.3, 6.96, 18.0, 6.28, 10.5, 14.15, 9.8, 15.85, 10.3, 17.6, 12.857645184136183, 10.3, 9.195, 12.8, 10.0, 17.25, 12.857645184136183, 20.2, 7.5, 7.895, 15.75, 12.857645184136183, 13.65, 20.1, 13.65, 12.3, 12.857645184136183, 21.35, 7.72, 12.1, 14.85, 12.857645184136183, 16.0, 8.395, 7.365, 20.5, 18.25, 12.857645184136183, 7.475, 12.15, 7.97, 15.25, 16.35, 11.1, 11.8, 14.3, 13.65, 16.75, 16.25, 18.0, 20.2, 15.0, 12.857645184136183, 12.857645184136183, 12.857645184136183, 13.0, 14.65, 12.857645184136183, 5.88, 12.35, 9.0, 10.395, 10.195, 12.857645184136183, 9.695, 19.35, 16.7, 5.985, 8.85, 15.7, 12.5, 19.35, 7.72, 17.2, 12.857645184136183, 12.857645184136183, 12.857645184136183, 8.895, 20.2, 20.5, 17.6, 11.15, 12.857645184136183, 19.6, 10.895, 13.85, 15.1, 15.0, 12.85, 16.85, 15.5, 15.85, 21.2, 13.35, 6.11, 13.0, 12.857645184136183, 12.857645184136183, 6.425, 12.857645184136183, 12.0, 7.535, 7.68, 14.7, 10.3, 13.8, 10.1, 7.785, 13.8, 11.8, 10.5, 12.857645184136183, 19.7, 12.857645184136183, 12.857645184136183, 15.1, 16.2, 11.3, 12.857645184136183, 12.857645184136183, 19.7, 20.6, 9.5, 13.5, 13.65, 7.27, 12.857645184136183, 6.86, 14.7, 12.857645184136183, 9.195, 14.15, 12.3, 11.8, 13.6, 11.6, 15.0, 7.0, 13.1, 11.3, 12.3, 10.0, 12.857645184136183, 6.98, 19.0, 17.0, 15.15, 12.857645184136183, 12.857645184136183, 8.355, 12.15, 17.25, 6.46, 12.857645184136183, 5.78, 18.7, 19.2, 12.857645184136183, 12.857645184136183, 12.857645184136183, 12.857645184136183, 7.35, 20.35, 12.857645184136183, 17.85, 4.615, 15.0, 12.857645184136183, 12.1, 11.65, 12.857645184136183, 15.5, 9.195, 15.1, 5.095, 15.1, 12.1, 6.235, 15.0, 12.857645184136183, 10.65, 9.8, 18.25, 12.857645184136183, 19.6, 17.0, 9.6, 8.51, 5.88, 8.905, 12.857645184136183, 8.85, 20.7, 12.857645184136183, 6.3, 17.5, 12.857645184136183, 5.765, 17.75, 5.035, 8.355, 6.13, 10.5, 12.5, 12.857645184136183, 20.75, 12.857645184136183, 13.35, 7.96, 8.92, 6.635, 15.5, 6.13, 7.315, 16.0, 16.85, 15.85, 15.0, 19.1, 19.0, 13.5, 16.75, 12.857645184136183, 9.195, 19.35, 11.8, 10.6, 13.65, 14.85, 12.857645184136183, 13.5, 5.635, 7.405, 12.857645184136183, 11.35, 12.857645184136183, 16.1, 17.7, 13.1, 14.3, 12.857645184136183, 8.6, 5.78, 8.195, 13.65, 17.35, 20.25, 12.857645184136183, 16.1, 12.857645184136183, 17.6, 18.0, 12.5, 9.065, 16.85, 16.0, 9.3, 6.215, 20.1, 8.77, 16.25, 15.15, 13.15, 12.15, 12.857645184136183, 20.85, 18.2, 8.3, 6.195, 15.1, 11.5, 19.0, 10.5, 8.8, 12.857645184136183, 17.75, 12.857645184136183, 17.75, 20.75, 16.7, 12.857645184136183, 13.85, 15.35, 12.1, 12.15, 12.857645184136183, 16.35, 12.857645184136183, 7.27, 13.8, 20.25, 9.3, 14.15, 12.857645184136183, 8.115, 12.857645184136183, 11.1, 12.5, 9.8, 19.7, 14.3, 19.75, 18.5, 12.857645184136183, 12.35, 12.857645184136183, 5.365, 12.857645184136183, 20.5, 8.71, 12.857645184136183, 16.0, 17.6, 20.7, 13.0, 20.2, 20.35, 18.6, 12.857645184136183, 13.35, 17.85, 16.35, 14.85, 21.25, 14.15, 17.2, 12.857645184136183, 10.85, 20.35, 16.35, 9.3, 12.857645184136183, 15.75, 14.85, 18.6, 16.35, 9.695, 15.15, 14.3, 10.895, 8.39, 18.35, 15.2, 20.2, 12.857645184136183, 8.71, 12.15, 8.06, 11.5, 14.85, 11.8, 14.7, 12.857645184136183, 18.75, 7.235, 12.857645184136183, 19.6, 7.27, 15.1, 7.81, 7.81, 6.465, 12.857645184136183, 10.8, 9.5, 20.7, 8.895, 15.6, 9.0, 19.35, 19.7, 12.857645184136183, 5.825, 12.857645184136183, 12.85, 12.85, 17.5, 17.0, 7.05, 5.78, 15.2, 12.857645184136183, 11.35, 17.5, 16.25, 12.85, 12.857645184136183, 8.84, 12.857645184136183, 17.75, 6.38, 12.857645184136183, 10.65, 13.1, 12.857645184136183, 10.195, 6.67, 5.32, 12.857645184136183, 12.1, 13.85, 16.35, 18.35, 15.5, 12.1, 12.1, 19.25, 8.71, 10.5, 11.6, 16.0, 6.865, 10.395, 8.05, 5.785, 10.3, 12.5, 7.63, 13.5, 17.5, 12.857645184136183, 8.21, 11.65, 18.5, 7.72, 5.88, 6.85, 12.857645184136183, 7.52, 13.65, 12.857645184136183, 6.985, 12.857645184136183, 9.3, 12.1, 5.98, 9.0, 7.145, 19.0, 7.855, 19.5, 8.71, 11.5, 18.85, 13.65, 6.135, 5.655, 14.85, 20.75, 10.0, 10.3, 5.675, 5.51, 17.75, 17.75, 8.365, 12.857645184136183, 10.0, 18.2, 19.35, 12.857645184136183, 7.39, 7.945, 16.0, 20.1, 20.6, 8.575, 17.7, 20.0, 5.695, 5.11, 15.25, 12.857645184136183, 18.25, 15.6, 13.0, 7.02, 19.7, 9.1, 8.0, 17.75, 19.5, 7.685, 9.6, 19.6, 17.6, 15.6, 12.65, 12.857645184136183, 12.857645184136183, 14.5, 6.425, 9.695, 19.6, 20.7, 12.6, 8.275, 12.857645184136183, 19.85, 7.36, 20.35, 17.7, 12.857645184136183, 8.39, 9.195, 8.93, 15.7, 16.7, 12.857645184136183, 20.5, 12.857645184136183, 11.65, 20.75, 12.857645184136183, 16.2, 10.195, 12.857645184136183, 13.3, 6.215, 6.67, 12.6, 12.15, 16.6, 12.857645184136183, 20.85, 11.0, 15.6, 12.857645184136183, 10.195, 12.6, 20.2, 18.0, 6.75, 12.35, 7.59, 14.8, 5.11, 6.38, 8.3, 16.7, 12.857645184136183, 9.695, 8.235, 10.195, 10.695, 8.38, 11.65, 9.195, 8.1, 18.6, 17.6, 20.25, 5.98, 18.75, 5.82, 8.52, 15.5, 16.7, 9.6, 9.13, 10.5, 17.0, 12.857645184136183, 9.195, 10.1, 8.18, 8.655, 17.85, 10.65, 13.65, 17.25, 9.5, 16.7, 8.6, 19.25, 11.0, 9.895, 14.0, 7.365, 20.85, 7.64, 12.857645184136183, 17.7, 7.97, 12.35, 8.42, 12.857645184136183, 6.305, 5.92, 15.1, 17.35, 7.405, 6.405, 19.7, 17.7, 17.6, 15.85, 17.5, 12.857645184136183, 9.6, 11.0, 20.75, 12.857645184136183, 16.6, 12.5, 7.02, 19.1, 5.785, 11.65, 19.0, 5.19, 14.15, 16.2, 7.72, 18.6, 8.35, 18.6, 12.857645184136183, 19.0, 8.895, 18.0, 15.1, 12.857645184136183, 20.5, 12.857645184136183, 20.6, 15.85, 20.6, 10.3, 12.857645184136183, 17.6, 11.35, 10.195, 17.5, 12.857645184136183, 11.0, 5.92, 13.3, 18.2, 9.395, 6.75, 15.7, 8.39, 12.857645184136183, 9.6, 11.1, 12.8, 12.85, 13.65, 12.857645184136183, 7.935, 12.857645184136183, 16.1, 7.645, 8.775, 10.65, 7.64, 7.325, 8.645, 8.97, 12.857645184136183, 5.405, 12.857645184136183, 10.195, 6.935, 12.857645184136183, 8.88, 12.857645184136183, 9.3, 9.0, 21.25, 12.35, 12.857645184136183, 16.85, 14.7, 8.63, 7.935, 12.857645184136183, 19.85, 5.765, 17.75, 12.857645184136183, 8.235, 12.857645184136183, 6.13, 9.1, 18.7, 15.5, 10.695, 6.695, 16.0, 5.59, 11.35, 12.3, 12.857645184136183, 17.75, 17.75, 12.857645184136183, 12.857645184136183, 12.35, 16.7, 19.35, 15.7, 12.857645184136183, 18.7, 7.06, 11.35, 12.857645184136183, 6.96, 12.857645184136183, 12.857645184136183, 13.15, 12.857645184136183, 14.5, 7.5, 15.2, 11.6, 9.0, 19.35, 15.2, 20.2, 12.857645184136183, 12.857645184136183, 5.365, 21.2, 11.15, 19.35, 13.5, 9.6, 12.5, 15.85, 10.195, 20.2, 7.96, 20.0, 6.425, 12.857645184136183, 12.1, 11.6, 12.857645184136183, 9.395, 17.2, 7.42, 18.25, 12.857645184136183, 17.6, 12.857645184136183, 6.825, 7.405, 15.7, 15.6, 9.6, 12.857645184136183, 12.857645184136183, 12.857645184136183, 10.195, 19.1, 8.895, 8.945, 10.3, 16.0, 6.385, 13.0, 20.1, 11.1, 5.175, 11.5, 16.75, 12.857645184136183, 17.25, 5.88, 12.857645184136183, 7.3, 7.075, 6.365, 12.857645184136183, 9.3, 5.92, 9.6, 14.15, 11.8, 6.765, 12.857645184136183, 13.15, 12.857645184136183, 18.7, 13.3, 9.42, 17.6, 8.235, 12.857645184136183, 13.15, 12.65, 20.7, 13.0, 16.1, 16.0, 12.35, 14.0, 20.5, 8.3, 19.2, 9.1, 14.15, 7.93, 17.1, 16.2, 6.465, 7.155, 20.6, 20.25, 12.857645184136183, 15.85, 9.0, 12.857645184136183, 12.857645184136183, 18.7, 20.85, 18.35, 18.6, 9.8, 15.1, 12.857645184136183, 7.09, 12.857645184136183, 12.857645184136183, 12.857645184136183, 9.5, 19.0, 20.5, 19.85, 21.1, 12.857645184136183, 15.1, 19.7, 16.2, 18.1, 10.195, 6.55, 15.85, 12.857645184136183, 12.1, 16.5, 12.857645184136183, 16.7, 12.857645184136183, 11.1, 11.35, 9.195, 12.857645184136183, 18.85, 8.0, 19.1, 12.857645184136183, 12.857645184136183, 12.857645184136183, 6.36, 19.6, 12.857645184136183, 17.1, 12.857645184136183, 12.857645184136183, 8.76, 6.775, 16.25, 19.85, 19.75, 6.96, 8.935, 8.26, 6.71, 8.945, 12.65, 15.0, 15.35, 14.35, 12.857645184136183, 5.765, 8.315, 6.13, 14.5, 15.1, 17.25, 13.0, 12.857645184136183, 12.85, 7.975, 10.895, 9.17, 16.2, 14.65, 12.857645184136183, 6.985, 17.7, 16.1, 14.75, 12.15, 12.857645184136183, 18.5, 12.15, 16.1, 20.6, 17.6, 12.857645184136183, 5.98, 13.5, 12.85, 13.6, 9.8, 15.0, 12.857645184136183, 12.857645184136183, 16.35, 12.857645184136183, 7.05, 20.1, 19.6, 16.35, 13.15, 12.65, 14.5, 17.75, 14.0, 12.857645184136183, 9.895, 10.195, 18.25, 6.4, 5.88, 6.895, 20.5, 14.8, 17.75, 18.6, 12.5, 19.0, 8.26, 9.06, 9.195, 12.857645184136183, 5.945, 12.857645184136183, 13.35, 12.65, 12.15, 12.857645184136183, 20.85, 18.25, 11.3, 17.6, 5.88, 12.857645184136183, 21.25, 20.2, 9.8, 16.6, 12.857645184136183, 7.035, 7.93, 15.5, 12.857645184136183, 12.35, 12.857645184136183, 12.857645184136183, 8.235, 6.675, 6.55, 13.5, 6.86, 9.8, 14.3, 19.35, 9.3, 12.857645184136183, 4.805, 12.857645184136183, 14.5, 15.35, 21.1, 12.857645184136183, 19.5, 6.03, 20.7, 16.5, 12.857645184136183, 17.1, 12.857645184136183, 5.26, 14.0, 7.575, 12.857645184136183, 16.75, 9.3, 15.2, 8.6, 18.6, 12.857645184136183, 9.5, 15.0, 6.465, 18.5, 6.715, 14.15, 12.857645184136183, 13.5, 17.6, 19.85, 12.857645184136183, 7.855, 12.857645184136183, 8.615, 7.405, 12.857645184136183, 18.2, 9.3, 12.857645184136183, 21.25, 8.655, 11.8, 12.857645184136183, 12.857645184136183, 16.5, 12.6, 12.857645184136183, 12.857645184136183, 12.857645184136183, 15.5, 17.25, 17.5, 16.0, 19.5, 9.27, 18.25, 8.395, 9.8, 12.857645184136183, 7.27, 17.6, 13.0, 8.75, 12.15, 10.3, 6.425, 16.6, 12.857645184136183, 10.65, 19.6, 16.0, 8.89, 20.25, 12.857645184136183, 5.175, 4.61, 12.857645184136183, 11.395, 17.7, 18.0, 19.7, 5.925, 12.857645184136183, 10.65, 14.8, 15.1, 13.5, 16.7, 13.35, 10.195, 15.7, 13.15, 13.15, 12.1, 12.8, 12.857645184136183, 4.805, 18.75, 7.6, 9.5, 16.7, 5.26, 15.6, 13.65, 12.85, 12.6, 12.857645184136183, 17.75, 14.8, 18.25, 14.65, 16.5, 18.75, 10.5, 15.35, 14.1, 8.27, 12.15, 12.857645184136183, 8.895, 14.0, 18.2, 17.85, 17.1, 9.8, 9.6, 13.5, 17.5, 12.857645184136183, 7.945, 12.857645184136183, 5.765, 14.1, 20.7, 10.6, 9.3, 12.6, 8.6, 19.85, 10.65, 9.0, 10.0, 20.25, 15.6, 12.5, 4.785, 6.92, 15.0, 8.365, 7.785, 10.8, 6.57, 8.38, 11.6, 11.3, 7.67, 8.96, 6.67, 18.7, 17.85, 12.857645184136183, 7.725, 19.6, 18.7, 12.857645184136183, 13.35, 5.26, 8.945, 20.6, 14.6, 5.94, 6.75, 16.7, 13.5, 8.42, 7.68, 17.75, 4.92, 8.27, 20.7, 11.6, 12.857645184136183, 19.35, 20.25, 11.3, 11.15, 12.857645184136183, 18.7, 12.857645184136183, 5.88, 20.85, 8.27, 17.6, 18.2, 12.857645184136183, 20.6, 15.5, 15.35, 9.8, 11.65, 16.35, 12.857645184136183, 18.7, 16.5, 5.48, 9.6, 12.857645184136183, 9.06, 15.6, 16.75, 11.8, 9.5, 9.0, 10.195, 15.1, 13.0, 12.857645184136183, 12.857645184136183, 10.3, 6.96, 16.75, 12.857645184136183, 12.857645184136183, 5.88, 12.857645184136183, 18.85, 16.0, 11.5, 7.31, 16.7, 9.895, 12.857645184136183, 8.895, 7.93, 7.645, 14.6, 12.857645184136183, 8.02, 5.945, 6.98, 10.1, 19.1, 14.35, 11.6, 15.7, 11.85, 17.5, 12.857645184136183, 8.38, 12.5, 12.85, 15.5, 12.857645184136183, 12.857645184136183, 11.1, 14.35, 17.35, 12.857645184136183, 15.1, 12.15, 10.695, 12.857645184136183, 7.825, 18.35, 12.857645184136183, 17.85, 16.75, 10.395, 9.065, 7.945, 7.325, 13.15, 10.5, 6.615, 15.0, 12.857645184136183, 6.11, 14.65, 10.1, 12.857645184136183, 18.7, 6.035, 8.35, 15.5, 17.75, 12.857645184136183, 18.25, 12.857645184136183, 6.4, 8.71, 12.857645184136183, 12.857645184136183, 17.7, 15.6, 6.57, 12.857645184136183, 11.8, 6.89, 8.51, 21.25, 7.235, 12.857645184136183, 17.0, 19.5, 12.857645184136183, 8.18, 10.8, 19.35, 21.1, 16.1, 12.857645184136183, 12.857645184136183, 17.6, 9.0, 12.857645184136183, 12.15, 9.395, 12.857645184136183, 14.3, 6.3, 12.857645184136183, 8.155, 7.575, 11.8, 18.75, 12.15, 9.285, 12.857645184136183, 12.857645184136183, 5.405, 18.2, 19.6, 20.25, 6.11, 13.8, 11.8, 13.5, 8.695, 7.85, 10.1, 5.75, 20.35, 14.5, 12.857645184136183, 6.135, 12.857645184136183, 13.0, 16.0, 12.857645184136183, 12.35, 11.395, 7.435, 12.8, 9.695, 18.5, 20.6, 11.6, 15.7, 10.695, 19.6, 9.195, 7.72, 8.77, 13.6, 21.25, 9.035, 16.7, 11.65, 9.6, 10.85, 7.52, 12.5, 11.3, 20.75, 15.35, 10.5, 20.75, 12.857645184136183, 12.5, 20.5, 13.6, 12.857645184136183, 12.857645184136183, 13.8, 8.195, 6.195, 12.857645184136183, 14.0, 12.857645184136183, 11.5, 13.35, 7.21, 19.0, 13.6, 12.857645184136183, 18.35, 6.305, 15.2, 12.857645184136183, 15.2, 15.35, 7.405, 18.7, 12.857645184136183, 13.15, 20.6, 16.5, 12.857645184136183, 12.857645184136183, 11.6, 12.35, 6.865, 10.8, 7.71, 12.3, 11.5, 13.85, 9.0, 18.85, 7.825, 16.0, 13.15, 6.635, 7.5, 17.1, 12.857645184136183, 7.93, 12.6, 15.6, 12.857645184136183, 14.85, 7.315, 12.0, 16.35, 17.75, 12.857645184136183, 12.857645184136183, 18.6, 12.65, 12.857645184136183, 16.25, 12.857645184136183, 12.857645184136183, 20.2, 12.857645184136183, 15.35, 7.785, 17.6, 15.1, 9.395, 9.27, 12.857645184136183, 18.85, 12.857645184136183, 11.0, 13.15, 5.46, 12.857645184136183, 12.35, 6.865, 17.75, 12.857645184136183, 12.857645184136183, 19.35, 13.8, 9.3, 17.0, 20.2, 14.0, 9.195, 8.39, 5.735, 8.155, 17.7, 16.7, 17.25, 12.857645184136183, 13.5, 18.0, 20.75, 17.6, 13.0, 6.055, 12.85, 10.6, 18.7, 6.235, 15.25, 19.2, 11.65, 18.7, 8.275, 8.895, 20.35, 15.85, 19.0, 10.85, 5.095, 10.0, 5.34, 17.2, 12.857645184136183, 12.857645184136183, 10.5, 10.5, 16.7, 8.43, 7.785, 11.35, 11.6, 6.365, 5.11, 10.1, 12.85, 7.725, 12.857645184136183, 12.857645184136183, 12.857645184136183, 17.1, 12.857645184136183, 20.1, 16.75, 12.857645184136183, 8.905, 6.78, 16.85, 14.65, 20.7, 12.857645184136183, 12.1, 9.1, 15.2, 15.15, 12.857645184136183, 20.6, 15.3, 12.857645184136183, 19.25, 9.3, 12.857645184136183, 17.25, 21.25, 20.1, 18.75, 17.6, 17.75, 19.25, 18.85, 17.7, 12.857645184136183, 17.5, 10.5, 16.75, 8.935, 12.857645184136183, 15.35, 12.857645184136183, 15.85, 6.215, 12.857645184136183, 9.5, 17.7, 19.2, 8.05, 14.7, 11.5, 19.85, 20.0, 8.96, 5.615, 17.0, 5.82, 12.857645184136183, 19.1, 12.857645184136183, 12.857645184136183, 9.695, 20.6, 9.195, 10.695, 15.75, 19.6, 12.857645184136183, 17.35, 9.3, 6.71, 17.1, 5.175, 12.65, 16.5, 12.857645184136183, 7.725, 7.0, 12.1, 7.6, 12.85, 17.75, 12.857645184136183, 20.25, 12.857645184136183, 6.76, 12.857645184136183, 14.15, 20.75, 7.84, 19.6, 10.5, 5.655, 12.5, 10.195, 12.857645184136183, 6.135, 9.1, 14.6, 20.7, 19.0, 9.195, 12.857645184136183, 6.425, 12.15, 17.0, 12.857645184136183, 12.857645184136183, 12.857645184136183, 9.0, 6.215, 7.475, 11.0, 19.7, 18.75, 11.6, 13.0, 7.285, 12.857645184136183, 18.6, 6.615, 10.1, 17.7, 10.5, 12.857645184136183, 12.3, 12.857645184136183, 18.85, 7.485, 14.3, 10.6, 12.857645184136183, 13.65, 12.857645184136183, 13.65, 6.445, 8.895, 16.7, 6.115, 11.3, 9.3, 7.725, 18.0, 17.0, 12.857645184136183, 12.8, 15.85, 6.59, 6.11, 12.857645184136183, 9.5, 17.6, 20.0, 13.15, 19.0, 8.1, 9.3, 12.857645184136183, 13.5, 7.725, 12.857645184136183, 5.485, 13.15, 7.26, 10.5, 19.5, 12.857645184136183, 12.857645184136183, 21.25, 12.857645184136183, 14.15, 19.7, 12.857645184136183, 13.8, 18.35, 11.3, 8.35, 12.65, 16.7, 5.365, 6.52, 14.0, 6.575, 15.35, 6.985, 10.8, 14.85, 12.857645184136183, 14.85, 9.395, 13.5, 18.0, 12.857645184136183, 20.0, 20.35, 8.785, 12.857645184136183, 7.1, 14.85, 11.3, 20.25, 12.857645184136183, 12.857645184136183, 5.48, 11.0, 14.1, 12.857645184136183, 6.61, 5.94, 7.975, 12.65, 11.15, 6.825, 8.18, 17.6, 15.75, 12.15, 9.3, 13.5, 9.695, 12.857645184136183, 20.5, 14.85, 13.0, 7.075, 17.85, 10.6, 9.695, 12.65, 5.945, 17.5, 7.39, 9.8, 11.8, 8.895, 11.8, 12.857645184136183, 17.25, 11.35, 19.25, 19.7, 14.0, 8.355, 15.1, 12.1, 8.185, 12.857645184136183, 15.5, 14.0, 18.0, 9.6, 12.857645184136183, 9.6, 12.857645184136183, 16.7, 9.3, 8.1, 19.1, 8.88, 6.825, 11.5, 7.075, 20.7, 7.895, 6.86, 9.6, 12.1, 11.1, 9.5, 21.0, 5.46, 12.857645184136183, 17.6, 20.35, 7.39, 12.857645184136183, 9.195, 17.1, 13.0, 15.5, 8.695, 12.857645184136183, 7.5, 7.485, 9.8, 11.395, 20.7, 16.2, 12.857645184136183, 13.15, 21.25, 13.15, 19.6, 12.6, 12.8, 7.285, 13.1, 8.63, 10.195, 16.85, 9.3, 15.85, 5.485, 18.25, 12.6, 12.857645184136183, 12.85, 6.13, 12.857645184136183, 5.655, 11.1, 11.6, 16.0, 12.15, 6.55, 9.6, 19.1, 14.0, 14.85, 4.92, 13.5, 15.7, 8.97, 15.35, 12.857645184136183, 12.857645184136183, 17.7, 6.36, 12.857645184136183, 12.857645184136183, 8.235, 12.35, 18.0, 20.0, 6.055, 6.63, 12.857645184136183, 8.3, 20.25, 8.6, 19.5, 5.095, 11.0, 18.25, 20.0, 12.857645184136183, 12.857645184136183, 7.5, 7.22, 12.0, 12.15, 11.6, 8.315, 12.15, 5.905, 8.575, 17.35, 18.6, 12.857645184136183, 15.1, 12.857645184136183, 7.825, 9.17, 20.7, 12.1, 13.65, 8.38, 19.75, 8.67, 15.6, 12.35, 17.7, 12.5, 20.2, 13.15, 12.857645184136183, 12.857645184136183, 10.85, 12.857645184136183, 17.7, 14.35, 20.0, 12.3, 10.3, 15.6, 9.8, 11.1, 12.857645184136183, 11.8, 7.72, 12.857645184136183, 19.6, 6.425, 20.85, 18.0, 7.05, 16.25, 20.7, 5.44, 20.5, 12.35, 12.857645184136183, 4.61, 8.275, 12.857645184136183, 8.27, 7.905, 16.2, 12.857645184136183, 13.6, 9.395, 7.35, 15.35, 14.5, 12.6, 10.8, 18.85, 12.15, 11.6, 15.3, 20.35, 14.5, 6.89, 14.6, 16.85, 8.93, 8.31, 19.0, 12.857645184136183, 12.857645184136183, 5.19, 17.0, 11.65, 20.25, 10.0, 12.857645184136183, 11.1, 11.8, 9.695, 13.65, 17.75, 11.3, 12.857645184136183, 19.35, 6.905, 13.5, 16.85, 20.6, 6.175, 18.5, 13.35, 12.857645184136183, 8.115, 15.85, 12.857645184136183, 16.35, 21.35, 12.15, 16.6, 11.6, 20.6, 12.857645184136183, 20.1, 13.65, 13.3, 12.857645184136183, 12.857645184136183, 16.35, 5.32, 15.0, 8.27, 12.857645184136183, 13.1, 12.5, 19.1, 11.3, 13.65, 12.857645184136183, 12.857645184136183, 18.85, 5.59, 18.6, 9.31, 6.17, 5.175, 12.857645184136183, 19.2, 12.85, 16.25, 6.13, 12.3, 12.857645184136183, 10.1, 11.15, 19.35, 17.25, 19.85, 9.5, 9.395, 4.59, 5.98, 6.46, 7.02, 8.52, 12.6, 5.94, 16.25, 10.695, 5.88, 9.3, 19.5, 5.82, 8.68, 15.7, 12.857645184136183, 12.8, 15.1, 7.31, 12.857645184136183, 12.35, 16.6, 14.35, 7.075, 18.25, 13.1, 7.68, 19.7, 8.52, 17.75, 12.857645184136183, 5.785, 5.945, 18.25, 8.68, 11.65, 19.25, 16.2, 13.0, 17.75, 12.15, 6.32, 17.25, 7.72, 18.85, 19.7, 14.5, 17.7, 15.7, 9.695, 11.8, 12.857645184136183, 12.857645184136183, 15.2, 8.77, 19.7, 10.5, 15.1, 5.405, 20.35, 12.857645184136183, 5.785, 11.8, 12.857645184136183, 12.5, 6.11, 7.105, 8.5, 16.7, 17.1, 8.325, 15.85, 12.857645184136183, 12.857645184136183, 12.15, 15.85, 17.1, 15.5, 14.15, 12.857645184136183, 6.865, 16.5, 14.5, 19.35, 8.51, 6.65, 7.39, 10.895, 8.63, 7.75, 12.15, 18.25, 19.85, 9.3, 12.857645184136183, 5.98, 12.857645184136183, 7.02, 7.72, 5.925, 9.695, 12.6, 15.6, 16.7, 18.0, 12.857645184136183, 20.85, 12.857645184136183, 18.7, 12.857645184136183, 18.85, 11.65, 16.5, 15.6, 12.3, 12.857645184136183, 10.65, 16.2, 10.5, 12.857645184136183, 7.55, 12.857645184136183, 13.35, 16.0, 12.857645184136183, 16.85, 8.185, 19.7, 10.8, 12.6, 16.7, 13.1, 14.85, 12.857645184136183, 13.0, 12.1, 11.3, 10.0, 20.6, 11.5, 11.8, 8.895, 9.3, 12.857645184136183, 19.1, 17.85, 6.445, 12.65, 13.15, 12.857645184136183, 15.0, 11.65, 20.1, 17.35, 18.1, 8.5, 14.1, 11.8, 6.035, 12.857645184136183, 12.5, 20.85, 14.0, 17.25, 11.5, 6.675, 5.8, 8.895, 7.67, 10.895, 8.21, 8.575, 7.75, 12.857645184136183, 12.857645184136183, 12.35, 17.7, 8.52, 18.2, 12.857645184136183, 16.0, 8.63, 10.8, 18.75, 5.78, 13.8, 17.75, 11.5, 11.8, 15.1, 12.857645184136183, 8.85, 12.6, 13.8, 6.115, 17.25, 12.857645184136183, 6.26, 13.5, 19.6, 12.857645184136183, 11.5, 14.65, 8.89, 8.02, 18.7, 7.405, 5.98, 12.857645184136183, 12.857645184136183, 15.2, 12.1, 12.857645184136183, 9.285, 12.857645184136183, 8.155, 9.3, 13.85, 16.7, 11.15, 16.7, 17.0, 7.365, 16.5, 13.8, 12.857645184136183, 18.7, 7.905, 13.65, 17.6, 15.5, 17.25, 6.89, 7.81, 20.2, 12.857645184136183, 10.3, 4.635, 6.465, 12.857645184136183, 6.61, 12.857645184136183, 9.1, 5.15, 12.857645184136183, 18.0, 10.1, 12.857645184136183, 12.857645184136183, 8.21, 7.81, 12.15, 19.35, 15.6, 7.365, 9.5, 12.857645184136183, 5.73, 15.1, 6.765, 14.85, 6.11, 20.1, 5.73, 12.857645184136183, 6.785, 8.645, 12.857645184136183, 15.6, 7.76, 9.195, 9.8, 18.25, 21.25, 7.235, 20.25, 12.857645184136183, 12.857645184136183, 18.0, 7.02, 15.1, 8.68, 21.2, 16.6, 12.15, 16.25, 11.5, 12.857645184136183, 13.15, 5.465, 14.15, 12.8, 8.655, 12.857645184136183, 9.3, 20.6, 12.857645184136183, 19.7, 14.5, 10.0, 7.945, 20.35, 15.85, 16.85, 11.5, 11.1, 6.635, 7.81, 9.395, 7.0, 6.71, 15.75, 19.85, 9.5, 15.6, 12.857645184136183, 13.35, 11.1, 15.0, 14.8, 19.1, 6.825, 12.857645184136183, 17.35, 9.8, 19.35, 18.6, 7.27, 12.6, 12.857645184136183, 12.65, 12.857645184136183, 17.5, 8.06, 12.1, 12.857645184136183, 17.2, 12.857645184136183, 5.94, 16.7, 7.39, 20.7, 12.857645184136183, 12.857645184136183, 18.2, 20.2, 12.857645184136183, 12.857645184136183, 17.75, 8.71, 18.85, 20.75, 12.5, 5.325, 12.857645184136183, 16.75, 16.0, 13.35, 11.8, 10.65, 12.1, 9.395, 19.6, 14.1, 12.857645184136183, 16.5, 14.3, 7.51, 17.25, 5.785, 13.65, 6.26, 12.857645184136183, 19.7, 19.7, 13.65, 20.1, 12.6, 20.85, 12.857645184136183, 15.6, 5.98, 12.857645184136183, 16.35, 14.15, 12.1, 9.895, 8.51, 17.0, 12.857645184136183, 9.0, 5.11, 19.5, 9.195, 16.7, 19.0, 12.3, 12.857645184136183, 14.15, 12.857645184136183, 10.395, 17.0, 15.85, 10.195, 12.857645184136183, 6.57, 8.43, 7.39, 16.0, 13.1, 12.857645184136183, 13.5, 20.6, 15.2, 12.857645184136183, 5.88, 6.03, 12.857645184136183, 18.85, 7.68, 15.35, 13.1, 10.1, 12.857645184136183, 12.65, 14.6, 11.1, 12.857645184136183, 8.63, 9.6, 19.6, 19.35, 14.0, 12.15, 8.195, 8.325, 7.475, 12.857645184136183, 6.385, 12.857645184136183, 18.5, 11.5, 7.93, 12.857645184136183, 13.65, 12.35, 14.0, 9.6, 14.0, 8.89, 16.85, 12.857645184136183, 7.05, 17.1, 12.857645184136183, 19.7, 16.1, 11.3, 6.035, 17.6, 6.675, 15.5, 9.395, 16.1, 15.0, 9.6, 14.1, 11.5, 12.1, 7.42, 15.1, 12.857645184136183, 9.285, 7.855, 12.857645184136183, 12.85, 13.8, 15.0, 10.8, 14.3, 9.8, 11.5, 9.21, 12.857645184136183, 10.0, 18.5, 20.6, 9.3, 11.395, 11.8, 8.01, 15.0, 13.35, 12.857645184136183, 12.857645184136183, 10.5, 21.25, 17.0, 9.3, 15.7, 15.75, 12.857645184136183, 14.5, 12.857645184136183, 12.857645184136183, 7.1, 14.5, 17.35, 18.0, 6.615, 12.857645184136183, 11.5, 19.1, 12.857645184136183, 7.05, 12.857645184136183, 16.35, 18.35, 9.105, 7.63, 12.857645184136183, 12.857645184136183, 7.55, 12.857645184136183, 5.5, 7.59, 9.5, 6.11, 5.655, 7.285, 10.65, 17.7, 12.8, 19.85, 15.7, 15.6, 9.8, 19.5, 16.2, 17.6, 13.6, 18.85, 15.1, 17.35, 12.857645184136183, 20.7, 13.5, 12.857645184136183, 12.857645184136183, 13.1, 12.15, 12.857645184136183, 12.857645184136183, 12.857645184136183, 12.857645184136183, 15.1, 16.7, 14.65, 13.3, 20.1, 14.3, 7.42, 12.857645184136183, 9.5, 7.075, 12.857645184136183, 7.96, 6.135, 14.6, 14.3, 12.857645184136183, 12.857645184136183, 8.315, 10.1, 9.895, 11.5, 18.25, 4.635, 18.5, 5.365, 6.095, 12.857645184136183, 16.75, 21.25, 12.857645184136183, 12.1, 15.1, 8.6, 17.6, 15.35, 8.26, 6.57, 11.6, 20.35, 12.15, 17.35, 7.0, 8.5, 12.857645184136183, 14.5, 9.195, 17.75, 8.775, 16.7, 15.2, 20.5, 12.857645184136183, 5.21, 10.3, 18.25, 21.25, 8.6, 10.3, 9.5, 9.3, 9.195, 7.68, 12.857645184136183, 12.1, 11.6, 9.695, 12.0, 19.0, 6.38, 20.5, 12.857645184136183, 5.695, 19.2, 20.35, 9.195, 17.85, 12.857645184136183, 14.6, 10.195, 17.85, 7.5, 6.59, 10.895, 12.857645184136183, 14.6, 12.857645184136183, 9.6, 12.857645184136183, 10.3, 17.0, 8.645, 16.0, 6.155, 13.85, 12.857645184136183, 13.1, 12.857645184136183, 11.8, 15.5, 14.15, 12.857645184136183, 12.857645184136183, 20.7, 15.2, 11.5, 21.25, 14.1, 9.395, 12.857645184136183, 7.895, 14.0, 5.365, 16.35, 15.75, 7.5, 14.8, 7.07, 20.5, 12.857645184136183, 18.0, 9.5, 15.0, 20.1, 11.0, 18.7, 12.857645184136183, 15.15, 14.1, 8.42, 12.857645184136183, 12.857645184136183, 8.27, 12.857645184136183, 8.615, 12.857645184136183, 9.8, 12.857645184136183, 12.857645184136183, 13.65, 6.385, 20.5, 16.85, 7.785, 12.857645184136183, 12.857645184136183, 10.8, 15.0, 5.175, 11.6, 6.775, 9.31, 15.0, 13.3, 16.0, 12.857645184136183, 6.48, 12.857645184136183, 12.857645184136183, 12.5, 8.39, 17.7, 12.5, 12.857645184136183, 15.6, 10.65, 12.35, 6.035, 6.155, 16.75, 16.75, 15.1, 21.25, 9.395, 17.6, 12.857645184136183, 13.15, 5.035, 12.857645184136183, 12.857645184136183, 12.857645184136183, 5.48, 19.35, 9.195, 5.26, 12.857645184136183, 6.235, 11.8, 20.7, 13.6, 5.82, 7.76, 18.35, 7.285, 15.1, 7.0, 12.857645184136183, 18.35, 13.8, 18.35, 12.857645184136183, 8.895, 12.857645184136183, 15.5, 14.5, 12.857645184136183, 8.26, 10.0, 9.0, 5.655, 18.6, 15.0, 20.5, 8.785, 8.77, 18.75, 19.85, 17.5, 14.6, 11.8, 11.65, 13.65, 12.857645184136183, 16.6, 18.0, 7.17, 10.3, 12.857645184136183, 12.857645184136183, 11.5, 7.855, 12.857645184136183, 17.35, 9.0, 12.857645184136183, 12.857645184136183, 10.195, 15.7, 15.7, 8.88, 15.2, 10.195, 6.67, 12.857645184136183, 12.857645184136183, 8.975, 13.8, 16.35, 6.11, 7.785, 12.857645184136183, 18.85, 12.857645184136183, 6.65, 7.5, 5.985, 6.78, 6.195, 18.6, 8.63, 11.8, 7.075, 8.395, 17.85, 12.35, 14.6, 12.857645184136183, 11.65, 20.7, 8.77, 20.25, 13.65, 17.7, 8.315, 12.857645184136183, 7.81, 11.1, 18.1, 8.88, 12.15, 9.5, 15.25, 12.857645184136183, 12.15, 16.35, 12.857645184136183, 12.85, 12.5, 7.905, 17.85, 7.21, 5.175, 12.857645184136183, 16.2, 14.0, 8.42, 9.3, 9.395, 17.85, 12.857645184136183, 6.13, 12.857645184136183, 20.1, 16.5, 5.615, 7.52, 12.857645184136183, 13.8, 17.6, 20.5, 11.8, 12.857645184136183, 20.25, 15.85, 17.7, 6.035, 12.857645184136183, 12.35, 14.65, 10.895, 15.75, 11.15, 8.985, 17.6, 12.857645184136183, 13.15, 9.195, 12.857645184136183, 19.6, 12.857645184136183, 20.2, 12.857645184136183, 7.75, 8.575, 20.2, 19.35, 7.365, 7.5, 8.3, 16.75, 10.695, 5.88, 12.6, 10.695, 17.85, 19.75, 7.97, 12.857645184136183, 15.7, 15.1, 6.63, 8.6, 12.857645184136183, 13.0, 5.98, 6.03, 13.8, 12.857645184136183, 12.857645184136183, 16.1, 20.1, 9.17, 10.895, 5.325, 12.85, 12.857645184136183, 15.35, 16.7, 13.3, 12.857645184136183, 6.67, 20.5, 15.1, 17.0, 8.42, 15.2, 17.0, 17.6, 18.0, 14.6, 5.8, 9.8, 12.857645184136183, 14.3, 11.1, 17.0, 18.6, 8.895, 12.857645184136183, 10.3, 19.25, 12.6, 15.3, 12.857645184136183, 12.857645184136183, 12.857645184136183, 18.6, 14.5, 13.5, 10.3, 12.857645184136183, 12.857645184136183, 7.155, 16.5, 5.59, 15.15, 13.1, 8.06, 10.195, 10.1, 6.235, 12.5, 11.35, 9.065, 11.65, 18.2, 6.115, 6.92, 7.035, 18.2, 10.5, 17.6, 12.857645184136183, 19.75, 16.5, 13.15, 7.89, 20.5, 16.25, 12.6, 12.857645184136183, 8.775, 7.42, 8.67, 8.77, 19.35, 16.25, 11.5, 11.1, 12.857645184136183, 5.59, 12.857645184136183, 6.55, 6.85, 21.25, 12.857645184136183, 12.8, 8.31, 12.1, 12.857645184136183, 20.25, 12.857645184136183, 12.857645184136183, 16.75, 7.075, 11.1, 6.63, 8.935, 7.935, 7.485, 9.5, 18.35, 6.365, 11.1, 11.395, 9.895, 7.68, 13.65, 15.75, 10.195, 10.895, 12.857645184136183, 17.7, 17.25, 18.6, 13.8, 11.1, 10.195, 5.88, 11.15, 12.857645184136183, 11.6, 12.857645184136183, 12.1, 12.857645184136183, 4.635, 8.51, 9.6, 17.25, 15.0, 16.75, 8.365, 12.857645184136183, 18.85, 6.615, 5.75, 10.0, 13.1, 10.1, 12.857645184136183, 11.65, 12.857645184136183, 9.3, 19.6, 11.35, 5.44, 14.65, 12.35, 12.85, 17.1, 11.6, 7.445, 12.857645184136183, 12.857645184136183, 6.135, 8.68, 18.5, 14.3, 12.857645184136183, 15.35, 17.7, 15.2, 9.8, 12.857645184136183, 15.25, 17.6, 7.55, 12.857645184136183, 19.7, 13.0, 12.857645184136183, 11.8, 20.35, 16.85, 7.63, 15.75, 18.2, 13.85, 10.895, 15.6, 11.3, 20.0, 19.35, 15.6, 12.857645184136183, 10.195, 12.857645184136183, 9.5, 12.857645184136183, 10.65, 12.857645184136183, 7.35, 15.7, 12.857645184136183, 15.85, 13.8, 9.195, 9.3, 15.1, 19.1, 11.6, 7.27, 19.35, 9.695, 20.2, 12.857645184136183, 10.5, 12.5, 12.857645184136183, 17.75, 9.0, 17.85, 12.857645184136183, 4.61, 8.75, 7.155, 12.857645184136183, 12.3, 7.93, 8.01, 9.8, 12.857645184136183, 5.0, 19.6, 16.5, 12.6, 14.1, 6.38, 20.25, 12.857645184136183, 12.3, 15.6, 15.0, 11.6, 12.857645184136183, 12.857645184136183, 17.85, 14.8, 7.905, 12.857645184136183, 12.857645184136183, 11.8, 14.0, 14.85, 7.39, 15.0, 12.857645184136183, 19.7, 10.8, 12.857645184136183, 12.857645184136183, 12.857645184136183, 12.857645184136183, 9.6, 10.695, 21.1, 12.857645184136183, 12.857645184136183, 6.135, 16.2, 15.7, 17.2, 12.15, 12.857645184136183, 8.63, 15.0, 12.857645184136183, 12.857645184136183, 8.975, 12.15, 6.895, 12.857645184136183, 8.325, 8.785, 12.857645184136183, 19.35, 17.5, 16.75, 8.895, 7.71, 12.857645184136183, 15.7, 16.7, 20.35, 12.5, 15.1, 14.0, 8.365, 10.695, 5.21, 13.65, 8.01, 5.88, 5.615, 19.7, 12.857645184136183, 18.25, 15.35, 12.857645184136183, 10.3, 13.65, 8.615, 5.8, 8.3, 16.0, 5.155, 8.895, 15.1, 15.5, 6.325, 12.857645184136183, 9.3, 12.857645184136183, 20.6, 15.5, 9.195, 5.695, 12.857645184136183, 5.94, 6.36, 12.857645184136183, 4.805, 14.85, 14.5, 10.3, 12.15, 11.5, 19.1, 12.857645184136183, 15.5, 7.31, 18.7, 7.0, 12.5, 9.395, 10.5, 5.785, 16.7, 5.845, 9.395, 5.94, 6.15, 20.35, 17.1, 12.857645184136183, 5.765, 12.65, 10.5, 18.25, 11.65, 19.2, 15.7, 10.3, 13.65, 16.6, 9.6, 11.85, 12.857645184136183, 8.6, 20.7, 11.8, 12.857645184136183, 12.6, 20.7, 15.85, 6.36, 9.3, 12.857645184136183, 20.7, 12.857645184136183, 18.85, 16.6, 12.5, 7.02, 12.85, 7.855, 19.35, 17.5, 17.75, 13.15, 5.365, 13.1, 7.075, 9.3, 12.3, 16.2, 18.85, 8.01, 12.857645184136183, 12.857645184136183, 17.35, 12.857645184136183, 14.65, 12.8, 12.857645184136183, 6.65, 6.675, 6.69, 12.857645184136183, 7.6, 7.51, 12.857645184136183, 12.857645184136183, 11.0, 12.857645184136183, 17.25, 12.857645184136183, 12.857645184136183, 6.36, 11.15, 12.857645184136183, 18.0, 7.825, 14.85, 12.857645184136183, 20.5, 10.395, 12.857645184136183, 13.3, 12.857645184136183, 19.35, 16.5, 5.63, 12.35, 9.8, 5.305, 18.5, 10.695, 6.525, 12.35, 7.935, 15.85, 5.615, 10.5, 12.857645184136183, 8.85, 13.1, 12.857645184136183, 15.1, 17.7, 14.65, 16.35, 19.85, 6.715, 20.85, 12.857645184136183, 17.1, 12.857645184136183, 17.85, 19.6, 12.857645184136183, 12.5, 15.85, 6.78, 19.6, 17.5, 20.75, 12.857645184136183, 9.3, 17.75, 17.0, 12.857645184136183, 4.555, 10.1, 20.7, 8.785, 17.75, 12.857645184136183, 5.465, 12.857645184136183, 12.857645184136183, 12.857645184136183, 17.75, 16.2, 20.35, 8.185, 20.5, 8.42, 10.0, 7.5, 12.857645184136183, 10.6, 20.6, 12.857645184136183, 16.2, 20.25, 12.15, 12.857645184136183, 8.21, 6.63, 6.935, 12.857645184136183, 15.0, 7.825, 10.695, 18.85, 12.1, 8.945, 8.975, 20.2, 6.76, 9.0, 20.2, 19.0, 15.1, 14.1, 20.2, 12.857645184136183, 12.857645184136183, 12.857645184136183, 12.857645184136183, 20.25, 14.85, 20.7, 5.15, 12.857645184136183, 12.6, 10.1, 15.25, 10.5, 12.857645184136183, 14.65, 6.885, 7.285, 11.1, 12.857645184136183, 10.5, 12.857645184136183, 20.75, 12.857645184136183, 11.85, 14.0, 20.2, 19.0, 16.0, 12.857645184136183, 20.85, 19.0, 13.0, 10.0, 17.5, 12.857645184136183, 19.5, 16.1, 8.6, 12.857645184136183, 20.25, 9.6, 11.1, 13.0, 12.857645184136183, 20.7, 5.78, 5.325, 7.5, 11.6, 12.857645184136183, 6.44, 12.5, 7.825, 6.865, 7.5, 9.8, 19.0, 8.27, 17.85, 11.8, 20.6, 20.7, 15.25, 12.35, 12.5, 15.2, 18.25, 6.71, 12.857645184136183, 12.857645184136183, 12.857645184136183, 12.35, 6.42, 14.65, 13.65, 20.2, 12.5, 12.857645184136183, 5.48, 12.857645184136183, 12.1, 16.7, 16.85, 7.365, 9.195, 14.3, 5.32, 12.857645184136183, 13.65, 12.6, 12.857645184136183, 10.6, 12.857645184136183, 8.6, 19.85, 9.3, 12.857645184136183, 7.76, 10.895, 10.8, 12.857645184136183, 9.195, 19.6, 15.7, 18.85, 14.7, 15.0, 21.1, 17.0, 16.7, 8.6, 6.76, 8.77, 12.857645184136183, 5.845, 16.7, 11.65, 12.857645184136183, 14.3, 12.857645184136183, 8.355, 13.15, 19.25, 5.035, 15.85, 15.35, 12.5, 18.35, 12.857645184136183, 20.5, 13.85, 4.59, 10.0, 12.35, 12.857645184136183, 20.0, 13.8, 9.5, 5.425, 16.75, 19.2, 10.5, 12.85, 12.857645184136183, 6.36, 12.857645184136183, 14.5, 7.02, 7.42, 17.25, 18.75, 20.25, 12.65, 12.5, 12.8, 6.655, 10.3, 14.6, 9.195, 13.65, 7.935, 20.75, 15.1, 12.857645184136183, 10.1, 12.857645184136183, 16.75, 9.13, 8.235, 16.85, 12.857645184136183, 17.35, 12.857645184136183, 14.5, 14.5, 9.395, 7.905, 12.857645184136183, 12.857645184136183, 8.5, 8.3, 7.975, 13.5, 12.857645184136183, 5.785, 9.5, 16.75, 12.857645184136183, 17.6, 18.2, 11.6, 6.865, 7.275, 18.2, 13.5, 9.0, 19.1, 17.85, 10.3, 6.38, 12.857645184136183, 15.0, 15.1, 16.2, 5.945, 11.8, 19.7, 12.857645184136183, 19.0, 12.3, 12.3, 8.1, 15.85, 14.85, 19.0, 5.485, 19.0, 16.1, 6.135, 11.6, 16.2, 15.6, 10.395, 14.5, 15.25, 10.1, 12.1, 12.857645184136183, 8.3, 7.315, 15.6, 12.857645184136183, 16.2, 12.857645184136183, 17.5, 18.25, 12.857645184136183, 12.857645184136183, 12.1, 16.25, 7.785, 10.1, 12.35, 15.7, 20.35, 12.857645184136183, 12.857645184136183, 12.1, 20.35, 18.1, 12.6, 7.5, 20.5, 16.75, 17.85, 13.5, 12.85, 12.35, 10.1, 11.0, 14.15, 20.6, 5.765, 8.01, 10.8, 15.7, 8.6, 12.857645184136183, 6.36, 5.32, 12.857645184136183, 12.857645184136183, 12.857645184136183, 7.435, 6.615, 11.3, 10.895, 11.5, 12.857645184136183, 7.55, 20.5, 5.325, 6.675, 16.5, 10.195, 19.2, 15.7, 18.7, 13.65, 12.857645184136183, 6.11, 6.85, 12.857645184136183, 7.475, 9.0, 15.1, 11.35, 15.0, 6.44, 6.445, 14.8, 12.857645184136183, 8.18, 15.2, 12.857645184136183, 8.76, 18.1, 12.857645184136183, 5.305, 12.85, 12.857645184136183, 12.857645184136183, 12.857645184136183, 15.0, 9.3, 19.25, 19.35, 11.35, 18.7, 6.055, 8.395, 12.857645184136183, 12.857645184136183, 9.195, 21.1, 20.35, 11.0, 10.1, 12.857645184136183, 8.93, 9.0, 20.25, 5.765, 19.2, 9.195, 8.655, 11.5, 12.857645184136183, 17.6, 19.35, 17.85, 12.857645184136183, 19.35, 13.0, 13.65, 12.857645184136183, 17.0, 15.25, 12.857645184136183, 15.5, 7.145, 7.235, 10.5, 12.857645184136183, 16.25, 10.0, 19.75, 8.42, 13.1, 9.6, 9.395, 10.895, 12.857645184136183, 18.85, 9.195, 19.1, 5.03, 17.6, 21.25, 13.85, 6.98, 7.725, 14.7, 17.6, 15.85, 18.6, 16.7, 10.195, 6.965, 19.2, 6.78, 6.785, 19.1, 12.857645184136183, 15.6, 16.35, 13.65, 7.155, 10.8, 13.5, 9.195, 6.825, 16.2, 20.85, 7.785, 9.8, 12.857645184136183, 12.857645184136183, 12.857645184136183, 10.5, 8.88, 16.0, 16.2, 11.15, 16.2, 14.35, 7.72, 10.695, 13.35, 16.1, 12.857645184136183, 13.6, 20.6, 11.65, 9.285, 10.3, 7.22, 20.85, 12.857645184136183, 8.84, 12.857645184136183, 12.857645184136183, 16.35, 8.575, 20.5, 9.695, 8.38, 17.75, 13.5, 12.857645184136183, 14.3, 8.3, 6.055, 20.7, 15.85, 12.857645184136183, 12.3, 19.1, 8.27, 12.857645184136183, 9.1, 17.2, 13.15, 15.7, 18.35, 16.5, 12.1, 7.51, 12.857645184136183, 12.5, 8.06, 6.055, 12.857645184136183, 14.3, 20.2, 18.6, 6.69, 19.35, 17.75, 16.1, 12.5, 5.785, 14.8, 7.75, 18.6, 6.965, 16.7, 12.857645184136183, 13.35, 21.1, 12.3, 7.97, 14.15, 9.8, 12.857645184136183, 19.85, 12.857645184136183, 8.21, 20.25, 15.0, 15.6, 13.15, 10.6, 11.1, 12.857645184136183, 15.25, 19.25, 7.39, 10.3, 17.5, 12.857645184136183, 10.3, 12.857645184136183, 7.85, 10.0, 7.22, 12.857645184136183, 10.0, 12.857645184136183, 5.175, 12.857645184136183, 11.6, 18.0, 12.857645184136183, 16.75, 12.857645184136183, 13.65, 11.5, 17.75, 12.857645184136183, 8.43, 9.0, 7.52, 13.65, 12.857645184136183, 12.65, 17.35, 11.0, 8.27, 12.857645184136183, 12.857645184136183, 5.175, 12.857645184136183, 9.895, 10.65, 15.2, 11.3, 15.1, 6.215, 8.235, 12.857645184136183, 10.1, 11.6, 6.92, 16.7, 5.485, 13.6, 12.857645184136183, 10.3, 6.765, 10.5, 12.5, 17.35, 8.85, 16.7, 8.85, 13.15, 8.18, 12.5, 6.865, 12.0, 12.857645184136183, 12.857645184136183, 5.885, 16.5, 7.52, 10.895, 7.935, 7.6, 11.0, 13.15, 10.195, 16.85, 8.195, 11.8, 14.6, 19.2, 12.15, 10.895, 12.857645184136183, 7.42, 7.405, 7.315, 7.435, 12.65, 8.365, 19.75, 19.5, 19.7, 14.0, 11.8, 12.65, 12.857645184136183, 12.85, 13.65, 9.3, 7.72, 11.15, 16.5, 12.857645184136183, 17.2, 12.857645184136183, 19.6, 17.25, 20.35, 14.3, 12.857645184136183, 7.905, 7.905, 21.25, 10.5, 12.857645184136183, 18.0, 7.725, 5.8, 12.857645184136183, 10.85, 19.35, 13.15, 5.785, 12.857645184136183, 10.195, 16.0, 10.695, 9.8, 7.72, 12.857645184136183, 5.86, 5.4, 12.857645184136183, 14.7, 19.75, 18.6, 12.5, 13.1, 6.195, 8.395, 12.857645184136183, 16.0, 20.0, 8.26, 6.865, 12.857645184136183, 20.0, 12.857645184136183, 12.857645184136183, 17.35, 12.857645184136183, 10.395, 9.3, 7.42, 15.2, 9.695, 7.42, 13.65, 15.35, 11.6, 20.35, 5.34, 8.42, 20.5, 12.857645184136183, 10.5, 17.25, 5.88, 11.35, 8.1, 13.8, 17.5, 20.7, 12.0, 15.0, 20.7, 18.6, 20.75, 6.865, 8.38, 10.6, 7.21, 14.8], \"xaxis\": \"x2\", \"yaxis\": \"y2\"}],\n",
              "                        {\"bargap\": 0.1, \"barmode\": \"relative\", \"legend\": {\"tracegroupgap\": 0}, \"template\": {\"data\": {\"bar\": [{\"error_x\": {\"color\": \"#2a3f5f\"}, \"error_y\": {\"color\": \"#2a3f5f\"}, \"marker\": {\"line\": {\"color\": \"#E5ECF6\", \"width\": 0.5}}, \"type\": \"bar\"}], \"barpolar\": [{\"marker\": {\"line\": {\"color\": \"#E5ECF6\", \"width\": 0.5}}, \"type\": \"barpolar\"}], \"carpet\": [{\"aaxis\": {\"endlinecolor\": \"#2a3f5f\", \"gridcolor\": \"white\", \"linecolor\": \"white\", \"minorgridcolor\": \"white\", \"startlinecolor\": \"#2a3f5f\"}, \"baxis\": {\"endlinecolor\": \"#2a3f5f\", \"gridcolor\": \"white\", \"linecolor\": \"white\", \"minorgridcolor\": \"white\", \"startlinecolor\": \"#2a3f5f\"}, \"type\": \"carpet\"}], \"choropleth\": [{\"colorbar\": {\"outlinewidth\": 0, \"ticks\": \"\"}, \"type\": \"choropleth\"}], \"contour\": [{\"colorbar\": {\"outlinewidth\": 0, \"ticks\": \"\"}, \"colorscale\": [[0.0, \"#0d0887\"], [0.1111111111111111, \"#46039f\"], [0.2222222222222222, \"#7201a8\"], [0.3333333333333333, \"#9c179e\"], [0.4444444444444444, \"#bd3786\"], [0.5555555555555556, \"#d8576b\"], [0.6666666666666666, \"#ed7953\"], [0.7777777777777778, \"#fb9f3a\"], [0.8888888888888888, \"#fdca26\"], [1.0, \"#f0f921\"]], \"type\": \"contour\"}], \"contourcarpet\": [{\"colorbar\": {\"outlinewidth\": 0, \"ticks\": \"\"}, \"type\": \"contourcarpet\"}], \"heatmap\": [{\"colorbar\": {\"outlinewidth\": 0, \"ticks\": \"\"}, \"colorscale\": [[0.0, \"#0d0887\"], [0.1111111111111111, \"#46039f\"], [0.2222222222222222, \"#7201a8\"], [0.3333333333333333, \"#9c179e\"], [0.4444444444444444, \"#bd3786\"], [0.5555555555555556, \"#d8576b\"], [0.6666666666666666, \"#ed7953\"], [0.7777777777777778, \"#fb9f3a\"], [0.8888888888888888, \"#fdca26\"], [1.0, \"#f0f921\"]], \"type\": \"heatmap\"}], \"heatmapgl\": [{\"colorbar\": {\"outlinewidth\": 0, \"ticks\": \"\"}, \"colorscale\": [[0.0, \"#0d0887\"], [0.1111111111111111, \"#46039f\"], [0.2222222222222222, \"#7201a8\"], [0.3333333333333333, \"#9c179e\"], [0.4444444444444444, \"#bd3786\"], [0.5555555555555556, \"#d8576b\"], [0.6666666666666666, \"#ed7953\"], [0.7777777777777778, \"#fb9f3a\"], [0.8888888888888888, \"#fdca26\"], [1.0, \"#f0f921\"]], \"type\": \"heatmapgl\"}], \"histogram\": [{\"marker\": {\"colorbar\": {\"outlinewidth\": 0, \"ticks\": \"\"}}, \"type\": \"histogram\"}], \"histogram2d\": [{\"colorbar\": {\"outlinewidth\": 0, \"ticks\": \"\"}, \"colorscale\": [[0.0, \"#0d0887\"], [0.1111111111111111, \"#46039f\"], [0.2222222222222222, \"#7201a8\"], [0.3333333333333333, \"#9c179e\"], [0.4444444444444444, \"#bd3786\"], [0.5555555555555556, \"#d8576b\"], [0.6666666666666666, \"#ed7953\"], [0.7777777777777778, \"#fb9f3a\"], [0.8888888888888888, \"#fdca26\"], [1.0, \"#f0f921\"]], \"type\": \"histogram2d\"}], \"histogram2dcontour\": [{\"colorbar\": {\"outlinewidth\": 0, \"ticks\": \"\"}, \"colorscale\": [[0.0, \"#0d0887\"], [0.1111111111111111, \"#46039f\"], [0.2222222222222222, \"#7201a8\"], [0.3333333333333333, \"#9c179e\"], [0.4444444444444444, \"#bd3786\"], [0.5555555555555556, \"#d8576b\"], [0.6666666666666666, \"#ed7953\"], [0.7777777777777778, \"#fb9f3a\"], [0.8888888888888888, \"#fdca26\"], [1.0, \"#f0f921\"]], \"type\": \"histogram2dcontour\"}], \"mesh3d\": [{\"colorbar\": {\"outlinewidth\": 0, \"ticks\": \"\"}, \"type\": \"mesh3d\"}], \"parcoords\": [{\"line\": {\"colorbar\": {\"outlinewidth\": 0, \"ticks\": \"\"}}, \"type\": \"parcoords\"}], \"pie\": [{\"automargin\": true, \"type\": \"pie\"}], \"scatter\": [{\"marker\": {\"colorbar\": {\"outlinewidth\": 0, \"ticks\": \"\"}}, \"type\": \"scatter\"}], \"scatter3d\": [{\"line\": {\"colorbar\": {\"outlinewidth\": 0, \"ticks\": \"\"}}, \"marker\": {\"colorbar\": {\"outlinewidth\": 0, \"ticks\": \"\"}}, \"type\": \"scatter3d\"}], \"scattercarpet\": [{\"marker\": {\"colorbar\": {\"outlinewidth\": 0, \"ticks\": \"\"}}, \"type\": \"scattercarpet\"}], \"scattergeo\": [{\"marker\": {\"colorbar\": {\"outlinewidth\": 0, \"ticks\": \"\"}}, \"type\": \"scattergeo\"}], \"scattergl\": [{\"marker\": {\"colorbar\": {\"outlinewidth\": 0, \"ticks\": \"\"}}, \"type\": \"scattergl\"}], \"scattermapbox\": [{\"marker\": {\"colorbar\": {\"outlinewidth\": 0, \"ticks\": \"\"}}, \"type\": \"scattermapbox\"}], \"scatterpolar\": [{\"marker\": {\"colorbar\": {\"outlinewidth\": 0, \"ticks\": \"\"}}, \"type\": \"scatterpolar\"}], \"scatterpolargl\": [{\"marker\": {\"colorbar\": {\"outlinewidth\": 0, \"ticks\": \"\"}}, \"type\": \"scatterpolargl\"}], \"scatterternary\": [{\"marker\": {\"colorbar\": {\"outlinewidth\": 0, \"ticks\": \"\"}}, \"type\": \"scatterternary\"}], \"surface\": [{\"colorbar\": {\"outlinewidth\": 0, \"ticks\": \"\"}, \"colorscale\": [[0.0, \"#0d0887\"], [0.1111111111111111, \"#46039f\"], [0.2222222222222222, \"#7201a8\"], [0.3333333333333333, \"#9c179e\"], [0.4444444444444444, \"#bd3786\"], [0.5555555555555556, \"#d8576b\"], [0.6666666666666666, \"#ed7953\"], [0.7777777777777778, \"#fb9f3a\"], [0.8888888888888888, \"#fdca26\"], [1.0, \"#f0f921\"]], \"type\": \"surface\"}], \"table\": [{\"cells\": {\"fill\": {\"color\": \"#EBF0F8\"}, \"line\": {\"color\": \"white\"}}, \"header\": {\"fill\": {\"color\": \"#C8D4E3\"}, \"line\": {\"color\": \"white\"}}, \"type\": \"table\"}]}, \"layout\": {\"annotationdefaults\": {\"arrowcolor\": \"#2a3f5f\", \"arrowhead\": 0, \"arrowwidth\": 1}, \"coloraxis\": {\"colorbar\": {\"outlinewidth\": 0, \"ticks\": \"\"}}, \"colorscale\": {\"diverging\": [[0, \"#8e0152\"], [0.1, \"#c51b7d\"], [0.2, \"#de77ae\"], [0.3, \"#f1b6da\"], [0.4, \"#fde0ef\"], [0.5, \"#f7f7f7\"], [0.6, \"#e6f5d0\"], [0.7, \"#b8e186\"], [0.8, \"#7fbc41\"], [0.9, \"#4d9221\"], [1, \"#276419\"]], \"sequential\": [[0.0, \"#0d0887\"], [0.1111111111111111, \"#46039f\"], [0.2222222222222222, \"#7201a8\"], [0.3333333333333333, \"#9c179e\"], [0.4444444444444444, \"#bd3786\"], [0.5555555555555556, \"#d8576b\"], [0.6666666666666666, \"#ed7953\"], [0.7777777777777778, \"#fb9f3a\"], [0.8888888888888888, \"#fdca26\"], [1.0, \"#f0f921\"]], \"sequentialminus\": [[0.0, \"#0d0887\"], [0.1111111111111111, \"#46039f\"], [0.2222222222222222, \"#7201a8\"], [0.3333333333333333, \"#9c179e\"], [0.4444444444444444, \"#bd3786\"], [0.5555555555555556, \"#d8576b\"], [0.6666666666666666, \"#ed7953\"], [0.7777777777777778, \"#fb9f3a\"], [0.8888888888888888, \"#fdca26\"], [1.0, \"#f0f921\"]]}, \"colorway\": [\"#636efa\", \"#EF553B\", \"#00cc96\", \"#ab63fa\", \"#FFA15A\", \"#19d3f3\", \"#FF6692\", \"#B6E880\", \"#FF97FF\", \"#FECB52\"], \"font\": {\"color\": \"#2a3f5f\"}, \"geo\": {\"bgcolor\": \"white\", \"lakecolor\": \"white\", \"landcolor\": \"#E5ECF6\", \"showlakes\": true, \"showland\": true, \"subunitcolor\": \"white\"}, \"hoverlabel\": {\"align\": \"left\"}, \"hovermode\": \"closest\", \"mapbox\": {\"style\": \"light\"}, \"paper_bgcolor\": \"white\", \"plot_bgcolor\": \"#E5ECF6\", \"polar\": {\"angularaxis\": {\"gridcolor\": \"white\", \"linecolor\": \"white\", \"ticks\": \"\"}, \"bgcolor\": \"#E5ECF6\", \"radialaxis\": {\"gridcolor\": \"white\", \"linecolor\": \"white\", \"ticks\": \"\"}}, \"scene\": {\"xaxis\": {\"backgroundcolor\": \"#E5ECF6\", \"gridcolor\": \"white\", \"gridwidth\": 2, \"linecolor\": \"white\", \"showbackground\": true, \"ticks\": \"\", \"zerolinecolor\": \"white\"}, \"yaxis\": {\"backgroundcolor\": \"#E5ECF6\", \"gridcolor\": \"white\", \"gridwidth\": 2, \"linecolor\": \"white\", \"showbackground\": true, \"ticks\": \"\", \"zerolinecolor\": \"white\"}, \"zaxis\": {\"backgroundcolor\": \"#E5ECF6\", \"gridcolor\": \"white\", \"gridwidth\": 2, \"linecolor\": \"white\", \"showbackground\": true, \"ticks\": \"\", \"zerolinecolor\": \"white\"}}, \"shapedefaults\": {\"line\": {\"color\": \"#2a3f5f\"}}, \"ternary\": {\"aaxis\": {\"gridcolor\": \"white\", \"linecolor\": \"white\", \"ticks\": \"\"}, \"baxis\": {\"gridcolor\": \"white\", \"linecolor\": \"white\", \"ticks\": \"\"}, \"bgcolor\": \"#E5ECF6\", \"caxis\": {\"gridcolor\": \"white\", \"linecolor\": \"white\", \"ticks\": \"\"}}, \"title\": {\"x\": 0.05}, \"xaxis\": {\"automargin\": true, \"gridcolor\": \"white\", \"linecolor\": \"white\", \"ticks\": \"\", \"title\": {\"standoff\": 15}, \"zerolinecolor\": \"white\", \"zerolinewidth\": 2}, \"yaxis\": {\"automargin\": true, \"gridcolor\": \"white\", \"linecolor\": \"white\", \"ticks\": \"\", \"title\": {\"standoff\": 15}, \"zerolinecolor\": \"white\", \"zerolinewidth\": 2}}}, \"title\": {\"text\": \"Distribuci\\u00f3n de Item_Weightdespues del reemplazo\"}, \"xaxis\": {\"anchor\": \"y\", \"domain\": [0.0, 1.0], \"title\": {\"text\": \"Item_Weight\"}}, \"xaxis2\": {\"anchor\": \"y2\", \"domain\": [0.0, 1.0], \"matches\": \"x\", \"showgrid\": true, \"showticklabels\": false}, \"yaxis\": {\"anchor\": \"x\", \"domain\": [0.0, 0.8316], \"title\": {\"text\": \"count\"}}, \"yaxis2\": {\"anchor\": \"x2\", \"domain\": [0.8416, 1.0], \"matches\": \"y2\", \"showgrid\": false, \"showline\": false, \"showticklabels\": false, \"ticks\": \"\"}},\n",
              "                        {\"responsive\": true}\n",
              "                    ).then(function(){\n",
              "                            \n",
              "var gd = document.getElementById('e3d56f65-42cc-41f2-b575-cb5d0d90be96');\n",
              "var x = new MutationObserver(function (mutations, observer) {{\n",
              "        var display = window.getComputedStyle(gd).display;\n",
              "        if (!display || display === 'none') {{\n",
              "            console.log([gd, 'removed!']);\n",
              "            Plotly.purge(gd);\n",
              "            observer.disconnect();\n",
              "        }}\n",
              "}});\n",
              "\n",
              "// Listen for the removal of the full notebook cells\n",
              "var notebookContainer = gd.closest('#notebook-container');\n",
              "if (notebookContainer) {{\n",
              "    x.observe(notebookContainer, {childList: true});\n",
              "}}\n",
              "\n",
              "// Listen for the clearing of the current output cell\n",
              "var outputEl = gd.closest('.output');\n",
              "if (outputEl) {{\n",
              "    x.observe(outputEl, {childList: true});\n",
              "}}\n",
              "\n",
              "                        })\n",
              "                };\n",
              "                \n",
              "            </script>\n",
              "        </div>\n",
              "</body>\n",
              "</html>"
            ]
          },
          "metadata": {}
        }
      ]
    },
    {
      "cell_type": "markdown",
      "metadata": {
        "id": "SM4AygWAbSpL"
      },
      "source": [
        "##Agrupar valores categóricos con mismo significado\n",
        "Como notamos la columna **'Item_Fat_Content'** define 'Low Fat' con dos formas de escritura entonces unificamos reemplazando el LF que es el acrónimo, mismo caso para 'Regular'.\n",
        "\n",
        "**Paso 1:** Contar los valores por categoría para demostrar el problema en el dataset por medio de la función **value_counts()**.\n",
        "\n",
        "**Paso 2:** Aplicar el reemplazo en la columna con la función **replace()**.\n",
        "\n",
        "**Paso 3:** Verificar que haya quedado el cambio aplicado según lo esperado."
      ]
    },
    {
      "cell_type": "code",
      "metadata": {
        "colab": {
          "base_uri": "https://localhost:8080/",
          "height": 970
        },
        "id": "xc551wsKbhBM",
        "outputId": "d44e475a-358e-4d22-d840-fe1032e51868"
      },
      "source": [
        "print(\"ANTES DE UNIFICAR:\\n\", df['Item_Fat_Content'].value_counts())\n",
        "sns.catplot(x='Item_Fat_Content', kind='count', data=df)\n",
        "\n",
        "dataset.replace({'Item_Fat_Content':{'low fat':'Low Fat','LF':'Low Fat','reg':'Regular'}},inplace=True)\n",
        "print(\"\\n\\nDESPUES DE UNIFICAR:\\n\", dataset['Item_Fat_Content'].value_counts())\n",
        "sns.catplot(x='Item_Fat_Content', kind='count', data=dataset)"
      ],
      "execution_count": null,
      "outputs": [
        {
          "output_type": "stream",
          "name": "stdout",
          "text": [
            "ANTES DE UNIFICAR:\n",
            " Low Fat    8485\n",
            "Regular    4824\n",
            "LF          522\n",
            "reg         195\n",
            "low fat     178\n",
            "Name: Item_Fat_Content, dtype: int64\n",
            "\n",
            "\n",
            "DESPUES DE UNIFICAR:\n",
            " Low Fat    5517\n",
            "Regular    3006\n",
            "Name: Item_Fat_Content, dtype: int64\n"
          ]
        },
        {
          "output_type": "execute_result",
          "data": {
            "text/plain": [
              "<seaborn.axisgrid.FacetGrid at 0x7f36504dce90>"
            ]
          },
          "metadata": {},
          "execution_count": 25
        },
        {
          "output_type": "display_data",
          "data": {
            "image/png": "[encoded data removed]",
            "text/plain": [
              "<Figure size 360x360 with 1 Axes>"
            ]
          },
          "metadata": {
            "needs_background": "light"
          }
        },
        {
          "output_type": "display_data",
          "data": {
            "image/png": "[encoded data removed]",
            "text/plain": [
              "<Figure size 360x360 with 1 Axes>"
            ]
          },
          "metadata": {
            "needs_background": "light"
          }
        }
      ]
    },
    {
      "cell_type": "markdown",
      "metadata": {
        "id": "FiZmWQPChmzx"
      },
      "source": [
        "# Exploración de los datos\n",
        "\n",
        "\n",
        "1. Item Fat Content\n",
        "\n"
      ]
    },
    {
      "cell_type": "code",
      "metadata": {
        "colab": {
          "base_uri": "https://localhost:8080/",
          "height": 352
        },
        "id": "F3qmb3Mvhw7i",
        "outputId": "2d6358a4-884a-42ed-988d-c878eb0fca49"
      },
      "source": [
        "plt.figure(figsize=(8,5))\n",
        "sns.countplot('Item_Fat_Content', data=dataset)"
      ],
      "execution_count": null,
      "outputs": [
        {
          "output_type": "execute_result",
          "data": {
            "text/plain": [
              "<matplotlib.axes._subplots.AxesSubplot at 0x7f3646248a90>"
            ]
          },
          "metadata": {},
          "execution_count": 26
        },
        {
          "output_type": "display_data",
          "data": {
            "image/png": "[encoded data removed]",
            "text/plain": [
              "<Figure size 576x360 with 1 Axes>"
            ]
          },
          "metadata": {
            "needs_background": "light"
          }
        }
      ]
    },
    {
      "cell_type": "markdown",
      "metadata": {
        "id": "VHAkkatMh7f8"
      },
      "source": [
        "2. Item Type"
      ]
    },
    {
      "cell_type": "code",
      "metadata": {
        "colab": {
          "base_uri": "https://localhost:8080/",
          "height": 515
        },
        "id": "gv2Ik1QTh9DI",
        "outputId": "4d5c2278-9219-4506-d3a4-16c40d454e93"
      },
      "source": [
        "plt.figure(figsize=(24,8))\n",
        "sns.countplot('Item_Type', data=dataset)"
      ],
      "execution_count": null,
      "outputs": [
        {
          "output_type": "execute_result",
          "data": {
            "text/plain": [
              "<matplotlib.axes._subplots.AxesSubplot at 0x7f364636de50>"
            ]
          },
          "metadata": {},
          "execution_count": 27
        },
        {
          "output_type": "display_data",
          "data": {
            "image/png": "[encoded data removed]",
            "text/plain": [
              "<Figure size 1728x576 with 1 Axes>"
            ]
          },
          "metadata": {
            "needs_background": "light"
          }
        }
      ]
    },
    {
      "cell_type": "markdown",
      "metadata": {
        "id": "lQ0fOWIoiHPc"
      },
      "source": [
        "3. Outlet Size"
      ]
    },
    {
      "cell_type": "code",
      "metadata": {
        "colab": {
          "base_uri": "https://localhost:8080/",
          "height": 352
        },
        "id": "r0KqcV2jiIQs",
        "outputId": "2cc46ed9-045f-4dd2-fa13-84aa4bb3c843"
      },
      "source": [
        "plt.figure(figsize=(8,5))\n",
        "sns.countplot('Outlet_Size', data=dataset)"
      ],
      "execution_count": null,
      "outputs": [
        {
          "output_type": "execute_result",
          "data": {
            "text/plain": [
              "<matplotlib.axes._subplots.AxesSubplot at 0x7f3646287a10>"
            ]
          },
          "metadata": {},
          "execution_count": 28
        },
        {
          "output_type": "display_data",
          "data": {
            "image/png": "[encoded data removed]",
            "text/plain": [
              "<Figure size 576x360 with 1 Axes>"
            ]
          },
          "metadata": {
            "needs_background": "light"
          }
        }
      ]
    },
    {
      "cell_type": "markdown",
      "metadata": {
        "id": "LPX38o4GiNdZ"
      },
      "source": [
        "4. Outlet Location"
      ]
    },
    {
      "cell_type": "code",
      "metadata": {
        "colab": {
          "base_uri": "https://localhost:8080/",
          "height": 354
        },
        "id": "Zxp-MaV5iQ3s",
        "outputId": "97a9129b-bd77-4190-f058-4358eef74e9b"
      },
      "source": [
        "plt.figure(figsize=(8,5))\n",
        "sns.countplot('Outlet_Location_Type', data=dataset)"
      ],
      "execution_count": null,
      "outputs": [
        {
          "output_type": "execute_result",
          "data": {
            "text/plain": [
              "<matplotlib.axes._subplots.AxesSubplot at 0x7f3646271250>"
            ]
          },
          "metadata": {},
          "execution_count": 29
        },
        {
          "output_type": "display_data",
          "data": {
            "image/png": "[encoded data removed]",
            "text/plain": [
              "<Figure size 576x360 with 1 Axes>"
            ]
          },
          "metadata": {
            "needs_background": "light"
          }
        }
      ]
    },
    {
      "cell_type": "markdown",
      "metadata": {
        "id": "G3P3cNQoiXk_"
      },
      "source": [
        "5. Outlet Type"
      ]
    },
    {
      "cell_type": "code",
      "metadata": {
        "colab": {
          "base_uri": "https://localhost:8080/",
          "height": 352
        },
        "id": "3OiwMtEkiZkd",
        "outputId": "04ac90c5-9970-4927-dda7-eda27a235a5f"
      },
      "source": [
        "plt.figure(figsize=(8,5))\n",
        "sns.countplot('Outlet_Type', data=dataset)"
      ],
      "execution_count": null,
      "outputs": [
        {
          "output_type": "execute_result",
          "data": {
            "text/plain": [
              "<matplotlib.axes._subplots.AxesSubplot at 0x7f3645d172d0>"
            ]
          },
          "metadata": {},
          "execution_count": 30
        },
        {
          "output_type": "display_data",
          "data": {
            "image/png": "[encoded data removed]",
            "text/plain": [
              "<Figure size 576x360 with 1 Axes>"
            ]
          },
          "metadata": {
            "needs_background": "light"
          }
        }
      ]
    },
    {
      "cell_type": "markdown",
      "metadata": {
        "id": "rMjKp06xinGO"
      },
      "source": [
        "Matriz de correlación"
      ]
    },
    {
      "cell_type": "code",
      "metadata": {
        "colab": {
          "base_uri": "https://localhost:8080/",
          "height": 664
        },
        "id": "CLo_vgORipHh",
        "outputId": "b377cc72-46b0-4e18-f689-fe3c8e16648d"
      },
      "source": [
        "plt.figure(figsize=(9, 9))\n",
        "ax = sns.heatmap(data=dataset.corr(), cmap='coolwarm', annot=True, linewidths=2)"
      ],
      "execution_count": null,
      "outputs": [
        {
          "output_type": "display_data",
          "data": {
            "image/png": "[encoded data removed]",
            "text/plain": [
              "<Figure size 648x648 with 2 Axes>"
            ]
          },
          "metadata": {
            "needs_background": "light"
          }
        }
      ]
    },
    {
      "cell_type": "markdown",
      "metadata": {
        "id": "TpBYnx2medVm"
      },
      "source": [
        "#Métodos supervisados - Regresión\n",
        "El aprendizaje supervisado supone que partimos de un conjunto de datos etiquetado previamente, es decir, conocemos el valor del atributo objetivo para el conjunto de datos que disponemos.\n",
        "\n",
        "La estimación de los precios se realizará mediante modelos de regresión.\n",
        "\n",
        "\n",
        "##Encodear datos categóricos a valores numéricos\n",
        "\n",
        "En seguida se encodearán los valores de las variables categóricas en valores numéricos."
      ]
    },
    {
      "cell_type": "code",
      "metadata": {
        "colab": {
          "base_uri": "https://localhost:8080/",
          "height": 202
        },
        "id": "lGE3QEwPmreX",
        "outputId": "61a9d4d3-16e7-429c-ee5d-da5329e98908"
      },
      "source": [
        "from sklearn.preprocessing import LabelEncoder\n",
        "\n",
        "encoder = LabelEncoder()\n",
        "\n",
        "dataset['Item_Fat_Content'] = encoder.fit_transform(dataset['Item_Fat_Content'])\n",
        "dataset['Item_Type'] = encoder.fit_transform(dataset['Item_Type'])\n",
        "dataset['Outlet_Size'] = encoder.fit_transform(dataset['Outlet_Size'])\n",
        "dataset['Outlet_Location_Type'] = encoder.fit_transform(dataset['Outlet_Location_Type'])\n",
        "dataset['Item_Identifier'] = encoder.fit_transform(dataset['Outlet_Location_Type'])\n",
        "dataset['Outlet_Identifier'] = encoder.fit_transform(dataset['Outlet_Location_Type'])\n",
        "dataset['Outlet_Type'] = encoder.fit_transform(dataset['Outlet_Type'])\n",
        "\n",
        "dataset.head()"
      ],
      "execution_count": null,
      "outputs": [
        {
          "output_type": "execute_result",
          "data": {
            "text/html": [
              "<div>\n",
              "<style scoped>\n",
              "    .dataframe tbody tr th:only-of-type {\n",
              "        vertical-align: middle;\n",
              "    }\n",
              "\n",
              "    .dataframe tbody tr th {\n",
              "        vertical-align: top;\n",
              "    }\n",
              "\n",
              "    .dataframe thead th {\n",
              "        text-align: right;\n",
              "    }\n",
              "</style>\n",
              "<table border=\"1\" class=\"dataframe\">\n",
              "  <thead>\n",
              "    <tr style=\"text-align: right;\">\n",
              "      <th></th>\n",
              "      <th>Item_Identifier</th>\n",
              "      <th>Item_Weight</th>\n",
              "      <th>Item_Fat_Content</th>\n",
              "      <th>Item_Visibility</th>\n",
              "      <th>Item_Type</th>\n",
              "      <th>Item_MRP</th>\n",
              "      <th>Outlet_Identifier</th>\n",
              "      <th>Outlet_Establishment_Year</th>\n",
              "      <th>Outlet_Size</th>\n",
              "      <th>Outlet_Location_Type</th>\n",
              "      <th>Outlet_Type</th>\n",
              "      <th>Item_Outlet_Sales</th>\n",
              "    </tr>\n",
              "  </thead>\n",
              "  <tbody>\n",
              "    <tr>\n",
              "      <th>0</th>\n",
              "      <td>0</td>\n",
              "      <td>9.30</td>\n",
              "      <td>0</td>\n",
              "      <td>0.016047</td>\n",
              "      <td>4</td>\n",
              "      <td>249.8092</td>\n",
              "      <td>0</td>\n",
              "      <td>1999</td>\n",
              "      <td>1</td>\n",
              "      <td>0</td>\n",
              "      <td>1</td>\n",
              "      <td>3735.1380</td>\n",
              "    </tr>\n",
              "    <tr>\n",
              "      <th>1</th>\n",
              "      <td>2</td>\n",
              "      <td>5.92</td>\n",
              "      <td>1</td>\n",
              "      <td>0.019278</td>\n",
              "      <td>14</td>\n",
              "      <td>48.2692</td>\n",
              "      <td>2</td>\n",
              "      <td>2009</td>\n",
              "      <td>1</td>\n",
              "      <td>2</td>\n",
              "      <td>2</td>\n",
              "      <td>443.4228</td>\n",
              "    </tr>\n",
              "    <tr>\n",
              "      <th>2</th>\n",
              "      <td>0</td>\n",
              "      <td>17.50</td>\n",
              "      <td>0</td>\n",
              "      <td>0.016760</td>\n",
              "      <td>10</td>\n",
              "      <td>141.6180</td>\n",
              "      <td>0</td>\n",
              "      <td>1999</td>\n",
              "      <td>1</td>\n",
              "      <td>0</td>\n",
              "      <td>1</td>\n",
              "      <td>2097.2700</td>\n",
              "    </tr>\n",
              "    <tr>\n",
              "      <th>3</th>\n",
              "      <td>2</td>\n",
              "      <td>19.20</td>\n",
              "      <td>1</td>\n",
              "      <td>0.000000</td>\n",
              "      <td>6</td>\n",
              "      <td>182.0950</td>\n",
              "      <td>2</td>\n",
              "      <td>1998</td>\n",
              "      <td>1</td>\n",
              "      <td>2</td>\n",
              "      <td>0</td>\n",
              "      <td>732.3800</td>\n",
              "    </tr>\n",
              "    <tr>\n",
              "      <th>4</th>\n",
              "      <td>2</td>\n",
              "      <td>8.93</td>\n",
              "      <td>0</td>\n",
              "      <td>0.000000</td>\n",
              "      <td>9</td>\n",
              "      <td>53.8614</td>\n",
              "      <td>2</td>\n",
              "      <td>1987</td>\n",
              "      <td>0</td>\n",
              "      <td>2</td>\n",
              "      <td>1</td>\n",
              "      <td>994.7052</td>\n",
              "    </tr>\n",
              "  </tbody>\n",
              "</table>\n",
              "</div>"
            ],
            "text/plain": [
              "   Item_Identifier  Item_Weight  ...  Outlet_Type  Item_Outlet_Sales\n",
              "0                0         9.30  ...            1          3735.1380\n",
              "1                2         5.92  ...            2           443.4228\n",
              "2                0        17.50  ...            1          2097.2700\n",
              "3                2        19.20  ...            0           732.3800\n",
              "4                2         8.93  ...            1           994.7052\n",
              "\n",
              "[5 rows x 12 columns]"
            ]
          },
          "metadata": {},
          "execution_count": 32
        }
      ]
    },
    {
      "cell_type": "markdown",
      "metadata": {
        "id": "K7mzR3rxSn2B"
      },
      "source": [
        "##Split del dataset"
      ]
    },
    {
      "cell_type": "code",
      "metadata": {
        "id": "NTHTXU2kSviN",
        "colab": {
          "base_uri": "https://localhost:8080/"
        },
        "outputId": "d9fa00d5-5c0d-4fa6-f11c-8f260ce48f73"
      },
      "source": [
        "from sklearn.model_selection import train_test_split\n",
        "from sklearn.metrics import mean_absolute_error as MAE\n",
        "from sklearn.metrics import mean_squared_error as MSE\n",
        "from sklearn.metrics import r2_score as R2\n",
        "\n",
        "values = dataset.drop(columns='Item_Outlet_Sales')\n",
        "target = dataset['Item_Outlet_Sales']\n",
        "x_train, x_test, y_train, y_test = train_test_split(values, target, test_size=0.30, random_state=0)\n",
        "print(x_train.shape, x_test.shape)"
      ],
      "execution_count": null,
      "outputs": [
        {
          "output_type": "stream",
          "name": "stdout",
          "text": [
            "(5966, 11) (2557, 11)\n"
          ]
        }
      ]
    },
    {
      "cell_type": "markdown",
      "metadata": {
        "id": "BekFhmn2ejgS"
      },
      "source": [
        "##Regresión Lasso"
      ]
    },
    {
      "cell_type": "markdown",
      "metadata": {
        "id": "4PkUk0IR4F6E"
      },
      "source": [
        "Se revisa el algoritmo modificando el alpha desde 0 hasta 0.5 observando que 0.01 nos refleja la mejor configuracion para pr4ediccion.\n",
        "El set de datos validamos la correlacion entre variables y notamos que las variables son independientes ademas intentamos quitar algunos feature y obtuvimos una degradacion en todas los algoritmos que probamos por lo tanto en caso de **Lasso** nos inclinamos por la configuracion siguiente y en conclusion no logramos tener un resultado bueno por que las prediccion alcanza 50%"
      ]
    },
    {
      "cell_type": "code",
      "metadata": {
        "id": "SbMlDe3beqtJ",
        "colab": {
          "base_uri": "https://localhost:8080/",
          "height": 365
        },
        "outputId": "2457d6c1-41f6-4122-bd25-675c6cb18128"
      },
      "source": [
        "from sklearn.linear_model import Lasso\n",
        "\n",
        "train_prec =  []\n",
        "eval_prec = []\n",
        "max_alpha_list = list(range(0, 50))\n",
        "\n",
        "for varAlpha in max_alpha_list:\n",
        "    lasso_model = Lasso(alpha = varAlpha / 100)\n",
        "    lasso_model.fit(x_train, y_train)\n",
        "    train_prec.append(lasso_model.score(x_train, y_train))\n",
        "    eval_prec.append(lasso_model.score(x_test, y_test))\n",
        "    y_pred = lasso_model.predict(x_test)\n",
        "\n",
        "lasso_model = Lasso(alpha = 0.01)\n",
        "lasso_model.fit(x_train, y_train)\n",
        "\n",
        "Lasso_MSE = round(MSE(y_test, y_pred), 2)\n",
        "Lasso_RMSE = round(math.sqrt(Lasso_MSE), 2)\n",
        "Lasso_MAE = round(MAE(y_test, y_pred), 2)\n",
        "Lasso_R_2 = round(R2(y_test, y_pred), 4)\n",
        "\n",
        "print(f\" Mean Squared Error: {Lasso_MSE}\")\n",
        "print(f\" Root Mean Squared Error: {Lasso_RMSE}\")\n",
        "print(f\" Mean Absolute Error: {Lasso_MAE}\")\n",
        "print(f\" R^2 Score: {Lasso_R_2}\")\n",
        "\n",
        "\n",
        "# graficar los resultados.\n",
        "plt.plot(max_alpha_list, train_prec, color='r', label='Entrenamiento')\n",
        "plt.plot(max_alpha_list, eval_prec, color='b', label='Test')\n",
        "plt.title('Grafico de Lasso')\n",
        "plt.legend()\n",
        "plt.ylabel('precision')\n",
        "plt.xlabel('Alphas')\n",
        "plt.show()"
      ],
      "execution_count": null,
      "outputs": [
        {
          "output_type": "stream",
          "name": "stdout",
          "text": [
            " Mean Squared Error: 1500283.41\n",
            " Root Mean Squared Error: 1224.86\n",
            " Mean Absolute Error: 927.27\n",
            " R^2 Score: 0.5073\n"
          ]
        },
        {
          "output_type": "display_data",
          "data": {
            "image/png": "[encoded data removed]",
            "text/plain": [
              "<Figure size 432x288 with 1 Axes>"
            ]
          },
          "metadata": {
            "needs_background": "light"
          }
        }
      ]
    },
    {
      "cell_type": "markdown",
      "metadata": {
        "id": "gmF1Qmy1elgr"
      },
      "source": [
        "##Regresión Árbol de Decisión"
      ]
    },
    {
      "cell_type": "markdown",
      "metadata": {
        "id": "KaIwsdrnhKOI"
      },
      "source": [
        "###Intento 1\n",
        "Se sobre ajusta por que el arbol se particiona cada hoja hasta el final teniendo un dato contenido con su hoja correspondiente sobre ajustandose al modelo de datos de entrenamiento y asi logra una precision de 100%"
      ]
    },
    {
      "cell_type": "code",
      "metadata": {
        "id": "_yV42wrrerGR",
        "colab": {
          "base_uri": "https://localhost:8080/"
        },
        "outputId": "ff935c37-fa97-42b7-b2a3-987c51c1ac96"
      },
      "source": [
        "#Sobreajuste - train alto y test bajo\n",
        "#SubAjuste - train y test bajos\n",
        "from sklearn.tree import DecisionTreeRegressor\n",
        "\n",
        "dt_model = DecisionTreeRegressor()\n",
        "dt_model.fit(x_train, y_train)\n",
        "\n",
        "y_pred = dt_model.predict(x_test)\n",
        "\n",
        "DT_MSE = round(MSE(y_test, y_pred), 2)\n",
        "DT_RMSE = round(math.sqrt(DT_MSE), 2)\n",
        "DT_MAE = round(MAE(y_test, y_pred), 2)\n",
        "DT_R_2 = round(R2(y_test, y_pred), 4)\n",
        "\n",
        "print(f\" Mean Squared Error: {DT_MSE}\")\n",
        "print(f\" Root Mean Squared Error: {DT_RMSE}\")\n",
        "print(f\" Mean Absolute Error: {DT_MAE}\")\n",
        "print(f\" R^2 Score: {DT_R_2}\")"
      ],
      "execution_count": null,
      "outputs": [
        {
          "output_type": "stream",
          "name": "stdout",
          "text": [
            " Mean Squared Error: 2397931.65\n",
            " Root Mean Squared Error: 1548.53\n",
            " Mean Absolute Error: 1097.73\n",
            " R^2 Score: 0.2125\n"
          ]
        }
      ]
    },
    {
      "cell_type": "markdown",
      "metadata": {
        "id": "5l9EEDp74--z"
      },
      "source": [
        "Para el caso de los arboles dejamos el ejemplo anterior para ver como funciona el algoritmo sin tocar sus hiperparametros y realmente le va muy mal cae en un sobreajuste total ya que sobre los datos de entrenamiento alcanza 100% de aciertos pero en el test le va super mal dando.\n",
        "\n",
        "Ahora modificando el dataset, repasando como hicimos con el algoritmo de Lazzo se valida correlacion de los datos, la imputacion se hace por medio de media y moda.\n",
        "\n",
        "Si exluimos algunos feature tenemos el mismo compartamiento de Lazzo, degrada la efectividad por lo que vemos la importancia de mantenerlos.\n",
        "\n",
        "Pero si notamos que la profundida correcta del arbol es de 5 para alcanzar una precision de casi 60%.\n",
        "\n",
        "Despues de estar modificando parametros y los datos determinamos que este setdatos es complicado tanto para Lazzo como Tree ya que no tenemos una efectividad alta."
      ]
    },
    {
      "cell_type": "markdown",
      "metadata": {
        "id": "2XZLvQMkhgqa"
      },
      "source": [
        "###Intento 2"
      ]
    },
    {
      "cell_type": "code",
      "metadata": {
        "colab": {
          "base_uri": "https://localhost:8080/",
          "height": 687
        },
        "id": "5kTBrHFfhjs8",
        "outputId": "5f92968b-a41b-425d-afab-54b57a5303ee"
      },
      "source": [
        "from sklearn.tree import plot_tree\n",
        "\n",
        "train_prec =  []\n",
        "eval_prec = []\n",
        "max_deep_list = list(range(1, 6))\n",
        "\n",
        "for deep in max_deep_list:\n",
        "    cls = DecisionTreeRegressor(max_depth=deep)\n",
        "    cls.fit(x_train, y_train)\n",
        "    train_prec.append(cls.score(x_train, y_train))\n",
        "    eval_prec.append(cls.score(x_test, y_test))\n",
        "    y_pred = cls.predict(x_test)\n",
        "\n",
        "\n",
        "\n",
        "# graficar los resultados.\n",
        "plt.plot(max_deep_list, train_prec, color='r', label='Entrenamiento')\n",
        "plt.plot(max_deep_list, eval_prec, color='b', label='Test')\n",
        "plt.title('Grafico de ajuste arbol de decision')\n",
        "plt.legend()\n",
        "plt.ylabel('precision')\n",
        "plt.xlabel('cant de nodos')\n",
        "plt.show()\n",
        "\n",
        "DT_MSE = round(MSE(y_test, y_pred), 2)\n",
        "DT_RMSE = round(math.sqrt(DT_MSE), 2)\n",
        "DT_MAE = round(MAE(y_test, y_pred), 2)\n",
        "DT_R_2 = round(R2(y_test, y_pred), 4)\n",
        "\n",
        "print(f\" Mean Squared Error: {DT_MSE}\")\n",
        "print(f\" Root Mean Squared Error: {DT_RMSE}\")\n",
        "print(f\" Mean Absolute Error: {DT_MAE}\")\n",
        "print(f\" R^2 Score: {DT_R_2}\")\n",
        "\n",
        "# Estructura del árbol creado\n",
        "fig, ax = plt.subplots(figsize=(12, 5))\n",
        "\n",
        "print(f\"Profundidad del árbol: {cls.get_depth()}\")\n",
        "print(f\"Número de nodos terminales: {cls.get_n_leaves()}\")\n",
        "\n",
        "plot = plot_tree(\n",
        "            decision_tree = cls,\n",
        "            max_depth     = 2,\n",
        "            filled        = True,\n",
        "            impurity      = False,\n",
        "            fontsize      = 10,\n",
        "            precision     = 2,\n",
        "            ax            = ax\n",
        "       )"
      ],
      "execution_count": null,
      "outputs": [
        {
          "output_type": "display_data",
          "data": {
            "image/png": "[encoded data removed]",
            "text/plain": [
              "<Figure size 432x288 with 1 Axes>"
            ]
          },
          "metadata": {
            "needs_background": "light"
          }
        },
        {
          "output_type": "stream",
          "name": "stdout",
          "text": [
            " Mean Squared Error: 1265399.79\n",
            " Root Mean Squared Error: 1124.9\n",
            " Mean Absolute Error: 791.36\n",
            " R^2 Score: 0.5844\n",
            "Profundidad del árbol: 5\n",
            "Número de nodos terminales: 32\n"
          ]
        },
        {
          "output_type": "display_data",
          "data": {
            "image/png": "[encoded data removed]",
            "text/plain": [
              "<Figure size 864x360 with 1 Axes>"
            ]
          },
          "metadata": {
            "needs_background": "light"
          }
        }
      ]
    },
    {
      "cell_type": "markdown",
      "metadata": {
        "id": "s66O_IgSeogw"
      },
      "source": [
        "##Regresión KNN"
      ]
    },
    {
      "cell_type": "markdown",
      "metadata": {
        "id": "qAq8ziGw6kKX"
      },
      "source": [
        "Para este caso sometemos las mismas pruebas que los anteriores y corremos un for sobre el hiperparametro de K en lo que localizamos que ajustandolo al valor 6 logramos la mejor efectivadad de 46% por que despues de ese valor se comienza a degradar, a este punto viendo que de los 3 modelos usados lo mejor logrado es un 60% nos damos cuenta que estamos lejos del objetivo de tener un buen modelo predictivo para las ventas. Los datos son complicados para que el modelo pueda ser efectivo. Nos faltan feature mas representativos sobre las ventas y evitar el grado de imputaciones que tuvimos que realizarle al dataset"
      ]
    },
    {
      "cell_type": "code",
      "metadata": {
        "id": "26jX2MRwerku",
        "colab": {
          "base_uri": "https://localhost:8080/",
          "height": 1000
        },
        "outputId": "e3b17e09-3924-48c6-db9f-70f10d80e648"
      },
      "source": [
        "from sklearn.neighbors import KNeighborsRegressor\n",
        "\n",
        "train_prec =  []\n",
        "eval_prec = []    \n",
        "max_k_list = list(range(1, 10))\n",
        "\n",
        "for K in max_k_list:\n",
        "  knn_model = KNeighborsRegressor(n_neighbors = K)\n",
        "  knn_model.fit(x_train, y_train)\n",
        "  train_prec.append(knn_model.score(x_train, y_train))\n",
        "  eval_prec.append(knn_model.score(x_test, y_test))\n",
        "  y_pred = knn_model.predict(x_test)\n",
        "\n",
        "  KNN_MSE = round(MSE(y_test, y_pred), 2)\n",
        "  KNN_RMSE = round(math.sqrt(KNN_MSE), 2)\n",
        "  KNN_MAE = round(MAE(y_test, y_pred), 2)\n",
        "  KNN_R_2 = round(R2(y_test, y_pred), 4)\n",
        "\n",
        "  print(\"\\nK = \", K)\n",
        "  print(f\" Mean Squared Error: {KNN_MSE}\")\n",
        "  print(f\" Root Mean Squared Error: {KNN_RMSE}\")\n",
        "  print(f\" Mean Absolute Error: {KNN_MAE}\")\n",
        "  print(f\" R^2 Score: {KNN_R_2}\")\n",
        "\n",
        "# graficar los resultados.\n",
        "plt.plot(max_k_list, train_prec, color='r', label='Entrenamiento')\n",
        "plt.plot(max_k_list, eval_prec, color='b', label='Test')\n",
        "plt.title('Grafico de KNN')\n",
        "plt.legend()\n",
        "plt.ylabel('precision')\n",
        "plt.xlabel('K')\n",
        "plt.show()"
      ],
      "execution_count": null,
      "outputs": [
        {
          "output_type": "stream",
          "name": "stdout",
          "text": [
            "\n",
            "K =  1\n",
            " Mean Squared Error: 2529442.95\n",
            " Root Mean Squared Error: 1590.42\n",
            " Mean Absolute Error: 1097.06\n",
            " R^2 Score: 0.1693\n",
            "\n",
            "K =  2\n",
            " Mean Squared Error: 1934255.97\n",
            " Root Mean Squared Error: 1390.78\n",
            " Mean Absolute Error: 972.32\n",
            " R^2 Score: 0.3648\n",
            "\n",
            "K =  3\n",
            " Mean Squared Error: 1757050.57\n",
            " Root Mean Squared Error: 1325.54\n",
            " Mean Absolute Error: 939.99\n",
            " R^2 Score: 0.423\n",
            "\n",
            "K =  4\n",
            " Mean Squared Error: 1696958.48\n",
            " Root Mean Squared Error: 1302.67\n",
            " Mean Absolute Error: 924.93\n",
            " R^2 Score: 0.4427\n",
            "\n",
            "K =  5\n",
            " Mean Squared Error: 1656266.46\n",
            " Root Mean Squared Error: 1286.96\n",
            " Mean Absolute Error: 924.2\n",
            " R^2 Score: 0.4561\n",
            "\n",
            "K =  6\n",
            " Mean Squared Error: 1632426.33\n",
            " Root Mean Squared Error: 1277.66\n",
            " Mean Absolute Error: 922.61\n",
            " R^2 Score: 0.4639\n",
            "\n",
            "K =  7\n",
            " Mean Squared Error: 1638166.03\n",
            " Root Mean Squared Error: 1279.91\n",
            " Mean Absolute Error: 930.64\n",
            " R^2 Score: 0.462\n",
            "\n",
            "K =  8\n",
            " Mean Squared Error: 1621380.09\n",
            " Root Mean Squared Error: 1273.33\n",
            " Mean Absolute Error: 932.03\n",
            " R^2 Score: 0.4675\n",
            "\n",
            "K =  9\n",
            " Mean Squared Error: 1654016.66\n",
            " Root Mean Squared Error: 1286.09\n",
            " Mean Absolute Error: 943.81\n",
            " R^2 Score: 0.4568\n"
          ]
        },
        {
          "output_type": "display_data",
          "data": {
            "image/png": "[encoded data removed]",
            "text/plain": [
              "<Figure size 432x288 with 1 Axes>"
            ]
          },
          "metadata": {
            "needs_background": "light"
          }
        }
      ]
    },
    {
      "cell_type": "markdown",
      "metadata": {
        "id": "DR09_IDJexHh"
      },
      "source": [
        "##Método de emsamble **AdaBoostRegressor**"
      ]
    },
    {
      "cell_type": "markdown",
      "metadata": {
        "id": "xfk75SWjA_qJ"
      },
      "source": [
        "Un regresor AdaBoost es un metaestimador que comienza ajustando un regresor en el conjunto de datos original y luego ajusta copias adicionales del regresor en el mismo conjunto de datos, pero donde los pesos de las instancias se ajustan según el error de la predicción actual. Como tal, los regresores posteriores se enfocan más en casos difíciles. Esta clase implementa el algoritmo conocido como AdaBoost.\n",
        "\n",
        "Obtenemos un resultado muy parecido al de los demas algoritmo ajustando el estimador a 6 y que perdida este dada por funcion exponencial\n",
        "\n",
        "Logramos 57% de efectividad en el modelo por lo tanto ya cambiando varias metricas desde seleccion de feature, imputacion de datos y hiperparametros determinamos que con el set de datos que tenemos logramos maximo un precision de 60% con modelos de Tree ademas los tree tiene una velosidad mucho mayor de ejecucion del algortimo"
      ]
    },
    {
      "cell_type": "code",
      "metadata": {
        "id": "PVf7aZd5e0R7",
        "colab": {
          "base_uri": "https://localhost:8080/",
          "height": 472
        },
        "outputId": "f341d300-bd5f-45a4-f519-c9640682ecaf"
      },
      "source": [
        "from sklearn.ensemble import AdaBoostRegressor\n",
        "\n",
        "train_prec =  []\n",
        "eval_prec = []    \n",
        "max_estimators_list = list(range(1, 30))\n",
        "\n",
        "for estimators in max_estimators_list:\n",
        "  regr = AdaBoostRegressor(random_state=0, n_estimators=estimators , learning_rate = 1, loss = 'exponential')\n",
        "  regr.fit(x_train, y_train)\n",
        "  train_prec.append(regr.score(x_train, y_train))\n",
        "  eval_prec.append(regr.score(x_test, y_test))\n",
        "  y_pred = regr.predict(x_test)\n",
        "\n",
        "  KNN_MSE = round(MSE(y_test, y_pred), 2)\n",
        "  KNN_RMSE = round(math.sqrt(KNN_MSE), 2)\n",
        "  KNN_MAE = round(MAE(y_test, y_pred), 2)\n",
        "  KNN_R_2 = round(R2(y_test, y_pred), 4)\n",
        "\n",
        "print(\"\\nestimators = \", estimators)\n",
        "print(f\" Mean Squared Error: {KNN_MSE}\")\n",
        "print(f\" Root Mean Squared Error: {KNN_RMSE}\")\n",
        "print(f\" Mean Absolute Error: {KNN_MAE}\")\n",
        "print(f\" R^2 Score: {KNN_R_2}\")\n",
        "\n",
        "# graficar los resultados.\n",
        "plt.plot(max_estimators_list, train_prec, color='r', label='Entrenamiento')\n",
        "plt.plot(max_estimators_list, eval_prec, color='b', label='Test')\n",
        "plt.title('Grafico de AdaBoostRegressor')\n",
        "plt.legend()\n",
        "plt.ylabel('precision')\n",
        "plt.xlabel('estimators')\n",
        "plt.show()\n",
        "\n",
        "regr = AdaBoostRegressor(random_state=0, n_estimators=6, learning_rate = 1, loss = 'exponential')\n",
        "regr.fit(x_train, y_train)\n",
        "y_pred = regr.predict(x_test)\n",
        "\n",
        "KNN_MSE = round(MSE(y_test, y_pred), 2)\n",
        "KNN_RMSE = round(math.sqrt(KNN_MSE), 2)\n",
        "KNN_MAE = round(MAE(y_test, y_pred), 2)\n",
        "KNN_R_2 = round(R2(y_test, y_pred), 4)\n",
        "\n",
        "print(f\" Mean Squared Error: {KNN_MSE}\")\n",
        "print(f\" Root Mean Squared Error: {KNN_RMSE}\")\n",
        "print(f\" Mean Absolute Error: {KNN_MAE}\")\n",
        "print(f\" R^2 Score: {KNN_R_2}\")"
      ],
      "execution_count": null,
      "outputs": [
        {
          "output_type": "stream",
          "name": "stdout",
          "text": [
            "\n",
            "estimators =  29\n",
            " Mean Squared Error: 1641919.34\n",
            " Root Mean Squared Error: 1281.37\n",
            " Mean Absolute Error: 1041.01\n",
            " R^2 Score: 0.4608\n"
          ]
        },
        {
          "output_type": "display_data",
          "data": {
            "image/png": "[encoded data removed]",
            "text/plain": [
              "<Figure size 432x288 with 1 Axes>"
            ]
          },
          "metadata": {
            "needs_background": "light"
          }
        },
        {
          "output_type": "stream",
          "name": "stdout",
          "text": [
            " Mean Squared Error: 1297066.91\n",
            " Root Mean Squared Error: 1138.89\n",
            " Mean Absolute Error: 839.38\n",
            " R^2 Score: 0.574\n"
          ]
        }
      ]
    }
  ]
}