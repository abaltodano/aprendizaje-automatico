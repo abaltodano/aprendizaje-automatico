{
  "nbformat": 4,
  "nbformat_minor": 0,
  "metadata": {
    "colab": {
      "name": "Tarea-1.ipynb",
      "provenance": [],
      "collapsed_sections": []
    },
    "kernelspec": {
      "name": "python3",
      "display_name": "Python 3"
    },
    "language_info": {
      "name": "python"
    }
  },
  "cells": [
    {
      "cell_type": "markdown",
      "metadata": {
        "id": "MwFHj38_nqoy"
      },
      "source": [
        "# Tarea # 1 - Aprendizaje Automático\n",
        "\n",
        "Alejandro Baltodano Madrigal, carné: 200928915\n",
        "\n",
        "Fernando González Mata, cédula: 115400523"
      ]
    },
    {
      "cell_type": "markdown",
      "metadata": {
        "id": "wtNU97WNc96c"
      },
      "source": [
        "Cree un ambiente de trabajo (.ipynb) basado en PYTHON3 y llamarle Tarea-1.ipynb, además debe contener las librerías: numpy, matplotlib, scikit-learn, pandas, jupyter notebook como mínimo, puede agregar las que considere necesario. El objetivo de esta Tarea 1 consiste en normalizar y estandarizar el set de datos de `daily-min-temperatures.csv` de forma manual y automática a partir de scikit-learn o la librería que considere apropiada. El entregable consiste en el url de la notebook Tarea-1.ipynb en GITHUB. Subir al TEC Digital un archivo .txt simple con el url a más tardar el día acordado en clase e\n",
        "indicado en el TEC Digital, envíos pasado el límite de entrega se aplicará la penalización discutida en clase."
      ]
    },
    {
      "cell_type": "markdown",
      "metadata": {
        "id": "Nrki88_meWJv"
      },
      "source": [
        "#### Carga de datos\n",
        "\n",
        "El archivo `daily-min-temperatures.csv` un registro de las temperaturas diarias de algún lugar desde el 1 de enero de 1981 hasta el 31 de diciembre de 1990. Como parte del ejercicio se solicita normalizar y estandarizar los valores de las temperaturas.\n",
        "\n",
        "Para la carga de datos se utiliza la biblioteca pandas para cargar en un DataFrame los datos del archivo CSV. Una vez cargados en memoria se obtienen únicamente los valores numéricos de temperatura de cada día."
      ]
    },
    {
      "cell_type": "code",
      "metadata": {
        "id": "alo_hXXCng02"
      },
      "source": [
        "import pandas as pd\n",
        "import numpy as np\n",
        "import matplotlib.pyplot as plt\n",
        "from sklearn.preprocessing import MinMaxScaler\n",
        "from sklearn.preprocessing import StandardScaler\n",
        "\n",
        "#Importar datos desde un archivo CSV a un DataFrame\n",
        "dataset = pd.read_csv('daily-min-temperatures.csv').to_numpy()\n",
        "\n",
        "#Trasponer solo columna numérica a matriz\n",
        "dataset_T = np.array([dataset[:,1]]).T"
      ],
      "execution_count": 33,
      "outputs": []
    },
    {
      "cell_type": "markdown",
      "metadata": {
        "id": "SBpzl3zFfLM4"
      },
      "source": [
        "#### Normalización de los datos\n",
        "\n",
        "La normalización de los datos se realiza con la biblioteca `scikit-learn` y a través de una normalización manual basada en aritmética básica. En el siguiente fragmento de código se puede apreciar el cálculo de ambos métodos.\n",
        "\n",
        "A su vez se presenta un histograma comparando los cambios entre los datos crudos y las dos normalizaciones aplicadas en este ejemplo.\n"
      ]
    },
    {
      "cell_type": "code",
      "metadata": {
        "colab": {
          "base_uri": "https://localhost:8080/",
          "height": 554
        },
        "id": "t7DBQ-DHfQGK",
        "outputId": "c1894cbc-98ed-4a9b-b9fd-3c95d4cabe47"
      },
      "source": [
        "#Normalizar con sklearn\n",
        "scaler = MinMaxScaler()\n",
        "normDatasetSklearn = scaler.fit_transform(dataset_T)\n",
        "\n",
        "print('Normalizar con sklearn\\n', normDatasetSklearn)\n",
        "\n",
        "#Normalizar con funcion\n",
        "def normalized(dataset):\n",
        "  normalized = (dataset - np.min(dataset)) / (np.max(dataset) - np.min(dataset))\n",
        "  return np.array([normalized]).T\n",
        "\n",
        "normDatasetManual = normalized(dataset[:,1])\n",
        "print('\\nNormalizar con función\\n', normDatasetManual)\n",
        "\n",
        "bins = np.linspace(0, 27, 100)\n",
        "\n",
        "plt.hist(normDatasetManual, bins, alpha=0.5, label='norm. data manual')\n",
        "plt.hist(normDatasetSklearn, bins, alpha=0.5, label='norm. data sklearn')\n",
        "plt.hist(dataset_T, bins, alpha=0.5, label='raw data')\n",
        "plt.legend(loc='upper right')\n",
        "plt.show()"
      ],
      "execution_count": 35,
      "outputs": [
        {
          "output_type": "stream",
          "name": "stdout",
          "text": [
            "Normalizar con sklearn\n",
            " [[0.78707224]\n",
            " [0.68060837]\n",
            " [0.7148289 ]\n",
            " ...\n",
            " [0.51330798]\n",
            " [0.59695817]\n",
            " [0.49429658]]\n",
            "\n",
            "Normalizar con función\n",
            " [[0.7870722433460076]\n",
            " [0.6806083650190113]\n",
            " [0.714828897338403]\n",
            " ...\n",
            " [0.5133079847908745]\n",
            " [0.596958174904943]\n",
            " [0.49429657794676807]]\n"
          ]
        },
        {
          "output_type": "display_data",
          "data": {
            "image/png": "[encoded data removed]",
            "text/plain": [
              "<Figure size 432x288 with 1 Axes>"
            ]
          },
          "metadata": {
            "needs_background": "light"
          }
        }
      ]
    },
    {
      "cell_type": "markdown",
      "metadata": {
        "id": "DVqWdRQNf7Xp"
      },
      "source": [
        "#### Estandarización de los datos"
      ]
    },
    {
      "cell_type": "code",
      "metadata": {
        "colab": {
          "base_uri": "https://localhost:8080/",
          "height": 571
        },
        "id": "AVfDv7nqf8Lm",
        "outputId": "04faa3b2-dc43-4368-dcd8-41cbcba0bef4"
      },
      "source": [
        "#Estandarizar con sklearn\n",
        "scaler = StandardScaler()\n",
        "standDatasetSklearn = scaler.fit_transform(dataset_T)\n",
        "print('\\nEstandarizar con sklearn\\n', standDatasetSklearn)\n",
        "\n",
        "#Estandarizar con funcion\n",
        "def standardize(dataset):\n",
        "  standardize = (dataset - np.mean(dataset)) / np.std(dataset)\n",
        "  return np.array([standardize]).T\n",
        "\n",
        "standDatasetManual = standardize(dataset[:,1])\n",
        "print('\\nEstandarizar con función\\n', standDatasetManual)\n",
        "\n",
        "plt.hist(standDatasetSklearn, bins, alpha=0.5, label='stand. data manual')\n",
        "plt.hist(standDatasetManual, bins, alpha=0.5, label='stand. data sklearn')\n",
        "plt.hist(dataset_T, bins, alpha=0.5, label='raw data')\n",
        "plt.legend(loc='upper right')\n",
        "plt.show()"
      ],
      "execution_count": 36,
      "outputs": [
        {
          "output_type": "stream",
          "name": "stdout",
          "text": [
            "\n",
            "Estandarizar con sklearn\n",
            " [[2.33888328]\n",
            " [1.65113873]\n",
            " [1.87219948]\n",
            " ...\n",
            " [0.5703973 ]\n",
            " [1.11076801]\n",
            " [0.44758577]]\n",
            "\n",
            "Estandarizar con función\n",
            " [[2.338883284392757]\n",
            " [1.6511387333056415]\n",
            " [1.8721994818693577]\n",
            " ...\n",
            " [0.5703972958830327]\n",
            " [1.110768014594337]\n",
            " [0.4475857689031907]]\n"
          ]
        },
        {
          "output_type": "display_data",
          "data": {
            "image/png": "[encoded data removed]",
            "text/plain": [
              "<Figure size 432x288 with 1 Axes>"
            ]
          },
          "metadata": {
            "needs_background": "light"
          }
        }
      ]
    },
    {
      "cell_type": "markdown",
      "metadata": {
        "id": "X2JKP1rQjR3h"
      },
      "source": [
        "En el histograma siguiente se comparan los valores entre los datos normalizados y los datos estandarizados."
      ]
    },
    {
      "cell_type": "code",
      "metadata": {
        "colab": {
          "base_uri": "https://localhost:8080/",
          "height": 265
        },
        "id": "tNvwgHGMjZBI",
        "outputId": "81306a1a-bd5c-4ff3-bdad-ab4da52e52fe"
      },
      "source": [
        "plt.hist(normDatasetSklearn, bins, alpha=0.5, label='norm. data manual')\n",
        "plt.hist(standDatasetManual, bins, alpha=0.5, label='stand. data sklearn')\n",
        "plt.hist(dataset_T, bins, alpha=0.5, label='raw data')\n",
        "plt.legend(loc='upper right')\n",
        "plt.show()"
      ],
      "execution_count": 37,
      "outputs": [
        {
          "output_type": "display_data",
          "data": {
            "image/png": "[encoded data removed]",
            "text/plain": [
              "<Figure size 432x288 with 1 Axes>"
            ]
          },
          "metadata": {
            "needs_background": "light"
          }
        }
      ]
    }
  ]
}